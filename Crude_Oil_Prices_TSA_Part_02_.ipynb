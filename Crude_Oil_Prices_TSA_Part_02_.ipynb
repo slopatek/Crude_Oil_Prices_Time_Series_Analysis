{
  "nbformat": 4,
  "nbformat_minor": 0,
  "metadata": {
    "colab": {
      "provenance": [],
      "toc_visible": true,
      "authorship_tag": "ABX9TyN6mR2BHUko560nMOOP//mE",
      "include_colab_link": true
    },
    "kernelspec": {
      "name": "python3",
      "display_name": "Python 3"
    },
    "language_info": {
      "name": "python"
    },
    "accelerator": "GPU",
    "gpuClass": "standard"
  },
  "cells": [
    {
      "cell_type": "markdown",
      "metadata": {
        "id": "view-in-github",
        "colab_type": "text"
      },
      "source": [
        "<a href=\"https://colab.research.google.com/github/slopatek/Crude_Oil_Prices_Time_Series_Analysis/blob/main/Crude_Oil_Prices_TSA_Part_02_.ipynb\" target=\"_parent\"><img src=\"https://colab.research.google.com/assets/colab-badge.svg\" alt=\"Open In Colab\"/></a>"
      ]
    },
    {
      "cell_type": "markdown",
      "source": [
        "#**Crude Oil Prices - Time Series Analysis (Part 2)**\n",
        "\n",
        "The ultimate objective is to model crude oil prices using machine learning techniues. In part 1 my focus was on SARIMA & ETS models while here I will turn to some of the deep learning modelling experiments in order to test their potential... still in a univariate setup."
      ],
      "metadata": {
        "id": "MmQDiudckXZp"
      }
    },
    {
      "cell_type": "markdown",
      "source": [
        "# **Preparing the ground**\n",
        "\n",
        "Let's import usual suspects, code some useful functions and eventually download the data, that we will work with...."
      ],
      "metadata": {
        "id": "uojExUbZeszP"
      }
    },
    {
      "cell_type": "markdown",
      "source": [
        "##**Required imports**"
      ],
      "metadata": {
        "id": "BioVskalkO2U"
      }
    },
    {
      "cell_type": "code",
      "source": [
        "import numpy as np\n",
        "import pandas as pd\n",
        "import matplotlib.pyplot as plt\n",
        "plt.style.use(\"ggplot\")\n",
        "import tensorflow as tf\n",
        "from tensorflow.keras import layers\n",
        "import os\n",
        "import datetime as dt\n",
        "from timeit import default_timer as timer "
      ],
      "metadata": {
        "id": "B8ypEUYBbrVb"
      },
      "execution_count": 3,
      "outputs": []
    },
    {
      "cell_type": "markdown",
      "source": [
        "\n",
        "## **GPU check**\n",
        "\n",
        "Let's see if we have access to some hardware accelerator.\n"
      ],
      "metadata": {
        "id": "4MJGzWzHCe0t"
      }
    },
    {
      "cell_type": "code",
      "source": [
        "!nvidia-smi -L"
      ],
      "metadata": {
        "colab": {
          "base_uri": "https://localhost:8080/"
        },
        "id": "yFgUu6UzCpcM",
        "outputId": "72b24c1d-3446-4e4b-c873-9a0ccd5f982c"
      },
      "execution_count": 4,
      "outputs": [
        {
          "output_type": "stream",
          "name": "stdout",
          "text": [
            "GPU 0: Tesla T4 (UUID: GPU-cca949a5-e17e-28b4-5f81-78e2cdb21b90)\n"
          ]
        }
      ]
    },
    {
      "cell_type": "markdown",
      "metadata": {
        "id": "to7ezVTIkfnA"
      },
      "source": [
        "##**Useful functions**\n",
        "\n",
        "The following functions might turn out to be useful at a later stage."
      ]
    },
    {
      "cell_type": "code",
      "source": [
        "def scatter_ts(timesteps, values, start=0, end=None, label=None, chart_title=None, size = 10, color = \"red\"): #'#E50000'\n",
        "  plt.scatter(timesteps[start:end], values[start:end], c = color, s = size, label=label)\n",
        "  plt.xlabel(\"Date\")\n",
        "  plt.ylabel(\"Brent Price (USD/bbl)\")\n",
        "  if label:\n",
        "    plt.legend(fontsize=12)\n",
        "  plt.title(chart_title)\n",
        "  plt.grid(True)\n",
        "\n",
        "def calculate_mase(y_true, y_pred):\n",
        "  mae = tf.reduce_mean(tf.abs(y_true - y_pred))\n",
        "  naive_mae = tf.reduce_mean(tf.abs(y_true[1:] - y_true[:-1]))\n",
        "  return mae / naive_mae\n",
        "\n",
        "def assess_preds(y_true, y_pred):\n",
        "  y_true = tf.squeeze(tf.cast(y_true, dtype=tf.float32))\n",
        "  y_pred = tf.squeeze(tf.cast(y_pred, dtype=tf.float32))\n",
        "  mse = (tf.keras.metrics.mean_squared_error(y_true, y_pred)).numpy()\n",
        "  rmse = (tf.sqrt(mse)).numpy()\n",
        "  mae = (tf.keras.metrics.mean_absolute_error(y_true, y_pred)).numpy()  \n",
        "  mape = (tf.keras.metrics.mean_absolute_percentage_error(y_true, y_pred)).numpy()\n",
        "  mase = (calculate_mase(y_true, y_pred)).numpy() \n",
        "  error_dict = {\"error_type\":[\"mse\", \"rmse\",\"mae\", \"mape\", \"mase\"],\n",
        "                \"error_value\":[mse, rmse, mae, mape, mase]}\n",
        "  error_df = pd.DataFrame(error_dict[\"error_value\"], index = error_dict[\"error_type\"], columns=[\"error\"])\n",
        "  return np.round(error_df,3)\n",
        "\n",
        "def vectorized_split_sequence(sequence, steps_in, steps_out):\n",
        "  if type(sequence) != np.ndarray:\n",
        "    sequence = np.array(sequence)\n",
        "  window_step = np.expand_dims(np.arange(steps_in), axis = 0)\n",
        "  horizon_step = np.expand_dims(np.arange(steps_in, steps_in + steps_out), axis = 0)\n",
        "  window_indexes = window_step + np.expand_dims(np.arange(len(sequence)-(steps_in + steps_out - 1)), axis = 1)\n",
        "  horizon_indexes = horizon_step + np.expand_dims(np.arange(len(sequence)-(steps_in + steps_out - 1)), axis = 1)\n",
        "  return sequence[window_indexes], sequence[horizon_indexes]\n",
        "\n",
        "def create_checkpoint(name, path = \"models_tried\"):\n",
        "  return tf.keras.callbacks.ModelCheckpoint(filepath=os.path.join(path, name),\n",
        "                                            verbose=0,\n",
        "                                            save_best_only=True)\n",
        "  \n",
        "def assess_predictions(actual_data, predicted_data):\n",
        "  actual_data = tf.squeeze(tf.cast(actual_data, dtype = tf.float32))\n",
        "  predicted_data = tf.squeeze(tf.cast(predicted_data, dtype=tf.float32))\n",
        "  pred_error = np.round(tf.sqrt(tf.keras.metrics.mean_squared_error(actual_data, predicted_data)),3)\n",
        "  return pred_error\n",
        "\n",
        "def train_test_splitting(data, test_percent = 0.2):\n",
        "  test_size = int(len(data) * test_percent)\n",
        "  return data[:-test_size], data[-test_size:]"
      ],
      "metadata": {
        "id": "vVg4H5PnXnBj"
      },
      "execution_count": 5,
      "outputs": []
    },
    {
      "cell_type": "markdown",
      "source": [
        "##**Data retrieval**\n",
        "\n",
        "Two major crude oil futures contracts are WTI (West Texas Intermediate) traded on NYMEX (New York Mercantile Exchange) and Brent traded on ICE (InterContinental Exchange) in London. Just like in part 1, we will choose to work with the latter one."
      ],
      "metadata": {
        "id": "8yV5ThjakwAi"
      }
    },
    {
      "cell_type": "code",
      "source": [
        "!wget https://raw.githubusercontent.com/slopatek/Crude_Oil_Prices_Time_Series_Analysis/main/ICE_Brent.csv\n",
        "brent = pd.read_csv(\"ICE_Brent.csv\", sep = \";\", usecols = [\"Date\", \"Close\"], index_col = \"Date\", parse_dates = True)\n",
        "brent[\"Close\"] = brent[\"Close\"].str.replace(',', '.').astype(\"float64\")\n",
        "print(\"\\n\",\"#\"*100, \"\\n\")\n",
        "brent.info()"
      ],
      "metadata": {
        "id": "WR7-WijGBZQ3",
        "colab": {
          "base_uri": "https://localhost:8080/"
        },
        "outputId": "5fda03ac-7bd9-472f-9059-a1b0086de5cc"
      },
      "execution_count": 6,
      "outputs": [
        {
          "output_type": "stream",
          "name": "stdout",
          "text": [
            "--2023-02-08 11:53:13--  https://raw.githubusercontent.com/slopatek/Crude_Oil_Prices_Time_Series_Analysis/main/ICE_Brent.csv\n",
            "Resolving raw.githubusercontent.com (raw.githubusercontent.com)... 185.199.108.133, 185.199.109.133, 185.199.110.133, ...\n",
            "Connecting to raw.githubusercontent.com (raw.githubusercontent.com)|185.199.108.133|:443... connected.\n",
            "HTTP request sent, awaiting response... 200 OK\n",
            "Length: 314098 (307K) [text/plain]\n",
            "Saving to: ‘ICE_Brent.csv’\n",
            "\n",
            "ICE_Brent.csv       100%[===================>] 306.74K  --.-KB/s    in 0.004s  \n",
            "\n",
            "2023-02-08 11:53:14 (75.0 MB/s) - ‘ICE_Brent.csv’ saved [314098/314098]\n",
            "\n",
            "\n",
            " #################################################################################################### \n",
            "\n",
            "<class 'pandas.core.frame.DataFrame'>\n",
            "DatetimeIndex: 8833 entries, 1988-06-24 to 2023-01-23\n",
            "Data columns (total 1 columns):\n",
            " #   Column  Non-Null Count  Dtype  \n",
            "---  ------  --------------  -----  \n",
            " 0   Close   8833 non-null   float64\n",
            "dtypes: float64(1)\n",
            "memory usage: 138.0 KB\n"
          ]
        }
      ]
    },
    {
      "cell_type": "markdown",
      "source": [
        "All right, we have some 9k of data at our disposal."
      ],
      "metadata": {
        "id": "8-qZ2sX0Tbp6"
      }
    },
    {
      "cell_type": "markdown",
      "source": [
        "##**Price history**"
      ],
      "metadata": {
        "id": "dfa3AIJ0lPsI"
      }
    },
    {
      "cell_type": "markdown",
      "source": [
        "Visualizing price behavior since 1988"
      ],
      "metadata": {
        "id": "mqEb-wp0ucCh"
      }
    },
    {
      "cell_type": "code",
      "source": [
        "# plt.style.use(\"ggplot\")\n",
        "brent.Close.plot(figsize=(15,6), label = \"Front month prices\")\n",
        "plt.title(\"ICE Brent - crude oil futures\")\n",
        "plt.ylabel(\"USD / bbl\")\n",
        "plt.xlabel(\"Dates\")\n",
        "plt.legend();"
      ],
      "metadata": {
        "colab": {
          "base_uri": "https://localhost:8080/",
          "height": 387
        },
        "id": "Gc6GDgj2g0hV",
        "outputId": "bc3b1dd7-a8b3-4e96-ab14-ad424bbe83c1"
      },
      "execution_count": null,
      "outputs": [
        {
          "output_type": "display_data",
          "data": {
            "text/plain": [
              "<Figure size 1080x432 with 1 Axes>"
            ],
            "image/png": "[encoded data removed]"
          },
          "metadata": {}
        }
      ]
    },
    {
      "cell_type": "markdown",
      "source": [
        "## **Train / Test split**\n",
        "\n",
        "If we hadn't dealt with time series, we would certainly use famous train_test_split from sklearn.model_selection but modelling of time series requires a dedicated approach. In simple terms it comes down to curving a train set up to a certain cutt-off point while the remaining data points constitute a test set."
      ],
      "metadata": {
        "id": "PpNohqE0D6v4"
      }
    },
    {
      "cell_type": "code",
      "source": [
        "start_date = dt.date(2008, 1, 1) \n",
        "end_date = dt.date(2023, 1, 1)\n",
        "brent_subset = brent.loc[start_date:end_date].copy()\n",
        "brent_train, brent_test = train_test_splitting(brent_subset.Close)"
      ],
      "metadata": {
        "id": "EcOwPm2lMJ0-"
      },
      "execution_count": 7,
      "outputs": []
    },
    {
      "cell_type": "code",
      "source": [
        "brent_train.shape, brent_test.shape"
      ],
      "metadata": {
        "colab": {
          "base_uri": "https://localhost:8080/"
        },
        "id": "3TYqaBtBgMcO",
        "outputId": "a1cac760-9aed-47aa-d9b9-dddeb8992fa6"
      },
      "execution_count": 8,
      "outputs": [
        {
          "output_type": "execute_result",
          "data": {
            "text/plain": [
              "((3100,), (774,))"
            ]
          },
          "metadata": {},
          "execution_count": 8
        }
      ]
    },
    {
      "cell_type": "markdown",
      "source": [
        "All right. We've got 3100 samples in our train set and 774 samples in our test set. Let's visualize the split over the most recent 15 years..."
      ],
      "metadata": {
        "id": "J9lyC9q2IxEG"
      }
    },
    {
      "cell_type": "code",
      "source": [
        "plt.figure(figsize=(15, 7))\n",
        "scatter_ts(timesteps=brent_train.index, values=brent_train.values, label=\"Train\", size=8, color = \"grey\")\n",
        "scatter_ts(timesteps=brent_test.index, values=brent_test.values, label=\"Test\", chart_title = \"ICE Brent prices\", size=8, color = \"red\")"
      ],
      "metadata": {
        "colab": {
          "base_uri": "https://localhost:8080/",
          "height": 462
        },
        "id": "o17EbPNkezf9",
        "outputId": "4c335603-0c87-4cee-aeee-733b2fc623a9"
      },
      "execution_count": null,
      "outputs": [
        {
          "output_type": "display_data",
          "data": {
            "text/plain": [
              "<Figure size 1080x504 with 1 Axes>"
            ],
            "image/png": "[encoded data removed]"
          },
          "metadata": {}
        }
      ]
    },
    {
      "cell_type": "markdown",
      "source": [
        "# **Models tried**\n",
        "\n",
        "Now would be a good moment to try modeling Brent prices using different deep learning approaches. As a baseline we will use our faithful naive model.\n"
      ],
      "metadata": {
        "id": "lsBq0GZzfPqX"
      }
    },
    {
      "cell_type": "markdown",
      "source": [
        "\n",
        "| Number | Model Type | Layers | Units | |\n",
        "| ----- | ----- | ----- | ----- | - |\n",
        "| 1 | Naive |   NA |   NA |\n",
        "| 2 | MLP | 1 / 3  |   128 / 256 |\n",
        "| 3 | LSTM | 1 / 3  |   128 / 256 |\n",
        "| 4 | CNN | 1 / 3  |   128 / 256 | "
      ],
      "metadata": {
        "id": "lKejtQUac-xQ"
      }
    },
    {
      "cell_type": "markdown",
      "metadata": {
        "id": "b48SJQcLyq_D"
      },
      "source": [
        "## **Naive forecast** \n",
        "\n",
        "Let's start from setting a benchmark for the assessment of effectiveness of all other models tried. The obvious choice is usually a naive model which assumes persistence of past data into the future. We will test lags 1 through 4 by default."
      ]
    },
    {
      "cell_type": "code",
      "execution_count": 39,
      "metadata": {
        "id": "gTA1oBWsPFs-"
      },
      "outputs": [],
      "source": [
        "def naive_model_configs(lags = 4):\n",
        "  n_options = [i for i in range(1, lags +1)]\n",
        "  return n_options\n",
        "  \n",
        "def naive_forecast(data, configuration):\n",
        "  return data[-configuration]\n",
        "\n",
        "def avg_naive_error(train_data, test_data, configuration, iterator):\n",
        "  start_time = timer()\n",
        "  naive_archive = train_data.copy()\n",
        "  naive_predictions = list()\n",
        "  for i in range(len(test_data)):\n",
        "    y_hat = naive_forecast(naive_archive, configuration)\n",
        "    naive_predictions.append(y_hat)\n",
        "    naive_archive = pd.concat([naive_archive, test_data[i:i+1]])\n",
        "  try:\n",
        "    naive_error = assess_predictions(test_data, naive_predictions).round(3)\n",
        "  except:\n",
        "    naive_error = None\n",
        "  end_time = timer() #dt.datetime.now()\n",
        "  print(f\"Model: {iterator+1} \\t Error: {naive_error:.3f} \\t \\t Configuration: {configuration} \\t \\t Time: {round((end_time - start_time)/60,2)}\")\n",
        "  return (np.round(naive_error,3), configuration)\n",
        "\n",
        "def naive_grid_search(train_set, test_set, naive_conf_options):\n",
        "  start_point = timer()\n",
        "  naive_results = [avg_naive_error(train_data = train_set, test_data = test_set, configuration = config, iterator=index) for index, config in enumerate(naive_conf_options)]\n",
        "  naive_results = [r for r in naive_results if r[0] != None]\n",
        "  naive_results.sort(key=lambda tup: tup[0])\n",
        "  end_point = timer()\n",
        "  #print(f\"\\n Total of {len(naive_conf_options)} models calculated in {round((end_point - start_point)/60,2)} minutes.\")\n",
        "  naive_df = pd.DataFrame(data = naive_results,\n",
        "                          columns =['error', 'config'])\n",
        "  return naive_df"
      ]
    },
    {
      "cell_type": "code",
      "source": [
        "naive_confs = naive_model_configs(lags = 4)\n",
        "naive_gs = naive_grid_search(train_set = brent_train,\n",
        "                             test_set = brent_test,\n",
        "                             naive_conf_options = naive_confs)\n",
        "naive_gs"
      ],
      "metadata": {
        "colab": {
          "base_uri": "https://localhost:8080/",
          "height": 244
        },
        "id": "XJNidlASrh8U",
        "outputId": "717ad98f-3873-4c33-b1ee-2dab194ab9e2"
      },
      "execution_count": 17,
      "outputs": [
        {
          "output_type": "stream",
          "name": "stdout",
          "text": [
            "Model: 1 \t Error: 2.129 \t \t Configuration: 1 \t \t Time: 0.0\n",
            "Model: 2 \t Error: 3.056 \t \t Configuration: 2 \t \t Time: 0.0\n",
            "Model: 3 \t Error: 3.691 \t \t Configuration: 3 \t \t Time: 0.0\n",
            "Model: 4 \t Error: 4.184 \t \t Configuration: 4 \t \t Time: 0.0\n"
          ]
        },
        {
          "output_type": "execute_result",
          "data": {
            "text/plain": [
              "   error  config\n",
              "0  2.129       1\n",
              "1  3.056       2\n",
              "2  3.691       3\n",
              "3  4.184       4"
            ],
            "text/html": [
              "\n",
              "  <div id=\"df-4de730a3-fa5d-4aa0-b9b6-8702f4eeeda6\">\n",
              "    <div class=\"colab-df-container\">\n",
              "      <div>\n",
              "<style scoped>\n",
              "    .dataframe tbody tr th:only-of-type {\n",
              "        vertical-align: middle;\n",
              "    }\n",
              "\n",
              "    .dataframe tbody tr th {\n",
              "        vertical-align: top;\n",
              "    }\n",
              "\n",
              "    .dataframe thead th {\n",
              "        text-align: right;\n",
              "    }\n",
              "</style>\n",
              "<table border=\"1\" class=\"dataframe\">\n",
              "  <thead>\n",
              "    <tr style=\"text-align: right;\">\n",
              "      <th></th>\n",
              "      <th>error</th>\n",
              "      <th>config</th>\n",
              "    </tr>\n",
              "  </thead>\n",
              "  <tbody>\n",
              "    <tr>\n",
              "      <th>0</th>\n",
              "      <td>2.129</td>\n",
              "      <td>1</td>\n",
              "    </tr>\n",
              "    <tr>\n",
              "      <th>1</th>\n",
              "      <td>3.056</td>\n",
              "      <td>2</td>\n",
              "    </tr>\n",
              "    <tr>\n",
              "      <th>2</th>\n",
              "      <td>3.691</td>\n",
              "      <td>3</td>\n",
              "    </tr>\n",
              "    <tr>\n",
              "      <th>3</th>\n",
              "      <td>4.184</td>\n",
              "      <td>4</td>\n",
              "    </tr>\n",
              "  </tbody>\n",
              "</table>\n",
              "</div>\n",
              "      <button class=\"colab-df-convert\" onclick=\"convertToInteractive('df-4de730a3-fa5d-4aa0-b9b6-8702f4eeeda6')\"\n",
              "              title=\"Convert this dataframe to an interactive table.\"\n",
              "              style=\"display:none;\">\n",
              "        \n",
              "  <svg xmlns=\"http://www.w3.org/2000/svg\" height=\"24px\"viewBox=\"0 0 24 24\"\n",
              "       width=\"24px\">\n",
              "    <path d=\"M0 0h24v24H0V0z\" fill=\"none\"/>\n",
              "    <path d=\"M18.56 5.44l.94 2.06.94-2.06 2.06-.94-2.06-.94-.94-2.06-.94 2.06-2.06.94zm-11 1L8.5 8.5l.94-2.06 2.06-.94-2.06-.94L8.5 2.5l-.94 2.06-2.06.94zm10 10l.94 2.06.94-2.06 2.06-.94-2.06-.94-.94-2.06-.94 2.06-2.06.94z\"/><path d=\"M17.41 7.96l-1.37-1.37c-.4-.4-.92-.59-1.43-.59-.52 0-1.04.2-1.43.59L10.3 9.45l-7.72 7.72c-.78.78-.78 2.05 0 2.83L4 21.41c.39.39.9.59 1.41.59.51 0 1.02-.2 1.41-.59l7.78-7.78 2.81-2.81c.8-.78.8-2.07 0-2.86zM5.41 20L4 18.59l7.72-7.72 1.47 1.35L5.41 20z\"/>\n",
              "  </svg>\n",
              "      </button>\n",
              "      \n",
              "  <style>\n",
              "    .colab-df-container {\n",
              "      display:flex;\n",
              "      flex-wrap:wrap;\n",
              "      gap: 12px;\n",
              "    }\n",
              "\n",
              "    .colab-df-convert {\n",
              "      background-color: #E8F0FE;\n",
              "      border: none;\n",
              "      border-radius: 50%;\n",
              "      cursor: pointer;\n",
              "      display: none;\n",
              "      fill: #1967D2;\n",
              "      height: 32px;\n",
              "      padding: 0 0 0 0;\n",
              "      width: 32px;\n",
              "    }\n",
              "\n",
              "    .colab-df-convert:hover {\n",
              "      background-color: #E2EBFA;\n",
              "      box-shadow: 0px 1px 2px rgba(60, 64, 67, 0.3), 0px 1px 3px 1px rgba(60, 64, 67, 0.15);\n",
              "      fill: #174EA6;\n",
              "    }\n",
              "\n",
              "    [theme=dark] .colab-df-convert {\n",
              "      background-color: #3B4455;\n",
              "      fill: #D2E3FC;\n",
              "    }\n",
              "\n",
              "    [theme=dark] .colab-df-convert:hover {\n",
              "      background-color: #434B5C;\n",
              "      box-shadow: 0px 1px 3px 1px rgba(0, 0, 0, 0.15);\n",
              "      filter: drop-shadow(0px 1px 2px rgba(0, 0, 0, 0.3));\n",
              "      fill: #FFFFFF;\n",
              "    }\n",
              "  </style>\n",
              "\n",
              "      <script>\n",
              "        const buttonEl =\n",
              "          document.querySelector('#df-4de730a3-fa5d-4aa0-b9b6-8702f4eeeda6 button.colab-df-convert');\n",
              "        buttonEl.style.display =\n",
              "          google.colab.kernel.accessAllowed ? 'block' : 'none';\n",
              "\n",
              "        async function convertToInteractive(key) {\n",
              "          const element = document.querySelector('#df-4de730a3-fa5d-4aa0-b9b6-8702f4eeeda6');\n",
              "          const dataTable =\n",
              "            await google.colab.kernel.invokeFunction('convertToInteractive',\n",
              "                                                     [key], {});\n",
              "          if (!dataTable) return;\n",
              "\n",
              "          const docLinkHtml = 'Like what you see? Visit the ' +\n",
              "            '<a target=\"_blank\" href=https://colab.research.google.com/notebooks/data_table.ipynb>data table notebook</a>'\n",
              "            + ' to learn more about interactive tables.';\n",
              "          element.innerHTML = '';\n",
              "          dataTable['output_type'] = 'display_data';\n",
              "          await google.colab.output.renderOutput(dataTable, element);\n",
              "          const docLink = document.createElement('div');\n",
              "          docLink.innerHTML = docLinkHtml;\n",
              "          element.appendChild(docLink);\n",
              "        }\n",
              "      </script>\n",
              "    </div>\n",
              "  </div>\n",
              "  "
            ]
          },
          "metadata": {},
          "execution_count": 17
        }
      ]
    },
    {
      "cell_type": "markdown",
      "source": [
        "Without surprises, best results yielded a naive model with a lag of 1."
      ],
      "metadata": {
        "id": "QfVSq1oYjHwd"
      }
    },
    {
      "cell_type": "markdown",
      "source": [
        "## **MLP**\n",
        "\n",
        "MLP stands for Multi Layer Perceptron aka a dense model. True, it is not natively skilled to work with sequences but we will still give it a go."
      ],
      "metadata": {
        "id": "1riBEnZfu5Mn"
      }
    },
    {
      "cell_type": "code",
      "source": [
        "def mlp_model_configs():\n",
        "  n_layers_options = [1, 3]\n",
        "  n_units_options = [128, 256]\n",
        "  n_steps_in_options = [5]\n",
        "  n_batch_size_options = [1]\n",
        "  n_dropout_options = [0.10]\n",
        "  cfg_list = list()\n",
        "  for i in n_layers_options:\n",
        "    for j in n_units_options:\n",
        "      for k in n_steps_in_options:\n",
        "        for l in n_batch_size_options:\n",
        "          for m in n_dropout_options:\n",
        "            configuration = [i, j, k, l, m]\n",
        "            cfg_list.append(configuration)\n",
        "  return cfg_list\n",
        "\n",
        "def get_mlp(configuration, train_data, test_data):\n",
        "  n_epochs, n_outputs = 80, 1\n",
        "  n_layers, n_units, n_inputs, n_batch_size, n_dropout_ratio = configuration\n",
        "  checkpoint_path = \"mlp_checkpoints_weights/checkpoint.ckpt\"\n",
        "  checkpoint_callback = tf.keras.callbacks.ModelCheckpoint(filepath = checkpoint_path,\n",
        "                                                         save_best_only = True,\n",
        "                                                         save_weights_only = True,\n",
        "                                                         save_freq = \"epoch\",\n",
        "                                                         verbose=0)  \n",
        "  X_train, y_train = vectorized_split_sequence(sequence = train_data, steps_in = n_inputs, steps_out = n_outputs)\n",
        "  X_test, y_test = vectorized_split_sequence(sequence = test_data, steps_in = n_inputs, steps_out = n_outputs)\n",
        "  X_train_tf = tf.cast(X_train, dtype = tf.float32)\n",
        "  y_train_tf = tf.cast(y_train, dtype = tf.float32)\n",
        "  X_val_tf = tf.cast(X_test, dtype = tf.float32)\n",
        "  y_val_tf = tf.cast(y_test, dtype = tf.float32)\n",
        "  model = tf.keras.Sequential(name = f\"mlp_{n_layers}_{n_units}_{n_inputs}_{n_batch_size}_{int(n_dropout_ratio*100)}\")\n",
        "  if n_layers==1:\n",
        "    model.add(tf.keras.layers.Dense(n_units, activation='relu', input_dim = n_inputs))\n",
        "    model.add(tf.keras.layers.Dropout(n_dropout_ratio))\n",
        "  else:\n",
        "    model.add(tf.keras.layers.Dense(n_units, activation='relu', input_dim = n_inputs)) #\n",
        "    model.add(tf.keras.layers.Dropout(n_dropout_ratio))\n",
        "    for i in range(1, n_layers):\n",
        "      model.add(tf.keras.layers.Dense(n_units, activation='relu')) #, input_dim = inputs\n",
        "      model.add(tf.keras.layers.Dropout(n_dropout_ratio))\n",
        "  model.add(tf.keras.layers.Dense(n_outputs))\n",
        "  model.compile(loss = 'mse',\n",
        "                optimizer='adam')\n",
        " \n",
        "  model.fit(x = X_train_tf,\n",
        "            y = y_train_tf,\n",
        "            batch_size = n_batch_size, \n",
        "            epochs = n_epochs,\n",
        "            verbose=0,\n",
        "            validation_data=(X_val_tf, y_val_tf),\n",
        "            callbacks = [checkpoint_callback])\n",
        "  model.load_weights(filepath = checkpoint_path)\n",
        "\n",
        "  model_path = f\"saved_models/{model.name}\" \n",
        "  model.save(model_path) \n",
        "\n",
        "  predictions = model.predict(X_val_tf) #tf.constant\n",
        "  error = assess_predictions(y_val_tf, predictions).round(3)\n",
        "\n",
        "  return error, configuration, model.name, model_path\n",
        "\n",
        "def mlp_grid_search(configuration_list, train_set, test_set):\n",
        "  mlp_results = list()\n",
        "  for conf in configuration_list:\n",
        "    result = get_mlp(configuration = conf,\n",
        "                     train_data = train_set,\n",
        "                     test_data = test_set)\n",
        "    mlp_results.append(result)\n",
        "    mlp_results.sort(key=lambda tup:tup[0])\n",
        "    mlp_df = pd.DataFrame(data = mlp_results,\n",
        "                          columns =['error', 'config', 'model_name', 'model_path'])\n",
        "  return mlp_df"
      ],
      "metadata": {
        "id": "veyMOxYfuzix"
      },
      "execution_count": 1,
      "outputs": []
    },
    {
      "cell_type": "code",
      "source": [
        "mlp_configs = mlp_model_configs()\n",
        "mlp_gs = mlp_grid_search(configuration_list = mlp_configs,\n",
        "                         train_set = brent_train,\n",
        "                         test_set = brent_test)\n",
        "mlp_gs"
      ],
      "metadata": {
        "colab": {
          "base_uri": "https://localhost:8080/",
          "height": 244
        },
        "id": "1Fk8_llA2hg-",
        "outputId": "5f96859d-44f7-4a03-f6f3-d97531ea834d"
      },
      "execution_count": 9,
      "outputs": [
        {
          "output_type": "stream",
          "name": "stdout",
          "text": [
            "25/25 [==============================] - 0s 1ms/step\n",
            "25/25 [==============================] - 0s 1ms/step\n",
            "25/25 [==============================] - 0s 2ms/step\n",
            "25/25 [==============================] - 0s 3ms/step\n"
          ]
        },
        {
          "output_type": "execute_result",
          "data": {
            "text/plain": [
              "   error               config        model_name                     model_path\n",
              "0  2.150  [1, 256, 5, 1, 0.1]  mlp_1_256_5_1_10  saved_models/mlp_1_256_5_1_10\n",
              "1  2.163  [1, 128, 5, 1, 0.1]  mlp_1_128_5_1_10  saved_models/mlp_1_128_5_1_10\n",
              "2  2.358  [3, 256, 5, 1, 0.1]  mlp_3_256_5_1_10  saved_models/mlp_3_256_5_1_10\n",
              "3  2.815  [3, 128, 5, 1, 0.1]  mlp_3_128_5_1_10  saved_models/mlp_3_128_5_1_10"
            ],
            "text/html": [
              "\n",
              "  <div id=\"df-9f361aba-efeb-4fc2-ba4b-3edb912eaca0\">\n",
              "    <div class=\"colab-df-container\">\n",
              "      <div>\n",
              "<style scoped>\n",
              "    .dataframe tbody tr th:only-of-type {\n",
              "        vertical-align: middle;\n",
              "    }\n",
              "\n",
              "    .dataframe tbody tr th {\n",
              "        vertical-align: top;\n",
              "    }\n",
              "\n",
              "    .dataframe thead th {\n",
              "        text-align: right;\n",
              "    }\n",
              "</style>\n",
              "<table border=\"1\" class=\"dataframe\">\n",
              "  <thead>\n",
              "    <tr style=\"text-align: right;\">\n",
              "      <th></th>\n",
              "      <th>error</th>\n",
              "      <th>config</th>\n",
              "      <th>model_name</th>\n",
              "      <th>model_path</th>\n",
              "    </tr>\n",
              "  </thead>\n",
              "  <tbody>\n",
              "    <tr>\n",
              "      <th>0</th>\n",
              "      <td>2.150</td>\n",
              "      <td>[1, 256, 5, 1, 0.1]</td>\n",
              "      <td>mlp_1_256_5_1_10</td>\n",
              "      <td>saved_models/mlp_1_256_5_1_10</td>\n",
              "    </tr>\n",
              "    <tr>\n",
              "      <th>1</th>\n",
              "      <td>2.163</td>\n",
              "      <td>[1, 128, 5, 1, 0.1]</td>\n",
              "      <td>mlp_1_128_5_1_10</td>\n",
              "      <td>saved_models/mlp_1_128_5_1_10</td>\n",
              "    </tr>\n",
              "    <tr>\n",
              "      <th>2</th>\n",
              "      <td>2.358</td>\n",
              "      <td>[3, 256, 5, 1, 0.1]</td>\n",
              "      <td>mlp_3_256_5_1_10</td>\n",
              "      <td>saved_models/mlp_3_256_5_1_10</td>\n",
              "    </tr>\n",
              "    <tr>\n",
              "      <th>3</th>\n",
              "      <td>2.815</td>\n",
              "      <td>[3, 128, 5, 1, 0.1]</td>\n",
              "      <td>mlp_3_128_5_1_10</td>\n",
              "      <td>saved_models/mlp_3_128_5_1_10</td>\n",
              "    </tr>\n",
              "  </tbody>\n",
              "</table>\n",
              "</div>\n",
              "      <button class=\"colab-df-convert\" onclick=\"convertToInteractive('df-9f361aba-efeb-4fc2-ba4b-3edb912eaca0')\"\n",
              "              title=\"Convert this dataframe to an interactive table.\"\n",
              "              style=\"display:none;\">\n",
              "        \n",
              "  <svg xmlns=\"http://www.w3.org/2000/svg\" height=\"24px\"viewBox=\"0 0 24 24\"\n",
              "       width=\"24px\">\n",
              "    <path d=\"M0 0h24v24H0V0z\" fill=\"none\"/>\n",
              "    <path d=\"M18.56 5.44l.94 2.06.94-2.06 2.06-.94-2.06-.94-.94-2.06-.94 2.06-2.06.94zm-11 1L8.5 8.5l.94-2.06 2.06-.94-2.06-.94L8.5 2.5l-.94 2.06-2.06.94zm10 10l.94 2.06.94-2.06 2.06-.94-2.06-.94-.94-2.06-.94 2.06-2.06.94z\"/><path d=\"M17.41 7.96l-1.37-1.37c-.4-.4-.92-.59-1.43-.59-.52 0-1.04.2-1.43.59L10.3 9.45l-7.72 7.72c-.78.78-.78 2.05 0 2.83L4 21.41c.39.39.9.59 1.41.59.51 0 1.02-.2 1.41-.59l7.78-7.78 2.81-2.81c.8-.78.8-2.07 0-2.86zM5.41 20L4 18.59l7.72-7.72 1.47 1.35L5.41 20z\"/>\n",
              "  </svg>\n",
              "      </button>\n",
              "      \n",
              "  <style>\n",
              "    .colab-df-container {\n",
              "      display:flex;\n",
              "      flex-wrap:wrap;\n",
              "      gap: 12px;\n",
              "    }\n",
              "\n",
              "    .colab-df-convert {\n",
              "      background-color: #E8F0FE;\n",
              "      border: none;\n",
              "      border-radius: 50%;\n",
              "      cursor: pointer;\n",
              "      display: none;\n",
              "      fill: #1967D2;\n",
              "      height: 32px;\n",
              "      padding: 0 0 0 0;\n",
              "      width: 32px;\n",
              "    }\n",
              "\n",
              "    .colab-df-convert:hover {\n",
              "      background-color: #E2EBFA;\n",
              "      box-shadow: 0px 1px 2px rgba(60, 64, 67, 0.3), 0px 1px 3px 1px rgba(60, 64, 67, 0.15);\n",
              "      fill: #174EA6;\n",
              "    }\n",
              "\n",
              "    [theme=dark] .colab-df-convert {\n",
              "      background-color: #3B4455;\n",
              "      fill: #D2E3FC;\n",
              "    }\n",
              "\n",
              "    [theme=dark] .colab-df-convert:hover {\n",
              "      background-color: #434B5C;\n",
              "      box-shadow: 0px 1px 3px 1px rgba(0, 0, 0, 0.15);\n",
              "      filter: drop-shadow(0px 1px 2px rgba(0, 0, 0, 0.3));\n",
              "      fill: #FFFFFF;\n",
              "    }\n",
              "  </style>\n",
              "\n",
              "      <script>\n",
              "        const buttonEl =\n",
              "          document.querySelector('#df-9f361aba-efeb-4fc2-ba4b-3edb912eaca0 button.colab-df-convert');\n",
              "        buttonEl.style.display =\n",
              "          google.colab.kernel.accessAllowed ? 'block' : 'none';\n",
              "\n",
              "        async function convertToInteractive(key) {\n",
              "          const element = document.querySelector('#df-9f361aba-efeb-4fc2-ba4b-3edb912eaca0');\n",
              "          const dataTable =\n",
              "            await google.colab.kernel.invokeFunction('convertToInteractive',\n",
              "                                                     [key], {});\n",
              "          if (!dataTable) return;\n",
              "\n",
              "          const docLinkHtml = 'Like what you see? Visit the ' +\n",
              "            '<a target=\"_blank\" href=https://colab.research.google.com/notebooks/data_table.ipynb>data table notebook</a>'\n",
              "            + ' to learn more about interactive tables.';\n",
              "          element.innerHTML = '';\n",
              "          dataTable['output_type'] = 'display_data';\n",
              "          await google.colab.output.renderOutput(dataTable, element);\n",
              "          const docLink = document.createElement('div');\n",
              "          docLink.innerHTML = docLinkHtml;\n",
              "          element.appendChild(docLink);\n",
              "        }\n",
              "      </script>\n",
              "    </div>\n",
              "  </div>\n",
              "  "
            ]
          },
          "metadata": {},
          "execution_count": 9
        }
      ]
    },
    {
      "cell_type": "markdown",
      "source": [
        "It does not bit naive model so let's try some recurrent neural net..."
      ],
      "metadata": {
        "id": "eL6oj1CzNq7s"
      }
    },
    {
      "cell_type": "markdown",
      "source": [
        "## **LSTM**\n",
        "\n",
        "LSTM stands for Long-Short Term Memory cells that were specifically designed to work with  sequences. Let's find out if they show higher skills than a regular dense model... "
      ],
      "metadata": {
        "id": "2gZHqmKyJ3u9"
      }
    },
    {
      "cell_type": "code",
      "source": [
        "def lstm_model_configs():\n",
        "  n_layers_options = [1,3]\n",
        "  n_units_options = [128, 256]\n",
        "  n_steps_in_options = [5]\n",
        "  n_batch_size_options = [1]\n",
        "  n_dropout_options = [0.10]\n",
        "  cfg_list = list()\n",
        "  for i in n_layers_options:\n",
        "    for j in n_units_options:\n",
        "      for k in n_steps_in_options:\n",
        "        for l in n_batch_size_options:\n",
        "          for m in n_dropout_options:\n",
        "            configuration = [i, j, k, l, m]\n",
        "            cfg_list.append(configuration)\n",
        "  return cfg_list\n",
        "\n",
        "def get_lstm(configuration, train_data, test_data):\n",
        "  n_epochs, n_outputs = 80, 1\n",
        "  n_layers, n_units, n_inputs, n_batch_size, n_dropout_ratio = configuration\n",
        "  checkpoint_path = \"lstm_checkpoints_weights/checkpoint.ckpt\"\n",
        "  checkpoint_callback = tf.keras.callbacks.ModelCheckpoint(filepath = checkpoint_path,\n",
        "                                                         save_best_only = True,\n",
        "                                                         save_weights_only = True,\n",
        "                                                         save_freq = \"epoch\",\n",
        "                                                         verbose=0)  \n",
        "  X_train, y_train = vectorized_split_sequence(sequence = train_data, steps_in = n_inputs, steps_out = n_outputs)\n",
        "  X_test, y_test = vectorized_split_sequence(sequence = test_data, steps_in = n_inputs, steps_out = n_outputs)\n",
        "  X_train_tf = tf.expand_dims(X_train, axis = 2)\n",
        "  y_train_tf = tf.cast(y_train, dtype = tf.float32)\n",
        "  X_val_tf = tf.expand_dims(X_test, axis = 2)\n",
        "  y_val_tf = tf.cast(y_test, dtype = tf.float32)\n",
        "  model = tf.keras.Sequential(name = f\"lstm_{n_layers}_{n_units}_{n_inputs}_{n_batch_size}_{int(n_dropout_ratio*100)}\")\n",
        "  if n_layers==1:\n",
        "    model.add(tf.keras.layers.LSTM(n_units, activation='relu', input_shape = (n_inputs,1)))\n",
        "    model.add(tf.keras.layers.Dropout(n_dropout_ratio))\n",
        "  elif n_layers == 2:\n",
        "      model.add(tf.keras.layers.LSTM(n_units, activation='relu', return_sequences = True, input_shape = (n_inputs, 1)))\n",
        "      model.add(tf.keras.layers.Dropout(n_dropout_ratio))\n",
        "      model.add(tf.keras.layers.LSTM(n_units, activation='relu'))\n",
        "      model.add(tf.keras.layers.Dropout(n_dropout_ratio))\n",
        "  else:\n",
        "    model.add(tf.keras.layers.LSTM(n_units, activation='relu', return_sequences = True, input_shape = (n_inputs, 1))) #\n",
        "    model.add(tf.keras.layers.Dropout(n_dropout_ratio))\n",
        "    for i in range(2, n_layers):\n",
        "      model.add(tf.keras.layers.LSTM(n_units, activation='relu', return_sequences = True))\n",
        "      model.add(tf.keras.layers.Dropout(n_dropout_ratio))\n",
        "    model.add(tf.keras.layers.LSTM(n_units, activation='relu'))\n",
        "    model.add(tf.keras.layers.Dropout(n_dropout_ratio))\n",
        "  model.add(tf.keras.layers.Dense(n_outputs))\n",
        "  model.compile(loss = 'mse',\n",
        "                optimizer='adam')\n",
        " \n",
        "  model.fit(x = X_train_tf,\n",
        "            y = y_train_tf,\n",
        "            batch_size = n_batch_size, \n",
        "            epochs = n_epochs,\n",
        "            verbose=0,\n",
        "            validation_data=(X_val_tf, y_val_tf),\n",
        "            callbacks = [checkpoint_callback])\n",
        "  model.load_weights(filepath = checkpoint_path)\n",
        "\n",
        "  model_path = f\"saved_models/{model.name}\" \n",
        "  model.save(model_path) #/content/drive/MyDrive/models\n",
        "  \n",
        "  predictions = model.predict(X_val_tf) #tf.constant\n",
        "  error = assess_predictions(y_val_tf, predictions).round(3)\n",
        "\n",
        "  return error, configuration, model.name, model_path\n",
        "\n",
        "def lstm_grid_search(configuration_list, train_set, test_set):\n",
        "  lstm_results = list()\n",
        "  for conf in configuration_list:\n",
        "    result = get_lstm(configuration = conf,\n",
        "                     train_data = train_set,\n",
        "                     test_data = test_set)\n",
        "    lstm_results.append(result)\n",
        "    lstm_results.sort(key=lambda tup:tup[0])\n",
        "    lstm_df = pd.DataFrame(data = lstm_results,\n",
        "                          columns =['error', 'config', 'model_name', 'model_path'])\n",
        "  return lstm_df"
      ],
      "metadata": {
        "id": "zusnidPMh-wx"
      },
      "execution_count": 9,
      "outputs": []
    },
    {
      "cell_type": "code",
      "source": [
        "lstm_configs = lstm_model_configs()\n",
        "lstm_gs = lstm_grid_search(configuration_list = lstm_configs,\n",
        "                         train_set = brent_train,\n",
        "                         test_set = brent_test)\n",
        "lstm_gs"
      ],
      "metadata": {
        "colab": {
          "base_uri": "https://localhost:8080/",
          "height": 403
        },
        "id": "Sde0zRzsB5X0",
        "outputId": "e6c0cdbf-c53b-48db-9d86-27a45eac1e38"
      },
      "execution_count": 10,
      "outputs": [
        {
          "metadata": {
            "tags": null
          },
          "name": "stderr",
          "output_type": "stream",
          "text": [
            "WARNING:tensorflow:Layer lstm will not use cuDNN kernels since it doesn't meet the criteria. It will use a generic GPU kernel as fallback when running on GPU.\n"
          ]
        },
        {
          "metadata": {
            "tags": null
          },
          "name": "stdout",
          "output_type": "stream",
          "text": [
            "25/25 [==============================] - 0s 4ms/step\n"
          ]
        },
        {
          "metadata": {
            "tags": null
          },
          "name": "stderr",
          "output_type": "stream",
          "text": [
            "WARNING:tensorflow:Layer lstm_1 will not use cuDNN kernels since it doesn't meet the criteria. It will use a generic GPU kernel as fallback when running on GPU.\n"
          ]
        },
        {
          "metadata": {
            "tags": null
          },
          "name": "stdout",
          "output_type": "stream",
          "text": [
            "25/25 [==============================] - 0s 3ms/step\n"
          ]
        },
        {
          "metadata": {
            "tags": null
          },
          "name": "stderr",
          "output_type": "stream",
          "text": [
            "WARNING:tensorflow:Layer lstm_2 will not use cuDNN kernels since it doesn't meet the criteria. It will use a generic GPU kernel as fallback when running on GPU.\n",
            "WARNING:tensorflow:Layer lstm_3 will not use cuDNN kernels since it doesn't meet the criteria. It will use a generic GPU kernel as fallback when running on GPU.\n",
            "WARNING:tensorflow:Layer lstm_4 will not use cuDNN kernels since it doesn't meet the criteria. It will use a generic GPU kernel as fallback when running on GPU.\n"
          ]
        },
        {
          "output_type": "stream",
          "name": "stdout",
          "text": [
            "25/25 [==============================] - 1s 6ms/step\n"
          ]
        },
        {
          "output_type": "stream",
          "name": "stderr",
          "text": [
            "WARNING:tensorflow:Layer lstm_5 will not use cuDNN kernels since it doesn't meet the criteria. It will use a generic GPU kernel as fallback when running on GPU.\n",
            "WARNING:tensorflow:Layer lstm_6 will not use cuDNN kernels since it doesn't meet the criteria. It will use a generic GPU kernel as fallback when running on GPU.\n",
            "WARNING:tensorflow:Layer lstm_7 will not use cuDNN kernels since it doesn't meet the criteria. It will use a generic GPU kernel as fallback when running on GPU.\n"
          ]
        },
        {
          "output_type": "stream",
          "name": "stdout",
          "text": [
            "25/25 [==============================] - 1s 5ms/step\n"
          ]
        },
        {
          "output_type": "execute_result",
          "data": {
            "text/plain": [
              "   error               config         model_name  \\\n",
              "0  2.237  [1, 256, 5, 1, 0.1]  lstm_1_256_5_1_10   \n",
              "1  2.302  [1, 128, 5, 1, 0.1]  lstm_1_128_5_1_10   \n",
              "2  2.458  [3, 128, 5, 1, 0.1]  lstm_3_128_5_1_10   \n",
              "3  2.720  [3, 256, 5, 1, 0.1]  lstm_3_256_5_1_10   \n",
              "\n",
              "                       model_path  \n",
              "0  saved_models/lstm_1_256_5_1_10  \n",
              "1  saved_models/lstm_1_128_5_1_10  \n",
              "2  saved_models/lstm_3_128_5_1_10  \n",
              "3  saved_models/lstm_3_256_5_1_10  "
            ],
            "text/html": [
              "\n",
              "  <div id=\"df-3000c7a6-4681-4690-a446-8eb41e45b473\">\n",
              "    <div class=\"colab-df-container\">\n",
              "      <div>\n",
              "<style scoped>\n",
              "    .dataframe tbody tr th:only-of-type {\n",
              "        vertical-align: middle;\n",
              "    }\n",
              "\n",
              "    .dataframe tbody tr th {\n",
              "        vertical-align: top;\n",
              "    }\n",
              "\n",
              "    .dataframe thead th {\n",
              "        text-align: right;\n",
              "    }\n",
              "</style>\n",
              "<table border=\"1\" class=\"dataframe\">\n",
              "  <thead>\n",
              "    <tr style=\"text-align: right;\">\n",
              "      <th></th>\n",
              "      <th>error</th>\n",
              "      <th>config</th>\n",
              "      <th>model_name</th>\n",
              "      <th>model_path</th>\n",
              "    </tr>\n",
              "  </thead>\n",
              "  <tbody>\n",
              "    <tr>\n",
              "      <th>0</th>\n",
              "      <td>2.237</td>\n",
              "      <td>[1, 256, 5, 1, 0.1]</td>\n",
              "      <td>lstm_1_256_5_1_10</td>\n",
              "      <td>saved_models/lstm_1_256_5_1_10</td>\n",
              "    </tr>\n",
              "    <tr>\n",
              "      <th>1</th>\n",
              "      <td>2.302</td>\n",
              "      <td>[1, 128, 5, 1, 0.1]</td>\n",
              "      <td>lstm_1_128_5_1_10</td>\n",
              "      <td>saved_models/lstm_1_128_5_1_10</td>\n",
              "    </tr>\n",
              "    <tr>\n",
              "      <th>2</th>\n",
              "      <td>2.458</td>\n",
              "      <td>[3, 128, 5, 1, 0.1]</td>\n",
              "      <td>lstm_3_128_5_1_10</td>\n",
              "      <td>saved_models/lstm_3_128_5_1_10</td>\n",
              "    </tr>\n",
              "    <tr>\n",
              "      <th>3</th>\n",
              "      <td>2.720</td>\n",
              "      <td>[3, 256, 5, 1, 0.1]</td>\n",
              "      <td>lstm_3_256_5_1_10</td>\n",
              "      <td>saved_models/lstm_3_256_5_1_10</td>\n",
              "    </tr>\n",
              "  </tbody>\n",
              "</table>\n",
              "</div>\n",
              "      <button class=\"colab-df-convert\" onclick=\"convertToInteractive('df-3000c7a6-4681-4690-a446-8eb41e45b473')\"\n",
              "              title=\"Convert this dataframe to an interactive table.\"\n",
              "              style=\"display:none;\">\n",
              "        \n",
              "  <svg xmlns=\"http://www.w3.org/2000/svg\" height=\"24px\"viewBox=\"0 0 24 24\"\n",
              "       width=\"24px\">\n",
              "    <path d=\"M0 0h24v24H0V0z\" fill=\"none\"/>\n",
              "    <path d=\"M18.56 5.44l.94 2.06.94-2.06 2.06-.94-2.06-.94-.94-2.06-.94 2.06-2.06.94zm-11 1L8.5 8.5l.94-2.06 2.06-.94-2.06-.94L8.5 2.5l-.94 2.06-2.06.94zm10 10l.94 2.06.94-2.06 2.06-.94-2.06-.94-.94-2.06-.94 2.06-2.06.94z\"/><path d=\"M17.41 7.96l-1.37-1.37c-.4-.4-.92-.59-1.43-.59-.52 0-1.04.2-1.43.59L10.3 9.45l-7.72 7.72c-.78.78-.78 2.05 0 2.83L4 21.41c.39.39.9.59 1.41.59.51 0 1.02-.2 1.41-.59l7.78-7.78 2.81-2.81c.8-.78.8-2.07 0-2.86zM5.41 20L4 18.59l7.72-7.72 1.47 1.35L5.41 20z\"/>\n",
              "  </svg>\n",
              "      </button>\n",
              "      \n",
              "  <style>\n",
              "    .colab-df-container {\n",
              "      display:flex;\n",
              "      flex-wrap:wrap;\n",
              "      gap: 12px;\n",
              "    }\n",
              "\n",
              "    .colab-df-convert {\n",
              "      background-color: #E8F0FE;\n",
              "      border: none;\n",
              "      border-radius: 50%;\n",
              "      cursor: pointer;\n",
              "      display: none;\n",
              "      fill: #1967D2;\n",
              "      height: 32px;\n",
              "      padding: 0 0 0 0;\n",
              "      width: 32px;\n",
              "    }\n",
              "\n",
              "    .colab-df-convert:hover {\n",
              "      background-color: #E2EBFA;\n",
              "      box-shadow: 0px 1px 2px rgba(60, 64, 67, 0.3), 0px 1px 3px 1px rgba(60, 64, 67, 0.15);\n",
              "      fill: #174EA6;\n",
              "    }\n",
              "\n",
              "    [theme=dark] .colab-df-convert {\n",
              "      background-color: #3B4455;\n",
              "      fill: #D2E3FC;\n",
              "    }\n",
              "\n",
              "    [theme=dark] .colab-df-convert:hover {\n",
              "      background-color: #434B5C;\n",
              "      box-shadow: 0px 1px 3px 1px rgba(0, 0, 0, 0.15);\n",
              "      filter: drop-shadow(0px 1px 2px rgba(0, 0, 0, 0.3));\n",
              "      fill: #FFFFFF;\n",
              "    }\n",
              "  </style>\n",
              "\n",
              "      <script>\n",
              "        const buttonEl =\n",
              "          document.querySelector('#df-3000c7a6-4681-4690-a446-8eb41e45b473 button.colab-df-convert');\n",
              "        buttonEl.style.display =\n",
              "          google.colab.kernel.accessAllowed ? 'block' : 'none';\n",
              "\n",
              "        async function convertToInteractive(key) {\n",
              "          const element = document.querySelector('#df-3000c7a6-4681-4690-a446-8eb41e45b473');\n",
              "          const dataTable =\n",
              "            await google.colab.kernel.invokeFunction('convertToInteractive',\n",
              "                                                     [key], {});\n",
              "          if (!dataTable) return;\n",
              "\n",
              "          const docLinkHtml = 'Like what you see? Visit the ' +\n",
              "            '<a target=\"_blank\" href=https://colab.research.google.com/notebooks/data_table.ipynb>data table notebook</a>'\n",
              "            + ' to learn more about interactive tables.';\n",
              "          element.innerHTML = '';\n",
              "          dataTable['output_type'] = 'display_data';\n",
              "          await google.colab.output.renderOutput(dataTable, element);\n",
              "          const docLink = document.createElement('div');\n",
              "          docLink.innerHTML = docLinkHtml;\n",
              "          element.appendChild(docLink);\n",
              "        }\n",
              "      </script>\n",
              "    </div>\n",
              "  </div>\n",
              "  "
            ]
          },
          "metadata": {},
          "execution_count": 10
        }
      ]
    },
    {
      "cell_type": "markdown",
      "source": [
        "## **CNN**\n",
        "\n",
        "CNN stands for Convolutional Neural Network. This very class of artificial neural nets was specifically designed to work with vision (images & video) but it may be used for time series analyses too."
      ],
      "metadata": {
        "id": "fCJ1lbte53ej"
      }
    },
    {
      "cell_type": "code",
      "source": [
        "def cnn_model_configs():\n",
        "  n_layers_options = [1, 3]\n",
        "  n_units_options = [128, 256]\n",
        "  n_steps_in_options = [5]\n",
        "  n_batch_size_options = [1]\n",
        "  n_dropout_options = [0.10]\n",
        "  cfg_list = list()\n",
        "  for i in n_layers_options:\n",
        "    for j in n_units_options:\n",
        "      for k in n_steps_in_options:\n",
        "        for l in n_batch_size_options:\n",
        "          for m in n_dropout_options:\n",
        "            configuration = [i, j, k, l, m]\n",
        "            cfg_list.append(configuration)\n",
        "  return cfg_list\n",
        "\n",
        "def get_cnn(configuration, train_data, test_data):\n",
        "  n_epochs, n_outputs = 80, 1\n",
        "  n_layers, n_units, n_inputs, n_batch_size, n_dropout_ratio = configuration\n",
        "  checkpoint_path = \"cnn_checkpoints_weights/checkpoint.ckpt\"\n",
        "  checkpoint_callback = tf.keras.callbacks.ModelCheckpoint(filepath = checkpoint_path,\n",
        "                                                         save_best_only = True,\n",
        "                                                         save_weights_only = True,\n",
        "                                                         save_freq = \"epoch\",\n",
        "                                                         verbose=0)  \n",
        "  X_train, y_train = vectorized_split_sequence(sequence = train_data, steps_in = n_inputs, steps_out = n_outputs)\n",
        "  X_test, y_test = vectorized_split_sequence(sequence = test_data, steps_in = n_inputs, steps_out = n_outputs)\n",
        "  X_train_tf = tf.cast(X_train, dtype = tf.float32)\n",
        "  y_train_tf = tf.cast(y_train, dtype = tf.float32)\n",
        "  X_test_tf = tf.cast(X_test, dtype = tf.float32)\n",
        "  y_test_tf = tf.cast(y_test, dtype = tf.float32)\n",
        "  model = tf.keras.Sequential(name = f\"cnn_{n_layers}_{n_units}_{n_inputs}_{n_batch_size}_{int(n_dropout_ratio*100)}\")\n",
        "  model.add(tf.keras.layers.Lambda(lambda x: tf.expand_dims(x, axis=-1)))\n",
        "  if n_layers==1:\n",
        "    model.add(tf.keras.layers.Conv1D(filters = n_units, kernel_size = 3, padding = \"causal\", activation='relu', input_shape = (n_inputs, 1)))\n",
        "    model.add(tf.keras.layers.Dropout(n_dropout_ratio))\n",
        "    model.add(tf.keras.layers.MaxPooling1D())\n",
        "    model.add(tf.keras.layers.Flatten())\n",
        "    \n",
        "  elif n_layers == 2:\n",
        "    model.add(tf.keras.layers.Conv1D(filters = n_units, kernel_size = 3, padding = \"causal\", activation='relu', input_shape = (n_inputs, 1)))\n",
        "    model.add(tf.keras.layers.Dropout(n_dropout_ratio))\n",
        "    model.add(tf.keras.layers.Conv1D(filters = n_units, kernel_size = 3, padding = \"causal\", activation='relu'))\n",
        "    model.add(tf.keras.layers.Dropout(n_dropout_ratio))\n",
        "    model.add(tf.keras.layers.MaxPooling1D())\n",
        "    model.add(tf.keras.layers.Flatten())\n",
        "\n",
        "  else:\n",
        "    model.add(tf.keras.layers.Conv1D(filters = n_units, kernel_size = 3, padding = \"causal\", activation='relu', input_shape = (n_inputs, 1)))\n",
        "    model.add(tf.keras.layers.Dropout(n_dropout_ratio))\n",
        "    for i in range(2, n_layers):\n",
        "      model.add(tf.keras.layers.Conv1D(filters = n_units, kernel_size = 3, padding = \"causal\", activation='relu'))\n",
        "      model.add(tf.keras.layers.Dropout(n_dropout_ratio))\n",
        "    model.add(tf.keras.layers.Conv1D(filters = n_units, kernel_size = 3, padding = \"causal\", activation='relu'))\n",
        "    model.add(tf.keras.layers.Dropout(n_dropout_ratio))\n",
        "    model.add(tf.keras.layers.MaxPooling1D())\n",
        "    model.add(tf.keras.layers.Flatten())\n",
        "  model.add(tf.keras.layers.Dense(n_outputs))\n",
        "\n",
        "  model.compile(loss = 'mse',\n",
        "                optimizer='adam')\n",
        " \n",
        "  model.fit(x = X_train_tf,\n",
        "            y = y_train_tf,\n",
        "            batch_size = n_batch_size, \n",
        "            epochs = n_epochs,\n",
        "            verbose=0, #0\n",
        "            validation_data=(X_test_tf, y_test_tf),\n",
        "            callbacks = [checkpoint_callback])\n",
        "  model.load_weights(filepath = checkpoint_path)\n",
        "\n",
        "  model_path = f\"saved_models/{model.name}\" \n",
        "  model.save(model_path)\n",
        "  predictions = tf.squeeze(model.predict(X_test), axis=-1)\n",
        "  error = assess_predictions(y_test_tf, predictions).round(3)\n",
        "  \n",
        "  return error, configuration, model.name, model_path\n",
        "\n",
        "def cnn_grid_search(configuration_list, train_set, test_set):\n",
        "  cnn_results = list()\n",
        "  for conf in configuration_list:\n",
        "    result = get_cnn(configuration = conf,\n",
        "                     train_data = train_set,\n",
        "                     test_data = test_set)\n",
        "    cnn_results.append(result)\n",
        "    cnn_results.sort(key=lambda tup:tup[0])\n",
        "    cnn_df = pd.DataFrame(data = cnn_results,\n",
        "                          columns =['error', 'config', 'model_name', 'model_path'])\n",
        "  return cnn_df"
      ],
      "metadata": {
        "id": "A0MxciW-6IdN"
      },
      "execution_count": 7,
      "outputs": []
    },
    {
      "cell_type": "code",
      "source": [
        "cnn_configs = cnn_model_configs()\n",
        "cnn_gs = cnn_grid_search(configuration_list = cnn_configs,\n",
        "                         train_set = brent_train,\n",
        "                         test_set = brent_test)\n",
        "cnn_gs"
      ],
      "metadata": {
        "colab": {
          "base_uri": "https://localhost:8080/",
          "height": 333
        },
        "id": "4X25jPH-E0Mx",
        "outputId": "8cab64f0-f4b3-4f34-a9f7-ba7da8f79d03"
      },
      "execution_count": 8,
      "outputs": [
        {
          "output_type": "stream",
          "name": "stderr",
          "text": [
            "WARNING:absl:Found untraced functions such as _jit_compiled_convolution_op while saving (showing 1 of 1). These functions will not be directly callable after loading.\n"
          ]
        },
        {
          "output_type": "stream",
          "name": "stdout",
          "text": [
            "25/25 [==============================] - 0s 2ms/step\n"
          ]
        },
        {
          "output_type": "stream",
          "name": "stderr",
          "text": [
            "WARNING:absl:Found untraced functions such as _jit_compiled_convolution_op while saving (showing 1 of 1). These functions will not be directly callable after loading.\n"
          ]
        },
        {
          "output_type": "stream",
          "name": "stdout",
          "text": [
            "25/25 [==============================] - 0s 2ms/step\n"
          ]
        },
        {
          "output_type": "stream",
          "name": "stderr",
          "text": [
            "WARNING:absl:Found untraced functions such as _jit_compiled_convolution_op, _jit_compiled_convolution_op, _jit_compiled_convolution_op while saving (showing 3 of 3). These functions will not be directly callable after loading.\n"
          ]
        },
        {
          "output_type": "stream",
          "name": "stdout",
          "text": [
            "25/25 [==============================] - 0s 3ms/step\n"
          ]
        },
        {
          "output_type": "stream",
          "name": "stderr",
          "text": [
            "WARNING:absl:Found untraced functions such as _jit_compiled_convolution_op, _jit_compiled_convolution_op, _jit_compiled_convolution_op while saving (showing 3 of 3). These functions will not be directly callable after loading.\n"
          ]
        },
        {
          "output_type": "stream",
          "name": "stdout",
          "text": [
            "25/25 [==============================] - 0s 2ms/step\n"
          ]
        },
        {
          "output_type": "execute_result",
          "data": {
            "text/plain": [
              "   error               config        model_name                     model_path\n",
              "0  4.082  [1, 256, 5, 1, 0.1]  cnn_1_256_5_1_10  saved_models/cnn_1_256_5_1_10\n",
              "1  4.196  [3, 256, 5, 1, 0.1]  cnn_3_256_5_1_10  saved_models/cnn_3_256_5_1_10\n",
              "2  4.239  [3, 128, 5, 1, 0.1]  cnn_3_128_5_1_10  saved_models/cnn_3_128_5_1_10\n",
              "3  5.145  [1, 128, 5, 1, 0.1]  cnn_1_128_5_1_10  saved_models/cnn_1_128_5_1_10"
            ],
            "text/html": [
              "\n",
              "  <div id=\"df-d660fe30-684a-4782-a925-9e4b04a46a82\">\n",
              "    <div class=\"colab-df-container\">\n",
              "      <div>\n",
              "<style scoped>\n",
              "    .dataframe tbody tr th:only-of-type {\n",
              "        vertical-align: middle;\n",
              "    }\n",
              "\n",
              "    .dataframe tbody tr th {\n",
              "        vertical-align: top;\n",
              "    }\n",
              "\n",
              "    .dataframe thead th {\n",
              "        text-align: right;\n",
              "    }\n",
              "</style>\n",
              "<table border=\"1\" class=\"dataframe\">\n",
              "  <thead>\n",
              "    <tr style=\"text-align: right;\">\n",
              "      <th></th>\n",
              "      <th>error</th>\n",
              "      <th>config</th>\n",
              "      <th>model_name</th>\n",
              "      <th>model_path</th>\n",
              "    </tr>\n",
              "  </thead>\n",
              "  <tbody>\n",
              "    <tr>\n",
              "      <th>0</th>\n",
              "      <td>4.082</td>\n",
              "      <td>[1, 256, 5, 1, 0.1]</td>\n",
              "      <td>cnn_1_256_5_1_10</td>\n",
              "      <td>saved_models/cnn_1_256_5_1_10</td>\n",
              "    </tr>\n",
              "    <tr>\n",
              "      <th>1</th>\n",
              "      <td>4.196</td>\n",
              "      <td>[3, 256, 5, 1, 0.1]</td>\n",
              "      <td>cnn_3_256_5_1_10</td>\n",
              "      <td>saved_models/cnn_3_256_5_1_10</td>\n",
              "    </tr>\n",
              "    <tr>\n",
              "      <th>2</th>\n",
              "      <td>4.239</td>\n",
              "      <td>[3, 128, 5, 1, 0.1]</td>\n",
              "      <td>cnn_3_128_5_1_10</td>\n",
              "      <td>saved_models/cnn_3_128_5_1_10</td>\n",
              "    </tr>\n",
              "    <tr>\n",
              "      <th>3</th>\n",
              "      <td>5.145</td>\n",
              "      <td>[1, 128, 5, 1, 0.1]</td>\n",
              "      <td>cnn_1_128_5_1_10</td>\n",
              "      <td>saved_models/cnn_1_128_5_1_10</td>\n",
              "    </tr>\n",
              "  </tbody>\n",
              "</table>\n",
              "</div>\n",
              "      <button class=\"colab-df-convert\" onclick=\"convertToInteractive('df-d660fe30-684a-4782-a925-9e4b04a46a82')\"\n",
              "              title=\"Convert this dataframe to an interactive table.\"\n",
              "              style=\"display:none;\">\n",
              "        \n",
              "  <svg xmlns=\"http://www.w3.org/2000/svg\" height=\"24px\"viewBox=\"0 0 24 24\"\n",
              "       width=\"24px\">\n",
              "    <path d=\"M0 0h24v24H0V0z\" fill=\"none\"/>\n",
              "    <path d=\"M18.56 5.44l.94 2.06.94-2.06 2.06-.94-2.06-.94-.94-2.06-.94 2.06-2.06.94zm-11 1L8.5 8.5l.94-2.06 2.06-.94-2.06-.94L8.5 2.5l-.94 2.06-2.06.94zm10 10l.94 2.06.94-2.06 2.06-.94-2.06-.94-.94-2.06-.94 2.06-2.06.94z\"/><path d=\"M17.41 7.96l-1.37-1.37c-.4-.4-.92-.59-1.43-.59-.52 0-1.04.2-1.43.59L10.3 9.45l-7.72 7.72c-.78.78-.78 2.05 0 2.83L4 21.41c.39.39.9.59 1.41.59.51 0 1.02-.2 1.41-.59l7.78-7.78 2.81-2.81c.8-.78.8-2.07 0-2.86zM5.41 20L4 18.59l7.72-7.72 1.47 1.35L5.41 20z\"/>\n",
              "  </svg>\n",
              "      </button>\n",
              "      \n",
              "  <style>\n",
              "    .colab-df-container {\n",
              "      display:flex;\n",
              "      flex-wrap:wrap;\n",
              "      gap: 12px;\n",
              "    }\n",
              "\n",
              "    .colab-df-convert {\n",
              "      background-color: #E8F0FE;\n",
              "      border: none;\n",
              "      border-radius: 50%;\n",
              "      cursor: pointer;\n",
              "      display: none;\n",
              "      fill: #1967D2;\n",
              "      height: 32px;\n",
              "      padding: 0 0 0 0;\n",
              "      width: 32px;\n",
              "    }\n",
              "\n",
              "    .colab-df-convert:hover {\n",
              "      background-color: #E2EBFA;\n",
              "      box-shadow: 0px 1px 2px rgba(60, 64, 67, 0.3), 0px 1px 3px 1px rgba(60, 64, 67, 0.15);\n",
              "      fill: #174EA6;\n",
              "    }\n",
              "\n",
              "    [theme=dark] .colab-df-convert {\n",
              "      background-color: #3B4455;\n",
              "      fill: #D2E3FC;\n",
              "    }\n",
              "\n",
              "    [theme=dark] .colab-df-convert:hover {\n",
              "      background-color: #434B5C;\n",
              "      box-shadow: 0px 1px 3px 1px rgba(0, 0, 0, 0.15);\n",
              "      filter: drop-shadow(0px 1px 2px rgba(0, 0, 0, 0.3));\n",
              "      fill: #FFFFFF;\n",
              "    }\n",
              "  </style>\n",
              "\n",
              "      <script>\n",
              "        const buttonEl =\n",
              "          document.querySelector('#df-d660fe30-684a-4782-a925-9e4b04a46a82 button.colab-df-convert');\n",
              "        buttonEl.style.display =\n",
              "          google.colab.kernel.accessAllowed ? 'block' : 'none';\n",
              "\n",
              "        async function convertToInteractive(key) {\n",
              "          const element = document.querySelector('#df-d660fe30-684a-4782-a925-9e4b04a46a82');\n",
              "          const dataTable =\n",
              "            await google.colab.kernel.invokeFunction('convertToInteractive',\n",
              "                                                     [key], {});\n",
              "          if (!dataTable) return;\n",
              "\n",
              "          const docLinkHtml = 'Like what you see? Visit the ' +\n",
              "            '<a target=\"_blank\" href=https://colab.research.google.com/notebooks/data_table.ipynb>data table notebook</a>'\n",
              "            + ' to learn more about interactive tables.';\n",
              "          element.innerHTML = '';\n",
              "          dataTable['output_type'] = 'display_data';\n",
              "          await google.colab.output.renderOutput(dataTable, element);\n",
              "          const docLink = document.createElement('div');\n",
              "          docLink.innerHTML = docLinkHtml;\n",
              "          element.appendChild(docLink);\n",
              "        }\n",
              "      </script>\n",
              "    </div>\n",
              "  </div>\n",
              "  "
            ]
          },
          "metadata": {},
          "execution_count": 8
        }
      ]
    },
    {
      "cell_type": "markdown",
      "source": [
        "# **Executive Summary**\n",
        "\n",
        "Time to collect results of the best 4 models of each class in a summary data frame."
      ],
      "metadata": {
        "id": "-1Uw5n4ULGX_"
      }
    },
    {
      "cell_type": "code",
      "source": [
        "results_df = pd.DataFrame({'naive': naive_gs.error,\n",
        "                           'mlp': mlp_gs.error,\n",
        "                           'lstm':lstm_gs.error,\n",
        "                           'cnn': cnn_gs.error})\n",
        "results_df.index = pd.RangeIndex(start=1, stop=5, step=1)\n",
        "results_df.index = results_df.index.set_names(['rank'])\n",
        "results_df"
      ],
      "metadata": {
        "colab": {
          "base_uri": "https://localhost:8080/",
          "height": 206
        },
        "id": "P0OogO4SH9z4",
        "outputId": "8a520259-cb1b-4c0a-905a-a83317f170ab"
      },
      "execution_count": 35,
      "outputs": [
        {
          "output_type": "execute_result",
          "data": {
            "text/plain": [
              "      naive    mlp   lstm    cnn\n",
              "rank                            \n",
              "1     2.129  2.150  2.237  4.082\n",
              "2     3.056  2.163  2.302  4.196\n",
              "3     3.691  2.358  2.458  4.239\n",
              "4     4.184  2.815  2.720  5.145"
            ],
            "text/html": [
              "\n",
              "  <div id=\"df-5bcd7130-5a30-4b02-abed-e0bca2a3e775\">\n",
              "    <div class=\"colab-df-container\">\n",
              "      <div>\n",
              "<style scoped>\n",
              "    .dataframe tbody tr th:only-of-type {\n",
              "        vertical-align: middle;\n",
              "    }\n",
              "\n",
              "    .dataframe tbody tr th {\n",
              "        vertical-align: top;\n",
              "    }\n",
              "\n",
              "    .dataframe thead th {\n",
              "        text-align: right;\n",
              "    }\n",
              "</style>\n",
              "<table border=\"1\" class=\"dataframe\">\n",
              "  <thead>\n",
              "    <tr style=\"text-align: right;\">\n",
              "      <th></th>\n",
              "      <th>naive</th>\n",
              "      <th>mlp</th>\n",
              "      <th>lstm</th>\n",
              "      <th>cnn</th>\n",
              "    </tr>\n",
              "    <tr>\n",
              "      <th>rank</th>\n",
              "      <th></th>\n",
              "      <th></th>\n",
              "      <th></th>\n",
              "      <th></th>\n",
              "    </tr>\n",
              "  </thead>\n",
              "  <tbody>\n",
              "    <tr>\n",
              "      <th>1</th>\n",
              "      <td>2.129</td>\n",
              "      <td>2.150</td>\n",
              "      <td>2.237</td>\n",
              "      <td>4.082</td>\n",
              "    </tr>\n",
              "    <tr>\n",
              "      <th>2</th>\n",
              "      <td>3.056</td>\n",
              "      <td>2.163</td>\n",
              "      <td>2.302</td>\n",
              "      <td>4.196</td>\n",
              "    </tr>\n",
              "    <tr>\n",
              "      <th>3</th>\n",
              "      <td>3.691</td>\n",
              "      <td>2.358</td>\n",
              "      <td>2.458</td>\n",
              "      <td>4.239</td>\n",
              "    </tr>\n",
              "    <tr>\n",
              "      <th>4</th>\n",
              "      <td>4.184</td>\n",
              "      <td>2.815</td>\n",
              "      <td>2.720</td>\n",
              "      <td>5.145</td>\n",
              "    </tr>\n",
              "  </tbody>\n",
              "</table>\n",
              "</div>\n",
              "      <button class=\"colab-df-convert\" onclick=\"convertToInteractive('df-5bcd7130-5a30-4b02-abed-e0bca2a3e775')\"\n",
              "              title=\"Convert this dataframe to an interactive table.\"\n",
              "              style=\"display:none;\">\n",
              "        \n",
              "  <svg xmlns=\"http://www.w3.org/2000/svg\" height=\"24px\"viewBox=\"0 0 24 24\"\n",
              "       width=\"24px\">\n",
              "    <path d=\"M0 0h24v24H0V0z\" fill=\"none\"/>\n",
              "    <path d=\"M18.56 5.44l.94 2.06.94-2.06 2.06-.94-2.06-.94-.94-2.06-.94 2.06-2.06.94zm-11 1L8.5 8.5l.94-2.06 2.06-.94-2.06-.94L8.5 2.5l-.94 2.06-2.06.94zm10 10l.94 2.06.94-2.06 2.06-.94-2.06-.94-.94-2.06-.94 2.06-2.06.94z\"/><path d=\"M17.41 7.96l-1.37-1.37c-.4-.4-.92-.59-1.43-.59-.52 0-1.04.2-1.43.59L10.3 9.45l-7.72 7.72c-.78.78-.78 2.05 0 2.83L4 21.41c.39.39.9.59 1.41.59.51 0 1.02-.2 1.41-.59l7.78-7.78 2.81-2.81c.8-.78.8-2.07 0-2.86zM5.41 20L4 18.59l7.72-7.72 1.47 1.35L5.41 20z\"/>\n",
              "  </svg>\n",
              "      </button>\n",
              "      \n",
              "  <style>\n",
              "    .colab-df-container {\n",
              "      display:flex;\n",
              "      flex-wrap:wrap;\n",
              "      gap: 12px;\n",
              "    }\n",
              "\n",
              "    .colab-df-convert {\n",
              "      background-color: #E8F0FE;\n",
              "      border: none;\n",
              "      border-radius: 50%;\n",
              "      cursor: pointer;\n",
              "      display: none;\n",
              "      fill: #1967D2;\n",
              "      height: 32px;\n",
              "      padding: 0 0 0 0;\n",
              "      width: 32px;\n",
              "    }\n",
              "\n",
              "    .colab-df-convert:hover {\n",
              "      background-color: #E2EBFA;\n",
              "      box-shadow: 0px 1px 2px rgba(60, 64, 67, 0.3), 0px 1px 3px 1px rgba(60, 64, 67, 0.15);\n",
              "      fill: #174EA6;\n",
              "    }\n",
              "\n",
              "    [theme=dark] .colab-df-convert {\n",
              "      background-color: #3B4455;\n",
              "      fill: #D2E3FC;\n",
              "    }\n",
              "\n",
              "    [theme=dark] .colab-df-convert:hover {\n",
              "      background-color: #434B5C;\n",
              "      box-shadow: 0px 1px 3px 1px rgba(0, 0, 0, 0.15);\n",
              "      filter: drop-shadow(0px 1px 2px rgba(0, 0, 0, 0.3));\n",
              "      fill: #FFFFFF;\n",
              "    }\n",
              "  </style>\n",
              "\n",
              "      <script>\n",
              "        const buttonEl =\n",
              "          document.querySelector('#df-5bcd7130-5a30-4b02-abed-e0bca2a3e775 button.colab-df-convert');\n",
              "        buttonEl.style.display =\n",
              "          google.colab.kernel.accessAllowed ? 'block' : 'none';\n",
              "\n",
              "        async function convertToInteractive(key) {\n",
              "          const element = document.querySelector('#df-5bcd7130-5a30-4b02-abed-e0bca2a3e775');\n",
              "          const dataTable =\n",
              "            await google.colab.kernel.invokeFunction('convertToInteractive',\n",
              "                                                     [key], {});\n",
              "          if (!dataTable) return;\n",
              "\n",
              "          const docLinkHtml = 'Like what you see? Visit the ' +\n",
              "            '<a target=\"_blank\" href=https://colab.research.google.com/notebooks/data_table.ipynb>data table notebook</a>'\n",
              "            + ' to learn more about interactive tables.';\n",
              "          element.innerHTML = '';\n",
              "          dataTable['output_type'] = 'display_data';\n",
              "          await google.colab.output.renderOutput(dataTable, element);\n",
              "          const docLink = document.createElement('div');\n",
              "          docLink.innerHTML = docLinkHtml;\n",
              "          element.appendChild(docLink);\n",
              "        }\n",
              "      </script>\n",
              "    </div>\n",
              "  </div>\n",
              "  "
            ]
          },
          "metadata": {},
          "execution_count": 35
        }
      ]
    },
    {
      "cell_type": "markdown",
      "source": [
        "It would not be a bad idea to visualize the results."
      ],
      "metadata": {
        "id": "MnTgyYOQuHMX"
      }
    },
    {
      "cell_type": "code",
      "source": [
        "results_df.plot.bar(color=['#E50000','#808080','#929591',   '#C0C0C0'])\n",
        "plt.title(\"Summary of results\")\n",
        "plt.xlabel(\"Rank of a given model\")\n",
        "plt.xticks(rotation=0, horizontalalignment=\"center\")\n",
        "plt.ylabel(\"Square Root of Error\");"
      ],
      "metadata": {
        "colab": {
          "base_uri": "https://localhost:8080/",
          "height": 299
        },
        "id": "GJ6W0ZCUdqmB",
        "outputId": "32edc88c-80e4-43d4-915f-f67ed0b4f040"
      },
      "execution_count": 38,
      "outputs": [
        {
          "output_type": "display_data",
          "data": {
            "text/plain": [
              "<Figure size 432x288 with 1 Axes>"
            ],
            "image/png": "[encoded data removed]"
          },
          "metadata": {}
        }
      ]
    },
    {
      "cell_type": "markdown",
      "source": [
        "**Key takeaways:**\n",
        "\n",
        "\n",
        "\n",
        "Deep Learning techniques have hard time bitting very simple naive model\n",
        "\n",
        "We could try fine-tuning playing with different hyperparameters like: learing rate, activation functions, initializations methods, number of layers, number of units and so on...\n",
        "\n",
        "Instead, in the next part we will attempt to verify whether adding exogenous variables has potential to add value to our modelling experiments of Brent prices..."
      ],
      "metadata": {
        "id": "i5Ie4APzARVf"
      }
    }
  ]
}