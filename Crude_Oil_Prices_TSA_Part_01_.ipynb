{
  "nbformat": 4,
  "nbformat_minor": 0,
  "metadata": {
    "colab": {
      "provenance": [],
      "toc_visible": true,
      "authorship_tag": "ABX9TyOgJXpUx4qL9ZD8lwt/Ma+u",
      "include_colab_link": true
    },
    "kernelspec": {
      "name": "python3",
      "display_name": "Python 3"
    },
    "language_info": {
      "name": "python"
    }
  },
  "cells": [
    {
      "cell_type": "markdown",
      "metadata": {
        "id": "view-in-github",
        "colab_type": "text"
      },
      "source": [
        "<a href=\"https://colab.research.google.com/github/slopatek/Crude_Oil_Prices_Time_Series_Analysis/blob/main/Crude_Oil_Prices_TSA_Part_01_.ipynb\" target=\"_parent\"><img src=\"https://colab.research.google.com/assets/colab-badge.svg\" alt=\"Open In Colab\"/></a>"
      ]
    },
    {
      "cell_type": "markdown",
      "source": [
        "#**Crude Oil Prices - Time Series Analysis (Part 1)**\n",
        "\n",
        "The ultimate objective is to model crude oil prices using machine learning techniues. As all ML practicioners know very well, time series analysis for open systems (and market indices in particular) is very challenging task where expectations should be kept in check. That will not stop us though from a few useful experiments. First things first - let's see what we are dealing with..."
      ],
      "metadata": {
        "id": "MmQDiudckXZp"
      }
    },
    {
      "cell_type": "markdown",
      "source": [
        "# **Preparing the ground**\n",
        "\n",
        "Let's import usual suspects, code some useful functions and eventually download the data, that we will work with...."
      ],
      "metadata": {
        "id": "uojExUbZeszP"
      }
    },
    {
      "cell_type": "markdown",
      "source": [
        "##**Required imports**"
      ],
      "metadata": {
        "id": "BioVskalkO2U"
      }
    },
    {
      "cell_type": "code",
      "source": [
        "# the module will be useful later when searching for optimum ARIMA model\n",
        "pip install pmdarima"
      ],
      "metadata": {
        "id": "YQqYYi8tj3Lv",
        "colab": {
          "base_uri": "https://localhost:8080/"
        },
        "outputId": "6b636c5b-978d-4031-ae66-00acb8a2d3d9"
      },
      "execution_count": 1,
      "outputs": [
        {
          "output_type": "stream",
          "name": "stdout",
          "text": [
            "Looking in indexes: https://pypi.org/simple, https://us-python.pkg.dev/colab-wheels/public/simple/\n",
            "Collecting pmdarima\n",
            "  Downloading pmdarima-2.0.2-cp38-cp38-manylinux_2_17_x86_64.manylinux2014_x86_64.manylinux_2_28_x86_64.whl (1.9 MB)\n",
            "\u001b[K     |████████████████████████████████| 1.9 MB 4.1 MB/s \n",
            "\u001b[?25hRequirement already satisfied: pandas>=0.19 in /usr/local/lib/python3.8/dist-packages (from pmdarima) (1.3.5)\n",
            "Collecting statsmodels>=0.13.2\n",
            "  Downloading statsmodels-0.13.5-cp38-cp38-manylinux_2_17_x86_64.manylinux2014_x86_64.whl (9.9 MB)\n",
            "\u001b[K     |████████████████████████████████| 9.9 MB 37.3 MB/s \n",
            "\u001b[?25hRequirement already satisfied: Cython!=0.29.18,!=0.29.31,>=0.29 in /usr/local/lib/python3.8/dist-packages (from pmdarima) (0.29.32)\n",
            "Requirement already satisfied: urllib3 in /usr/local/lib/python3.8/dist-packages (from pmdarima) (1.24.3)\n",
            "Requirement already satisfied: numpy>=1.21.2 in /usr/local/lib/python3.8/dist-packages (from pmdarima) (1.21.6)\n",
            "Requirement already satisfied: setuptools!=50.0.0,>=38.6.0 in /usr/local/lib/python3.8/dist-packages (from pmdarima) (57.4.0)\n",
            "Requirement already satisfied: scipy>=1.3.2 in /usr/local/lib/python3.8/dist-packages (from pmdarima) (1.7.3)\n",
            "Requirement already satisfied: scikit-learn>=0.22 in /usr/local/lib/python3.8/dist-packages (from pmdarima) (1.0.2)\n",
            "Requirement already satisfied: joblib>=0.11 in /usr/local/lib/python3.8/dist-packages (from pmdarima) (1.2.0)\n",
            "Requirement already satisfied: python-dateutil>=2.7.3 in /usr/local/lib/python3.8/dist-packages (from pandas>=0.19->pmdarima) (2.8.2)\n",
            "Requirement already satisfied: pytz>=2017.3 in /usr/local/lib/python3.8/dist-packages (from pandas>=0.19->pmdarima) (2022.6)\n",
            "Requirement already satisfied: six>=1.5 in /usr/local/lib/python3.8/dist-packages (from python-dateutil>=2.7.3->pandas>=0.19->pmdarima) (1.15.0)\n",
            "Requirement already satisfied: threadpoolctl>=2.0.0 in /usr/local/lib/python3.8/dist-packages (from scikit-learn>=0.22->pmdarima) (3.1.0)\n",
            "Requirement already satisfied: patsy>=0.5.2 in /usr/local/lib/python3.8/dist-packages (from statsmodels>=0.13.2->pmdarima) (0.5.3)\n",
            "Requirement already satisfied: packaging>=21.3 in /usr/local/lib/python3.8/dist-packages (from statsmodels>=0.13.2->pmdarima) (21.3)\n",
            "Requirement already satisfied: pyparsing!=3.0.5,>=2.0.2 in /usr/local/lib/python3.8/dist-packages (from packaging>=21.3->statsmodels>=0.13.2->pmdarima) (3.0.9)\n",
            "Installing collected packages: statsmodels, pmdarima\n",
            "  Attempting uninstall: statsmodels\n",
            "    Found existing installation: statsmodels 0.12.2\n",
            "    Uninstalling statsmodels-0.12.2:\n",
            "      Successfully uninstalled statsmodels-0.12.2\n",
            "Successfully installed pmdarima-2.0.2 statsmodels-0.13.5\n"
          ]
        }
      ]
    },
    {
      "cell_type": "code",
      "source": [
        "import numpy as np\n",
        "import pandas as pd\n",
        "import matplotlib.pyplot as plt\n",
        "import scipy.stats\n",
        "import pylab\n",
        "import statsmodels\n",
        "from statsmodels.tsa.stattools import adfuller\n",
        "from statsmodels.tsa.seasonal import seasonal_decompose\n",
        "import warnings\n",
        "from warnings import catch_warnings, filterwarnings, simplefilter\n",
        "import statsmodels.tsa.stattools as sts\n",
        "from statsmodels.graphics.tsaplots import plot_acf, plot_pacf\n",
        "from statsmodels.tsa.arima.model  import ARIMA\n",
        "from statsmodels.tsa.statespace.sarimax import SARIMAX\n",
        "from statsmodels.tsa.holtwinters import ExponentialSmoothing\n",
        "from scipy.stats.distributions import chi2\n",
        "from pmdarima import auto_arima\n",
        "import seaborn as sns\n",
        "sns.set()\n",
        "import itertools\n",
        "import datetime as dt\n",
        "from timeit import default_timer as timer\n",
        "\n",
        "simplefilter(\"ignore\")"
      ],
      "metadata": {
        "id": "B8ypEUYBbrVb"
      },
      "execution_count": 2,
      "outputs": []
    },
    {
      "cell_type": "markdown",
      "metadata": {
        "id": "to7ezVTIkfnA"
      },
      "source": [
        "##**Useful functions**\n",
        "\n",
        "They will save us some time at a later stage."
      ]
    },
    {
      "cell_type": "code",
      "execution_count": 23,
      "metadata": {
        "id": "S5b3mtYskmMj"
      },
      "outputs": [],
      "source": [
        "def LLR_test(model_1, model_2, deg_of_fred = 1):\n",
        "  LL1 = model_1.fit().llf\n",
        "  LL2 = model_2.fit().llf\n",
        "  LR = (2*(LL2 - LL1))\n",
        "  p = chi2.sf(LR, deg_of_fred).round(3)\n",
        "  return p\n",
        "\n",
        "def train_test_splitting(data, test_percent = 0.10):\n",
        "  test_size = int(len(data) * test_percent)\n",
        "  #return np.array(data[:-test_size]), np.array(data[-test_size:])\n",
        "  return data[:-test_size], data[-test_size:]\n",
        "  \n",
        "def calculate_rmse(y_true, y_pred):\n",
        "        return np.sqrt(np.mean(np.square(y_pred - y_true)))\n",
        "\n",
        "def assess_predictions(actual_data, predicted_data):\n",
        "  prediction_error = np.round(calculate_rmse(actual_data, predicted_data),3)\n",
        "  return prediction_error\n",
        "\n",
        "def stationarity_check(series):\n",
        "  outcome =[]\n",
        "  result = adfuller(series)\n",
        "  for key, value in result[4].items():\n",
        "    if result[0]<value:\n",
        "      outcome.append((key,True))\n",
        "    else:\n",
        "      outcome.append((key,False))\n",
        "  if outcome[0][1] == outcome[1][1] == outcome[2][1] == True:\n",
        "    verdict = 'Stationary'\n",
        "  elif outcome[0][1] == outcome[1][1] == outcome[2][1] == False:\n",
        "    verdict = 'Not Stationary'\n",
        "  else:\n",
        "    verdict = 'Depends'\n",
        "  return verdict, outcome\n",
        "\n",
        "def first_diff(time_series):\n",
        "  if type(time_series) != pd.core.frame.DataFrame:\n",
        "    df_time_series = pd.DataFrame(time_series)\n",
        "  else:\n",
        "    df_time_series = time_series.iloc[: , -1:]\n",
        "  return df_time_series.diff().dropna()\n",
        "\n",
        "def series_decomposition(time_series):\n",
        "  decomposition = seasonal_decompose(time_series, model = \"additive\", period = 30)\n",
        "  trend, seasonal, residual = decomposition.trend, decomposition.seasonal, decomposition.resid\n",
        "  f = plt.figure(facecolor='white', figsize = (15,4))\n",
        "  ax1, ax2, ax3 = f.add_subplot(131), f.add_subplot(132), f.add_subplot(133)\n",
        "  ax1.plot(trend), ax2.plot(seasonal), ax3.plot(residual)\n",
        "  ax1.set_title('Trend - ' + time_series.name)\n",
        "  ax2.set_title('Seasonal - ' + time_series.name)\n",
        "  ax3.set_title('Residual - ' + time_series.name)\n",
        "  plt.tight_layout()"
      ]
    },
    {
      "cell_type": "markdown",
      "source": [
        "##**Data retrieval**\n",
        "\n",
        "Two major crude oil futures contracts are WTI (West Texas Intermediate) traded on NYMEX (New York Mercantile Exchange) and Brent traded on ICE (InterContinental Exchange) in London. We will choose to work with the latter one as it has much more global scope."
      ],
      "metadata": {
        "id": "8yV5ThjakwAi"
      }
    },
    {
      "cell_type": "code",
      "source": [
        "brent = pd.read_csv(\"ICE_Brent.csv\", sep = \";\", usecols = [\"Date\", \"Close\"], index_col = \"Date\", parse_dates = True)\n",
        "brent[\"Close\"] = brent[\"Close\"].str.replace(',', '.').astype(\"float64\")"
      ],
      "metadata": {
        "id": "anq3nfQmK36N"
      },
      "execution_count": 4,
      "outputs": []
    },
    {
      "cell_type": "markdown",
      "source": [
        "# **Explanatory Data Analysis**\n",
        "\n",
        "Let's see what exatly we are dealing with here, how data is being distributed, what characteristics it exibits, is it stationary, does it show time dependence etc. etc."
      ],
      "metadata": {
        "id": "gisfkdHGfBz2"
      }
    },
    {
      "cell_type": "markdown",
      "source": [
        "##**Price history**"
      ],
      "metadata": {
        "id": "dfa3AIJ0lPsI"
      }
    },
    {
      "cell_type": "markdown",
      "source": [
        "Quick check of potential missing values"
      ],
      "metadata": {
        "id": "DPBeU92LuWvW"
      }
    },
    {
      "cell_type": "code",
      "source": [
        "brent.isna().sum()"
      ],
      "metadata": {
        "colab": {
          "base_uri": "https://localhost:8080/"
        },
        "id": "TIyA6OAWuJ7f",
        "outputId": "c4d8c97b-c80c-4993-9f52-34e5a0d26870"
      },
      "execution_count": 5,
      "outputs": [
        {
          "output_type": "execute_result",
          "data": {
            "text/plain": [
              "Close    0\n",
              "dtype: int64"
            ]
          },
          "metadata": {},
          "execution_count": 5
        }
      ]
    },
    {
      "cell_type": "markdown",
      "source": [
        "Visualizing price behavior since 1988"
      ],
      "metadata": {
        "id": "mqEb-wp0ucCh"
      }
    },
    {
      "cell_type": "code",
      "source": [
        "plt.style.use(\"ggplot\")\n",
        "brent.Close.plot(figsize=(15,6), label = \"Front month prices\")\n",
        "plt.title(\"ICE Brent - crude oil futures\")\n",
        "plt.ylabel(\"USD / bbl\")\n",
        "plt.xlabel(\"Dates\")\n",
        "plt.legend();"
      ],
      "metadata": {
        "colab": {
          "base_uri": "https://localhost:8080/",
          "height": 391
        },
        "id": "Gc6GDgj2g0hV",
        "outputId": "d41a5b3f-120a-4c42-f2da-b8e37829c3ed"
      },
      "execution_count": 6,
      "outputs": [
        {
          "output_type": "display_data",
          "data": {
            "text/plain": [
              "<Figure size 1080x432 with 1 Axes>"
            ],
            "image/png": "[encoded data removed]"
          },
          "metadata": {}
        }
      ]
    },
    {
      "cell_type": "markdown",
      "source": [
        "##**Distribution of Brent prices**"
      ],
      "metadata": {
        "id": "vHl9vJ0jlgfD"
      }
    },
    {
      "cell_type": "code",
      "source": [
        "fig = plt.figure(figsize=(15,4))\n",
        "ax1, ax2, ax3 = fig.add_subplot(131), fig.add_subplot(132), fig.add_subplot(133)\n",
        "ax1.hist(brent.Close, bins=100)\n",
        "ax1.set_title(\"Histogram - absolute prices\")\n",
        "ax2.hist(brent.Close.diff().dropna(), bins=100)\n",
        "ax2.set_xlim(-6,6)\n",
        "ax2.set_title(\"Histogram - daily changes\")\n",
        "brent.Close.diff().dropna().plot.kde(ax=ax2, color = \"grey\")\n",
        "scipy.stats.probplot(brent.Close, plot = ax3)\n",
        "ax3.get_lines()[0].set_marker('p')\n",
        "ax3.get_lines()[0].set_markerfacecolor('r')\n",
        "ax3.get_lines()[0].set_markersize(6.0)\n",
        "ax3.get_lines()[0].set_markeredgecolor(\"r\")\n",
        "ax3.get_lines()[1].set_linewidth(6.0)\n",
        "ax3.get_lines()[1].set_color(\"grey\")\n",
        "ax3.set_title(\"QQ / Probability Plot\")\n",
        "plt.tight_layout()\n",
        "plt.show();"
      ],
      "metadata": {
        "colab": {
          "base_uri": "https://localhost:8080/",
          "height": 297
        },
        "id": "Xlohmz5hBjAw",
        "outputId": "b69e8704-330a-4eab-d94e-af0e0581d3ac"
      },
      "execution_count": 8,
      "outputs": [
        {
          "output_type": "display_data",
          "data": {
            "text/plain": [
              "<Figure size 1080x288 with 3 Axes>"
            ],
            "image/png": "[encoded data removed]"
          },
          "metadata": {}
        }
      ]
    },
    {
      "cell_type": "markdown",
      "source": [
        "* Absolute prices show three distinct clusters: \n",
        "1.   around 20 USD/bbl - mostly in the period 1988 - 2004\n",
        "2.   around 65 & 110 USD/bbl - past 2004, which may serve as proxy for low price and highe price environment respectively\n",
        "\n",
        "* It is tempting to say that daily price changes follow Gaussian distribution based on histogram od daily changes, nevertheless...\n",
        "\n",
        "* QQ (quantile-quantile) plot clearly shows that Brent prices do not follow normal distribution. Hence we cannot use elegant statistics of normal distribution to make successful forecasts. That's actually what we usually expect from market data. No surprises here..."
      ],
      "metadata": {
        "id": "FaQpFXyPlnLZ"
      }
    },
    {
      "cell_type": "markdown",
      "source": [
        "##**White Noise**"
      ],
      "metadata": {
        "id": "76bIrQl_wm8K"
      }
    },
    {
      "cell_type": "markdown",
      "source": [
        "The question is whether data follows some kind of pattern or could be described as a white noise under three conditions:\n",
        "1.   constant mean\n",
        "2.   constant variance\n",
        "3.   no autocorrelation\n",
        "\n",
        "Let's generate White Nosie data, plot its values and compare to respective Brent values."
      ],
      "metadata": {
        "id": "pHMu4F5Jw1RW"
      }
    },
    {
      "cell_type": "code",
      "source": [
        "white_noise = np.random.normal(loc = brent.Close.mean(),\n",
        "                               scale = brent.Close.std(),\n",
        "                               size = len(brent))\n",
        "brent[\"white_noise\"] = white_noise\n",
        "brent.describe().T"
      ],
      "metadata": {
        "colab": {
          "base_uri": "https://localhost:8080/",
          "height": 112
        },
        "id": "1swNsacPg0vt",
        "outputId": "87a1c0b2-a976-461e-fdd6-6c183bf6ad37"
      },
      "execution_count": 9,
      "outputs": [
        {
          "output_type": "execute_result",
          "data": {
            "text/plain": [
              "              count       mean        std        min        25%        50%  \\\n",
              "Close        8793.0  50.086072  33.040581   9.640000  19.480000  43.300000   \n",
              "white_noise  8793.0  49.260202  32.771079 -88.613199  27.329648  49.145666   \n",
              "\n",
              "                   75%         max  \n",
              "Close        72.130000  146.080000  \n",
              "white_noise  71.805987  160.280211  "
            ],
            "text/html": [
              "\n",
              "  <div id=\"df-5a0d41d1-b049-45bc-ae9f-bec3b3d14617\">\n",
              "    <div class=\"colab-df-container\">\n",
              "      <div>\n",
              "<style scoped>\n",
              "    .dataframe tbody tr th:only-of-type {\n",
              "        vertical-align: middle;\n",
              "    }\n",
              "\n",
              "    .dataframe tbody tr th {\n",
              "        vertical-align: top;\n",
              "    }\n",
              "\n",
              "    .dataframe thead th {\n",
              "        text-align: right;\n",
              "    }\n",
              "</style>\n",
              "<table border=\"1\" class=\"dataframe\">\n",
              "  <thead>\n",
              "    <tr style=\"text-align: right;\">\n",
              "      <th></th>\n",
              "      <th>count</th>\n",
              "      <th>mean</th>\n",
              "      <th>std</th>\n",
              "      <th>min</th>\n",
              "      <th>25%</th>\n",
              "      <th>50%</th>\n",
              "      <th>75%</th>\n",
              "      <th>max</th>\n",
              "    </tr>\n",
              "  </thead>\n",
              "  <tbody>\n",
              "    <tr>\n",
              "      <th>Close</th>\n",
              "      <td>8793.0</td>\n",
              "      <td>50.086072</td>\n",
              "      <td>33.040581</td>\n",
              "      <td>9.640000</td>\n",
              "      <td>19.480000</td>\n",
              "      <td>43.300000</td>\n",
              "      <td>72.130000</td>\n",
              "      <td>146.080000</td>\n",
              "    </tr>\n",
              "    <tr>\n",
              "      <th>white_noise</th>\n",
              "      <td>8793.0</td>\n",
              "      <td>49.260202</td>\n",
              "      <td>32.771079</td>\n",
              "      <td>-88.613199</td>\n",
              "      <td>27.329648</td>\n",
              "      <td>49.145666</td>\n",
              "      <td>71.805987</td>\n",
              "      <td>160.280211</td>\n",
              "    </tr>\n",
              "  </tbody>\n",
              "</table>\n",
              "</div>\n",
              "      <button class=\"colab-df-convert\" onclick=\"convertToInteractive('df-5a0d41d1-b049-45bc-ae9f-bec3b3d14617')\"\n",
              "              title=\"Convert this dataframe to an interactive table.\"\n",
              "              style=\"display:none;\">\n",
              "        \n",
              "  <svg xmlns=\"http://www.w3.org/2000/svg\" height=\"24px\"viewBox=\"0 0 24 24\"\n",
              "       width=\"24px\">\n",
              "    <path d=\"M0 0h24v24H0V0z\" fill=\"none\"/>\n",
              "    <path d=\"M18.56 5.44l.94 2.06.94-2.06 2.06-.94-2.06-.94-.94-2.06-.94 2.06-2.06.94zm-11 1L8.5 8.5l.94-2.06 2.06-.94-2.06-.94L8.5 2.5l-.94 2.06-2.06.94zm10 10l.94 2.06.94-2.06 2.06-.94-2.06-.94-.94-2.06-.94 2.06-2.06.94z\"/><path d=\"M17.41 7.96l-1.37-1.37c-.4-.4-.92-.59-1.43-.59-.52 0-1.04.2-1.43.59L10.3 9.45l-7.72 7.72c-.78.78-.78 2.05 0 2.83L4 21.41c.39.39.9.59 1.41.59.51 0 1.02-.2 1.41-.59l7.78-7.78 2.81-2.81c.8-.78.8-2.07 0-2.86zM5.41 20L4 18.59l7.72-7.72 1.47 1.35L5.41 20z\"/>\n",
              "  </svg>\n",
              "      </button>\n",
              "      \n",
              "  <style>\n",
              "    .colab-df-container {\n",
              "      display:flex;\n",
              "      flex-wrap:wrap;\n",
              "      gap: 12px;\n",
              "    }\n",
              "\n",
              "    .colab-df-convert {\n",
              "      background-color: #E8F0FE;\n",
              "      border: none;\n",
              "      border-radius: 50%;\n",
              "      cursor: pointer;\n",
              "      display: none;\n",
              "      fill: #1967D2;\n",
              "      height: 32px;\n",
              "      padding: 0 0 0 0;\n",
              "      width: 32px;\n",
              "    }\n",
              "\n",
              "    .colab-df-convert:hover {\n",
              "      background-color: #E2EBFA;\n",
              "      box-shadow: 0px 1px 2px rgba(60, 64, 67, 0.3), 0px 1px 3px 1px rgba(60, 64, 67, 0.15);\n",
              "      fill: #174EA6;\n",
              "    }\n",
              "\n",
              "    [theme=dark] .colab-df-convert {\n",
              "      background-color: #3B4455;\n",
              "      fill: #D2E3FC;\n",
              "    }\n",
              "\n",
              "    [theme=dark] .colab-df-convert:hover {\n",
              "      background-color: #434B5C;\n",
              "      box-shadow: 0px 1px 3px 1px rgba(0, 0, 0, 0.15);\n",
              "      filter: drop-shadow(0px 1px 2px rgba(0, 0, 0, 0.3));\n",
              "      fill: #FFFFFF;\n",
              "    }\n",
              "  </style>\n",
              "\n",
              "      <script>\n",
              "        const buttonEl =\n",
              "          document.querySelector('#df-5a0d41d1-b049-45bc-ae9f-bec3b3d14617 button.colab-df-convert');\n",
              "        buttonEl.style.display =\n",
              "          google.colab.kernel.accessAllowed ? 'block' : 'none';\n",
              "\n",
              "        async function convertToInteractive(key) {\n",
              "          const element = document.querySelector('#df-5a0d41d1-b049-45bc-ae9f-bec3b3d14617');\n",
              "          const dataTable =\n",
              "            await google.colab.kernel.invokeFunction('convertToInteractive',\n",
              "                                                     [key], {});\n",
              "          if (!dataTable) return;\n",
              "\n",
              "          const docLinkHtml = 'Like what you see? Visit the ' +\n",
              "            '<a target=\"_blank\" href=https://colab.research.google.com/notebooks/data_table.ipynb>data table notebook</a>'\n",
              "            + ' to learn more about interactive tables.';\n",
              "          element.innerHTML = '';\n",
              "          dataTable['output_type'] = 'display_data';\n",
              "          await google.colab.output.renderOutput(dataTable, element);\n",
              "          const docLink = document.createElement('div');\n",
              "          docLink.innerHTML = docLinkHtml;\n",
              "          element.appendChild(docLink);\n",
              "        }\n",
              "      </script>\n",
              "    </div>\n",
              "  </div>\n",
              "  "
            ]
          },
          "metadata": {},
          "execution_count": 9
        }
      ]
    },
    {
      "cell_type": "code",
      "source": [
        "brent.white_noise.plot(figsize=(15,6))\n",
        "plt.title(\"White noise\")\n",
        "plt.show();"
      ],
      "metadata": {
        "colab": {
          "base_uri": "https://localhost:8080/",
          "height": 391
        },
        "id": "IcCQ6vRn1dEk",
        "outputId": "e09b3e17-72ea-42ec-8d3b-2e75df1c6e21"
      },
      "execution_count": 10,
      "outputs": [
        {
          "output_type": "display_data",
          "data": {
            "text/plain": [
              "<Figure size 1080x432 with 1 Axes>"
            ],
            "image/png": "[encoded data removed]"
          },
          "metadata": {}
        }
      ]
    },
    {
      "cell_type": "markdown",
      "source": [
        "We may conclude that Brent prices are not random and do not represent white noise characteristics. The search for a pattern continues...."
      ],
      "metadata": {
        "id": "xSuGXruL3V60"
      }
    },
    {
      "cell_type": "markdown",
      "source": [
        "##**Random Walk**\n",
        "\n",
        "Let's shift our focus to a special type of time series called random walk. Its values tend to persist over time and periodical changes are basicaly white noise (mentioned above)."
      ],
      "metadata": {
        "id": "6WEl9MCN4Tdl"
      }
    },
    {
      "cell_type": "code",
      "source": [
        "random_walk = [brent.Close.mean()]\n",
        "for i in range(len(brent)-1):\n",
        "  next = random_walk[i] + np.random.normal(loc=0, scale = 1)\n",
        "  random_walk.append(next)\n",
        "\n",
        "brent[\"random_walk\"] = random_walk\n",
        "brent.random_walk.plot(figsize=(15,6));"
      ],
      "metadata": {
        "id": "B51n8b164Vm7",
        "colab": {
          "base_uri": "https://localhost:8080/",
          "height": 374
        },
        "outputId": "b04bef2c-67af-4643-d884-1cd8352673e7"
      },
      "execution_count": 11,
      "outputs": [
        {
          "output_type": "display_data",
          "data": {
            "text/plain": [
              "<Figure size 1080x432 with 1 Axes>"
            ],
            "image/png": "[encoded data removed]"
          },
          "metadata": {}
        }
      ]
    },
    {
      "cell_type": "markdown",
      "source": [
        "Unlike white noise, random walk process indeed resembles crude oil price formation or... acctually the other way around."
      ],
      "metadata": {
        "id": "aZz8HEJAaFVT"
      }
    },
    {
      "cell_type": "markdown",
      "source": [
        "##**Stationarity**\n",
        "\n",
        "Let us examine a week-form stationarity (covarience stationarity) of our data which assumes:\n",
        "\n",
        "> 1) constant mean\n",
        "\n",
        "> 2) constant variance\n",
        "\n",
        "> 3) constant covariance across periods\n"
      ],
      "metadata": {
        "id": "XpWOq4XnR1Wt"
      }
    },
    {
      "cell_type": "code",
      "source": [
        "brent_verdict, brent_tests = stationarity_check(brent[\"Close\"])\n",
        "print('Brent =>  ', brent_verdict, '   Tests  =>   ', brent_tests)"
      ],
      "metadata": {
        "colab": {
          "base_uri": "https://localhost:8080/"
        },
        "id": "WWRzA_lnSSbU",
        "outputId": "8a5824dd-31a4-46b8-b8d9-c64b359aedbe"
      },
      "execution_count": 13,
      "outputs": [
        {
          "output_type": "stream",
          "name": "stdout",
          "text": [
            "Brent =>   Not Stationary    Tests  =>    [('1%', False), ('5%', False), ('10%', False)]\n"
          ]
        }
      ]
    },
    {
      "cell_type": "code",
      "source": [
        "wn_verdict, wn_tests = stationarity_check(brent[\"white_noise\"])\n",
        "print('White noise =>  ', wn_verdict, '   Tests  =>   ', wn_tests)"
      ],
      "metadata": {
        "colab": {
          "base_uri": "https://localhost:8080/"
        },
        "id": "yBZmwDK1TohF",
        "outputId": "b229a0c7-675b-4cbb-a55a-a4e6ad3ccd77"
      },
      "execution_count": 14,
      "outputs": [
        {
          "output_type": "stream",
          "name": "stdout",
          "text": [
            "White noise =>   Stationary    Tests  =>    [('1%', True), ('5%', True), ('10%', True)]\n"
          ]
        }
      ]
    },
    {
      "cell_type": "code",
      "source": [
        "# RW needs to be created first\n",
        "rw_verdict, rw_tests = stationarity_check(brent[\"random_walk\"])\n",
        "print('Random walk =>  ', rw_verdict, '   Tests  =>   ', rw_tests)"
      ],
      "metadata": {
        "colab": {
          "base_uri": "https://localhost:8080/"
        },
        "id": "WAABblkHTrDc",
        "outputId": "427d2a05-1c92-4eae-d7a0-4ccca3b07f88"
      },
      "execution_count": 15,
      "outputs": [
        {
          "output_type": "stream",
          "name": "stdout",
          "text": [
            "Random walk =>   Not Stationary    Tests  =>    [('1%', False), ('5%', False), ('10%', False)]\n"
          ]
        }
      ]
    },
    {
      "cell_type": "markdown",
      "source": [
        "As we would expect - White Noise process turns out to be stationary, while Brent Prices and Random Walk are not stationary.\n",
        "\n",
        "Let's not stop here and try to **transform** Brent prices in order to obtain a stationary series. We will use first differencing."
      ],
      "metadata": {
        "id": "ZyHepUTxMQOi"
      }
    },
    {
      "cell_type": "code",
      "source": [
        "brent_first_diff = first_diff(brent[\"Close\"])\n",
        "brent_diff_verdict, brent_diff_tests = stationarity_check(brent_first_diff)\n",
        "print('Brent diff =>  ', brent_diff_verdict)\n",
        "print('Brent diff tests =>   ', brent_diff_tests)"
      ],
      "metadata": {
        "colab": {
          "base_uri": "https://localhost:8080/"
        },
        "id": "TMHbST877Lwk",
        "outputId": "8e851f64-470b-458f-d0be-c9c2faf072d3"
      },
      "execution_count": 17,
      "outputs": [
        {
          "output_type": "stream",
          "name": "stdout",
          "text": [
            "Brent diff =>   Stationary\n",
            "Brent diff tests =>    [('1%', True), ('5%', True), ('10%', True)]\n"
          ]
        }
      ]
    },
    {
      "cell_type": "markdown",
      "source": [
        "Time series of Brent prices has been successfylly transformed into stationary series of first differences which will be usefull at a later stage.\n",
        "\n",
        "And that is how first differences present themselves..."
      ],
      "metadata": {
        "id": "IrHFyIQb_c3f"
      }
    },
    {
      "cell_type": "code",
      "source": [
        "f = plt.figure(figsize = (15,4))\n",
        "plt.plot(brent_first_diff, label = \"Brent first differences (USD/bbl)\")\n",
        "plt.title('Brent First Differences')\n",
        "plt.legend();"
      ],
      "metadata": {
        "colab": {
          "base_uri": "https://localhost:8080/",
          "height": 285
        },
        "id": "igayPhEX9eLl",
        "outputId": "8437f64e-cf21-479f-ea11-b7e9bc9abdb4"
      },
      "execution_count": 18,
      "outputs": [
        {
          "output_type": "display_data",
          "data": {
            "text/plain": [
              "<Figure size 1080x288 with 1 Axes>"
            ],
            "image/png": "[encoded data removed]"
          },
          "metadata": {}
        }
      ]
    },
    {
      "cell_type": "markdown",
      "source": [
        "##**TS decomposition**"
      ],
      "metadata": {
        "id": "C35PkWLmPtHY"
      }
    },
    {
      "cell_type": "markdown",
      "source": [
        "It would be nice to split price dynamics into three disctinct categaories now: 1) trend 2) seasonal 3) residual\n",
        "\n",
        "We will use the dedicated function for that purpose."
      ],
      "metadata": {
        "id": "jDfevGumAHEz"
      }
    },
    {
      "cell_type": "code",
      "source": [
        "series_decomposition(brent.Close)"
      ],
      "metadata": {
        "colab": {
          "base_uri": "https://localhost:8080/",
          "height": 297
        },
        "id": "QvAQbg2UMeoX",
        "outputId": "60ce3c38-9eda-4544-80a5-05a591368f96"
      },
      "execution_count": 24,
      "outputs": [
        {
          "output_type": "display_data",
          "data": {
            "text/plain": [
              "<Figure size 1080x288 with 3 Axes>"
            ],
            "image/png": "[encoded data removed]"
          },
          "metadata": {}
        }
      ]
    },
    {
      "cell_type": "markdown",
      "source": [
        "Daily data of Brent prices indicates lack of seasonality component."
      ],
      "metadata": {
        "id": "cXf0joHKVHE0"
      }
    },
    {
      "cell_type": "markdown",
      "source": [
        "##**Autocorrelation**\n",
        "\n",
        "Let's now check if Brent prices are correlated with its past values."
      ],
      "metadata": {
        "id": "oLWxB-M0V6ON"
      }
    },
    {
      "cell_type": "code",
      "source": [
        "f = plt.figure(figsize = (15,4)) #facecolor='white'\n",
        "ax1, ax2, ax3 = f.add_subplot(131), f.add_subplot(132), f.add_subplot(133)\n",
        "plot_acf(brent.Close, lags=40, ax=ax1, zero = False, title = \"Brent ACF\")\n",
        "ax1.set_ylim(bottom = -0.25, top = 1.05)\n",
        "plot_acf(brent.random_walk, lags=40, ax=ax2, zero = False, title = \"Random Walk ACF\")\n",
        "ax2.set_ylim(bottom = -0.25, top = 1.05)\n",
        "plot_acf(brent.white_noise, lags=40, ax=ax3, zero = False, title = \"White Noise ACF\")\n",
        "ax3.set_ylim(bottom = -0.05, top = 0.05)\n",
        "plt.tight_layout()"
      ],
      "metadata": {
        "colab": {
          "base_uri": "https://localhost:8080/",
          "height": 297
        },
        "id": "Q3xWy9OganuK",
        "outputId": "2e1dbc2b-945d-44bb-fd43-c03847614e0f"
      },
      "execution_count": null,
      "outputs": [
        {
          "output_type": "display_data",
          "data": {
            "text/plain": [
              "<Figure size 1080x288 with 3 Axes>"
            ],
            "image/png": "[encoded data removed]"
          },
          "metadata": {}
        }
      ]
    },
    {
      "cell_type": "markdown",
      "source": [
        "ACF chart is indicative of time dependence in the Brent price data. The autocorrelation barely diminishes as the lag increases. Similar behaviur is observed for random walk while white noise process is very different with values flipping constantly from positive to negative and the other way around while staying within reddish area indicating their insignificance."
      ],
      "metadata": {
        "id": "XfHzU5ivYNvy"
      }
    },
    {
      "cell_type": "markdown",
      "source": [
        "##**Partial Autocorrelation**\n",
        "\n",
        "Another function (PACF) helps to determine direct relationship with lagged value after accounting for indirect relationship."
      ],
      "metadata": {
        "id": "TNvpmdmqc_9b"
      }
    },
    {
      "cell_type": "code",
      "source": [
        "f = plt.figure(figsize = (15,4))\n",
        "ax1, ax2, ax3 = f.add_subplot(131), f.add_subplot(132), f.add_subplot(133)\n",
        "plot_pacf(brent.Close, lags=40, ax=ax1, zero = False, method = ('ols'), title = \"Brent PACF\")\n",
        "ax1.set_ylim(bottom = -0.05, top = 0.05)\n",
        "plot_pacf(brent.random_walk, lags=40, ax=ax2, zero = False, method = ('ols'), title = \"Random Walk PACF\")\n",
        "ax2.set_ylim(bottom = -0.05, top = 0.05)\n",
        "plot_pacf(brent.white_noise, lags=40, ax=ax3, zero = False, method = ('ols'), title = \"White Noise PACF\")\n",
        "ax3.set_ylim(bottom = -0.05, top = 0.05)\n",
        "plt.tight_layout()"
      ],
      "metadata": {
        "colab": {
          "base_uri": "https://localhost:8080/",
          "height": 297
        },
        "id": "_k1FmuwVbxdg",
        "outputId": "0b5ac4f2-ef65-44c2-82c3-84cc90415b82"
      },
      "execution_count": null,
      "outputs": [
        {
          "output_type": "display_data",
          "data": {
            "text/plain": [
              "<Figure size 1080x288 with 3 Axes>"
            ],
            "image/png": "[encoded data removed]"
          },
          "metadata": {}
        }
      ]
    },
    {
      "cell_type": "markdown",
      "source": [
        "Quite a few of them are significantly different from zero. In stark contrast to ACF values, some of the elements are negative which is indicative pf price correction action."
      ],
      "metadata": {
        "id": "ljUP66IAeRm6"
      }
    },
    {
      "cell_type": "markdown",
      "source": [
        "# **Models tried**\n",
        "\n",
        "Now would be a good moment to try modeling Brent prices using different approaches.\n"
      ],
      "metadata": {
        "id": "lsBq0GZzfPqX"
      }
    },
    {
      "cell_type": "markdown",
      "metadata": {
        "id": "Dh-7b5QMbNbs"
      },
      "source": [
        "## **AR**"
      ]
    },
    {
      "cell_type": "markdown",
      "metadata": {
        "id": "k2panI2wbNbt"
      },
      "source": [
        "Let us remind ourselves that ACF chart is indicative of time dependence in the Brent price data. The autocorrelation is significant at all chosen legs and barely diminishes as the lag increases.\n",
        "\n",
        "Basically the more lags we include in the model, the better it should fit the data but we should be cautious not to overfit so it is not prone to mistakes when forecasting future values. We should attempt to build parsimonious one.\n",
        "\n",
        "Since ACF capture both direct and indirect relationship we should examine PACF. Since value at first lag eclipses all other values which are just on the very edge of being significant we can start with AR(1) model."
      ]
    },
    {
      "cell_type": "code",
      "execution_count": 25,
      "metadata": {
        "colab": {
          "base_uri": "https://localhost:8080/",
          "height": 427
        },
        "id": "i1YUxX6tegFu",
        "outputId": "394d44d9-3232-42b1-a73c-292622c79372"
      },
      "outputs": [
        {
          "output_type": "execute_result",
          "data": {
            "text/plain": [
              "<class 'statsmodels.iolib.summary.Summary'>\n",
              "\"\"\"\n",
              "                               SARIMAX Results                                \n",
              "==============================================================================\n",
              "Dep. Variable:                  Close   No. Observations:                 8793\n",
              "Model:                 ARIMA(1, 0, 0)   Log Likelihood              -14252.257\n",
              "Date:                Thu, 29 Dec 2022   AIC                          28510.515\n",
              "Time:                        10:41:31   BIC                          28531.760\n",
              "Sample:                             0   HQIC                         28517.753\n",
              "                               - 8793                                         \n",
              "Covariance Type:                  opg                                         \n",
              "==============================================================================\n",
              "                 coef    std err          z      P>|z|      [0.025      0.975]\n",
              "------------------------------------------------------------------------------\n",
              "const         50.0861     20.191      2.481      0.013      10.512      89.660\n",
              "ar.L1          0.9993      0.000   2718.868      0.000       0.999       1.000\n",
              "sigma2         1.4964      0.008    179.975      0.000       1.480       1.513\n",
              "===================================================================================\n",
              "Ljung-Box (L1) (Q):                   8.74   Jarque-Bera (JB):             68255.70\n",
              "Prob(Q):                              0.00   Prob(JB):                         0.00\n",
              "Heteroskedasticity (H):              10.17   Skew:                            -0.77\n",
              "Prob(H) (two-sided):                  0.00   Kurtosis:                        16.56\n",
              "===================================================================================\n",
              "\n",
              "Warnings:\n",
              "[1] Covariance matrix calculated using the outer product of gradients (complex-step).\n",
              "\"\"\""
            ],
            "text/html": [
              "<table class=\"simpletable\">\n",
              "<caption>SARIMAX Results</caption>\n",
              "<tr>\n",
              "  <th>Dep. Variable:</th>         <td>Close</td>      <th>  No. Observations:  </th>    <td>8793</td>   \n",
              "</tr>\n",
              "<tr>\n",
              "  <th>Model:</th>            <td>ARIMA(1, 0, 0)</td>  <th>  Log Likelihood     </th> <td>-14252.257</td>\n",
              "</tr>\n",
              "<tr>\n",
              "  <th>Date:</th>            <td>Thu, 29 Dec 2022</td> <th>  AIC                </th>  <td>28510.515</td>\n",
              "</tr>\n",
              "<tr>\n",
              "  <th>Time:</th>                <td>10:41:31</td>     <th>  BIC                </th>  <td>28531.760</td>\n",
              "</tr>\n",
              "<tr>\n",
              "  <th>Sample:</th>                  <td>0</td>        <th>  HQIC               </th>  <td>28517.753</td>\n",
              "</tr>\n",
              "<tr>\n",
              "  <th></th>                      <td> - 8793</td>     <th>                     </th>      <td> </td>    \n",
              "</tr>\n",
              "<tr>\n",
              "  <th>Covariance Type:</th>        <td>opg</td>       <th>                     </th>      <td> </td>    \n",
              "</tr>\n",
              "</table>\n",
              "<table class=\"simpletable\">\n",
              "<tr>\n",
              "     <td></td>       <th>coef</th>     <th>std err</th>      <th>z</th>      <th>P>|z|</th>  <th>[0.025</th>    <th>0.975]</th>  \n",
              "</tr>\n",
              "<tr>\n",
              "  <th>const</th>  <td>   50.0861</td> <td>   20.191</td> <td>    2.481</td> <td> 0.013</td> <td>   10.512</td> <td>   89.660</td>\n",
              "</tr>\n",
              "<tr>\n",
              "  <th>ar.L1</th>  <td>    0.9993</td> <td>    0.000</td> <td> 2718.868</td> <td> 0.000</td> <td>    0.999</td> <td>    1.000</td>\n",
              "</tr>\n",
              "<tr>\n",
              "  <th>sigma2</th> <td>    1.4964</td> <td>    0.008</td> <td>  179.975</td> <td> 0.000</td> <td>    1.480</td> <td>    1.513</td>\n",
              "</tr>\n",
              "</table>\n",
              "<table class=\"simpletable\">\n",
              "<tr>\n",
              "  <th>Ljung-Box (L1) (Q):</th>     <td>8.74</td>  <th>  Jarque-Bera (JB):  </th> <td>68255.70</td>\n",
              "</tr>\n",
              "<tr>\n",
              "  <th>Prob(Q):</th>                <td>0.00</td>  <th>  Prob(JB):          </th>   <td>0.00</td>  \n",
              "</tr>\n",
              "<tr>\n",
              "  <th>Heteroskedasticity (H):</th> <td>10.17</td> <th>  Skew:              </th>   <td>-0.77</td> \n",
              "</tr>\n",
              "<tr>\n",
              "  <th>Prob(H) (two-sided):</th>    <td>0.00</td>  <th>  Kurtosis:          </th>   <td>16.56</td> \n",
              "</tr>\n",
              "</table><br/><br/>Warnings:<br/>[1] Covariance matrix calculated using the outer product of gradients (complex-step)."
            ]
          },
          "metadata": {},
          "execution_count": 25
        }
      ],
      "source": [
        "model_ar_1 = ARIMA(brent.Close, order=(1,0,0))\n",
        "results_ar_1 = model_ar_1.fit()\n",
        "results_ar_1.summary()"
      ]
    },
    {
      "cell_type": "markdown",
      "metadata": {
        "id": "pqHXPbz_e3oW"
      },
      "source": [
        "P-values indicate that both intercept and coefficient are significant (95% confidence interval is a clear confirmation of the fact).\n",
        "\n",
        "Coefficient of regresion value from one period ago @ 0.9993 is very close to one which is what we would expect based on previous analysis.\n",
        "\n",
        "Let's see how higher-rank AR models do...."
      ]
    },
    {
      "cell_type": "code",
      "execution_count": 26,
      "metadata": {
        "colab": {
          "base_uri": "https://localhost:8080/",
          "height": 1000
        },
        "id": "LTbXEH8k5DhE",
        "outputId": "9419a549-75eb-42d4-8f0d-c7a22dc76e5a"
      },
      "outputs": [
        {
          "output_type": "stream",
          "name": "stdout",
          "text": [
            "####################################################################################################\n",
            "AR(1)\n",
            "                               SARIMAX Results                                \n",
            "==============================================================================\n",
            "Dep. Variable:                  Close   No. Observations:                 8793\n",
            "Model:                 ARIMA(1, 0, 0)   Log Likelihood              -14252.257\n",
            "Date:                Thu, 29 Dec 2022   AIC                          28510.515\n",
            "Time:                        10:42:41   BIC                          28531.760\n",
            "Sample:                             0   HQIC                         28517.753\n",
            "                               - 8793                                         \n",
            "Covariance Type:                  opg                                         \n",
            "==============================================================================\n",
            "                 coef    std err          z      P>|z|      [0.025      0.975]\n",
            "------------------------------------------------------------------------------\n",
            "const         50.0861     20.191      2.481      0.013      10.512      89.660\n",
            "ar.L1          0.9993      0.000   2718.868      0.000       0.999       1.000\n",
            "sigma2         1.4964      0.008    179.975      0.000       1.480       1.513\n",
            "===================================================================================\n",
            "Ljung-Box (L1) (Q):                   8.74   Jarque-Bera (JB):             68255.70\n",
            "Prob(Q):                              0.00   Prob(JB):                         0.00\n",
            "Heteroskedasticity (H):              10.17   Skew:                            -0.77\n",
            "Prob(H) (two-sided):                  0.00   Kurtosis:                        16.56\n",
            "===================================================================================\n",
            "\n",
            "Warnings:\n",
            "[1] Covariance matrix calculated using the outer product of gradients (complex-step).\n",
            "####################################################################################################\n",
            "AR(2)\n",
            "                               SARIMAX Results                                \n",
            "==============================================================================\n",
            "Dep. Variable:                  Close   No. Observations:                 8793\n",
            "Model:                 ARIMA(2, 0, 0)   Log Likelihood              -14247.877\n",
            "Date:                Thu, 29 Dec 2022   AIC                          28503.753\n",
            "Time:                        10:42:42   BIC                          28532.080\n",
            "Sample:                             0   HQIC                         28513.403\n",
            "                               - 8793                                         \n",
            "Covariance Type:                  opg                                         \n",
            "==============================================================================\n",
            "                 coef    std err          z      P>|z|      [0.025      0.975]\n",
            "------------------------------------------------------------------------------\n",
            "const         50.0861     20.542      2.438      0.015       9.825      90.347\n",
            "ar.L1          0.9678      0.006    168.823      0.000       0.957       0.979\n",
            "ar.L2          0.0316      0.006      5.472      0.000       0.020       0.043\n",
            "sigma2         1.4950      0.008    179.043      0.000       1.479       1.511\n",
            "===================================================================================\n",
            "Ljung-Box (L1) (Q):                   0.01   Jarque-Bera (JB):             67422.90\n",
            "Prob(Q):                              0.94   Prob(JB):                         0.00\n",
            "Heteroskedasticity (H):              10.14   Skew:                            -0.76\n",
            "Prob(H) (two-sided):                  0.00   Kurtosis:                        16.48\n",
            "===================================================================================\n",
            "\n",
            "Warnings:\n",
            "[1] Covariance matrix calculated using the outer product of gradients (complex-step).\n",
            "####################################################################################################\n",
            "AR(3)\n",
            "                               SARIMAX Results                                \n",
            "==============================================================================\n",
            "Dep. Variable:                  Close   No. Observations:                 8793\n",
            "Model:                 ARIMA(3, 0, 0)   Log Likelihood              -14245.004\n",
            "Date:                Thu, 29 Dec 2022   AIC                          28500.008\n",
            "Time:                        10:42:43   BIC                          28535.416\n",
            "Sample:                             0   HQIC                         28512.070\n",
            "                               - 8793                                         \n",
            "Covariance Type:                  opg                                         \n",
            "==============================================================================\n",
            "                 coef    std err          z      P>|z|      [0.025      0.975]\n",
            "------------------------------------------------------------------------------\n",
            "const         50.0861     20.869      2.400      0.016       9.184      90.988\n",
            "ar.L1          0.9670      0.006    167.775      0.000       0.956       0.978\n",
            "ar.L2          0.0068      0.008      0.857      0.392      -0.009       0.022\n",
            "ar.L3          0.0256      0.005      4.938      0.000       0.015       0.036\n",
            "sigma2         1.4940      0.008    178.257      0.000       1.478       1.510\n",
            "===================================================================================\n",
            "Ljung-Box (L1) (Q):                   0.00   Jarque-Bera (JB):             66822.16\n",
            "Prob(Q):                              0.97   Prob(JB):                         0.00\n",
            "Heteroskedasticity (H):              10.14   Skew:                            -0.77\n",
            "Prob(H) (two-sided):                  0.00   Kurtosis:                        16.42\n",
            "===================================================================================\n",
            "\n",
            "Warnings:\n",
            "[1] Covariance matrix calculated using the outer product of gradients (complex-step).\n",
            "####################################################################################################\n",
            "AR(4)\n",
            "                               SARIMAX Results                                \n",
            "==============================================================================\n",
            "Dep. Variable:                  Close   No. Observations:                 8793\n",
            "Model:                 ARIMA(4, 0, 0)   Log Likelihood              -14244.034\n",
            "Date:                Thu, 29 Dec 2022   AIC                          28500.068\n",
            "Time:                        10:42:45   BIC                          28542.558\n",
            "Sample:                             0   HQIC                         28514.543\n",
            "                               - 8793                                         \n",
            "Covariance Type:                  opg                                         \n",
            "==============================================================================\n",
            "                 coef    std err          z      P>|z|      [0.025      0.975]\n",
            "------------------------------------------------------------------------------\n",
            "const         50.0861     21.084      2.376      0.018       8.762      91.410\n",
            "ar.L1          0.9666      0.006    167.024      0.000       0.955       0.978\n",
            "ar.L2          0.0067      0.008      0.846      0.398      -0.009       0.022\n",
            "ar.L3          0.0112      0.008      1.421      0.155      -0.004       0.027\n",
            "ar.L4          0.0149      0.005      2.809      0.005       0.004       0.025\n",
            "sigma2         1.4937      0.009    172.870      0.000       1.477       1.511\n",
            "===================================================================================\n",
            "Ljung-Box (L1) (Q):                   0.00   Jarque-Bera (JB):             65610.94\n",
            "Prob(Q):                              0.95   Prob(JB):                         0.00\n",
            "Heteroskedasticity (H):              10.17   Skew:                            -0.77\n",
            "Prob(H) (two-sided):                  0.00   Kurtosis:                        16.29\n",
            "===================================================================================\n",
            "\n",
            "Warnings:\n",
            "[1] Covariance matrix calculated using the outer product of gradients (complex-step).\n",
            "####################################################################################################\n",
            "AR(5)\n",
            "                               SARIMAX Results                                \n",
            "==============================================================================\n",
            "Dep. Variable:                  Close   No. Observations:                 8793\n",
            "Model:                 ARIMA(5, 0, 0)   Log Likelihood              -14236.661\n",
            "Date:                Thu, 29 Dec 2022   AIC                          28487.322\n",
            "Time:                        10:42:47   BIC                          28536.894\n",
            "Sample:                             0   HQIC                         28504.210\n",
            "                               - 8793                                         \n",
            "Covariance Type:                  opg                                         \n",
            "==============================================================================\n",
            "                 coef    std err          z      P>|z|      [0.025      0.975]\n",
            "------------------------------------------------------------------------------\n",
            "const         50.0861     20.509      2.442      0.015       9.889      90.283\n",
            "ar.L1          0.9672      0.006    167.253      0.000       0.956       0.979\n",
            "ar.L2          0.0072      0.008      0.900      0.368      -0.008       0.023\n",
            "ar.L3          0.0115      0.008      1.450      0.147      -0.004       0.027\n",
            "ar.L4          0.0544      0.007      7.261      0.000       0.040       0.069\n",
            "ar.L5         -0.0409      0.005     -7.477      0.000      -0.052      -0.030\n",
            "sigma2         1.4912      0.009    171.527      0.000       1.474       1.508\n",
            "===================================================================================\n",
            "Ljung-Box (L1) (Q):                   0.01   Jarque-Bera (JB):             64307.24\n",
            "Prob(Q):                              0.91   Prob(JB):                         0.00\n",
            "Heteroskedasticity (H):              10.11   Skew:                            -0.74\n",
            "Prob(H) (two-sided):                  0.00   Kurtosis:                        16.16\n",
            "===================================================================================\n",
            "\n",
            "Warnings:\n",
            "[1] Covariance matrix calculated using the outer product of gradients (complex-step).\n",
            "####################################################################################################\n",
            "AR(6)\n",
            "                               SARIMAX Results                                \n",
            "==============================================================================\n",
            "Dep. Variable:                  Close   No. Observations:                 8793\n",
            "Model:                 ARIMA(6, 0, 0)   Log Likelihood              -14233.212\n",
            "Date:                Thu, 29 Dec 2022   AIC                          28482.424\n",
            "Time:                        10:42:49   BIC                          28539.078\n",
            "Sample:                             0   HQIC                         28501.724\n",
            "                               - 8793                                         \n",
            "Covariance Type:                  opg                                         \n",
            "==============================================================================\n",
            "                 coef    std err          z      P>|z|      [0.025      0.975]\n",
            "------------------------------------------------------------------------------\n",
            "const         50.0861     20.840      2.403      0.016       9.240      90.933\n",
            "ar.L1          0.9683      0.006    165.152      0.000       0.957       0.980\n",
            "ar.L2          0.0056      0.008      0.704      0.481      -0.010       0.021\n",
            "ar.L3          0.0112      0.008      1.409      0.159      -0.004       0.027\n",
            "ar.L4          0.0542      0.008      7.181      0.000       0.039       0.069\n",
            "ar.L5         -0.0680      0.007     -9.264      0.000      -0.082      -0.054\n",
            "ar.L6          0.0280      0.005      5.205      0.000       0.017       0.039\n",
            "sigma2         1.4900      0.009    166.271      0.000       1.472       1.508\n",
            "===================================================================================\n",
            "Ljung-Box (L1) (Q):                   0.00   Jarque-Bera (JB):             62041.67\n",
            "Prob(Q):                              0.97   Prob(JB):                         0.00\n",
            "Heteroskedasticity (H):              10.09   Skew:                            -0.74\n",
            "Prob(H) (two-sided):                  0.00   Kurtosis:                        15.93\n",
            "===================================================================================\n",
            "\n",
            "Warnings:\n",
            "[1] Covariance matrix calculated using the outer product of gradients (complex-step).\n",
            "####################################################################################################\n",
            "AR(7)\n",
            "                               SARIMAX Results                                \n",
            "==============================================================================\n",
            "Dep. Variable:                  Close   No. Observations:                 8793\n",
            "Model:                 ARIMA(7, 0, 0)   Log Likelihood              -14232.483\n",
            "Date:                Thu, 29 Dec 2022   AIC                          28482.965\n",
            "Time:                        10:42:52   BIC                          28546.700\n",
            "Sample:                             0   HQIC                         28504.678\n",
            "                               - 8793                                         \n",
            "Covariance Type:                  opg                                         \n",
            "==============================================================================\n",
            "                 coef    std err          z      P>|z|      [0.025      0.975]\n",
            "------------------------------------------------------------------------------\n",
            "const         50.0861     20.986      2.387      0.017       8.955      91.217\n",
            "ar.L1          0.9680      0.006    164.911      0.000       0.956       0.979\n",
            "ar.L2          0.0065      0.008      0.804      0.421      -0.009       0.022\n",
            "ar.L3          0.0105      0.008      1.314      0.189      -0.005       0.026\n",
            "ar.L4          0.0541      0.008      7.118      0.000       0.039       0.069\n",
            "ar.L5         -0.0681      0.007     -9.220      0.000      -0.083      -0.054\n",
            "ar.L6          0.0155      0.008      1.918      0.055      -0.000       0.031\n",
            "ar.L7          0.0129      0.006      2.261      0.024       0.002       0.024\n",
            "sigma2         1.4897      0.009    164.552      0.000       1.472       1.507\n",
            "===================================================================================\n",
            "Ljung-Box (L1) (Q):                   0.00   Jarque-Bera (JB):             61341.30\n",
            "Prob(Q):                              1.00   Prob(JB):                         0.00\n",
            "Heteroskedasticity (H):              10.11   Skew:                            -0.74\n",
            "Prob(H) (two-sided):                  0.00   Kurtosis:                        15.85\n",
            "===================================================================================\n",
            "\n",
            "Warnings:\n",
            "[1] Covariance matrix calculated using the outer product of gradients (complex-step).\n",
            "####################################################################################################\n",
            "AR(8)\n",
            "                               SARIMAX Results                                \n",
            "==============================================================================\n",
            "Dep. Variable:                  Close   No. Observations:                 8793\n",
            "Model:                 ARIMA(8, 0, 0)   Log Likelihood              -14232.469\n",
            "Date:                Thu, 29 Dec 2022   AIC                          28484.939\n",
            "Time:                        10:42:55   BIC                          28555.756\n",
            "Sample:                             0   HQIC                         28509.064\n",
            "                               - 8793                                         \n",
            "Covariance Type:                  opg                                         \n",
            "==============================================================================\n",
            "                 coef    std err          z      P>|z|      [0.025      0.975]\n",
            "------------------------------------------------------------------------------\n",
            "const         50.0861     21.009      2.384      0.017       8.910      91.262\n",
            "ar.L1          0.9679      0.006    164.550      0.000       0.956       0.979\n",
            "ar.L2          0.0065      0.008      0.796      0.426      -0.009       0.022\n",
            "ar.L3          0.0106      0.008      1.317      0.188      -0.005       0.026\n",
            "ar.L4          0.0540      0.008      7.062      0.000       0.039       0.069\n",
            "ar.L5         -0.0681      0.007     -9.149      0.000      -0.083      -0.054\n",
            "ar.L6          0.0155      0.008      1.909      0.056      -0.000       0.031\n",
            "ar.L7          0.0112      0.008      1.346      0.178      -0.005       0.028\n",
            "ar.L8          0.0017      0.006      0.280      0.779      -0.010       0.014\n",
            "sigma2         1.4897      0.009    164.552      0.000       1.472       1.507\n",
            "===================================================================================\n",
            "Ljung-Box (L1) (Q):                   0.00   Jarque-Bera (JB):             61304.45\n",
            "Prob(Q):                              1.00   Prob(JB):                         0.00\n",
            "Heteroskedasticity (H):              10.11   Skew:                            -0.74\n",
            "Prob(H) (two-sided):                  0.00   Kurtosis:                        15.85\n",
            "===================================================================================\n",
            "\n",
            "Warnings:\n",
            "[1] Covariance matrix calculated using the outer product of gradients (complex-step).\n"
          ]
        },
        {
          "output_type": "execute_result",
          "data": {
            "text/plain": [
              "             LL       AIC\n",
              "AR(1) -14252.26  28510.51\n",
              "AR(2) -14247.88  28503.75"
            ],
            "text/html": [
              "\n",
              "  <div id=\"df-e839d8db-2144-4131-8346-b7c6bf8b34aa\">\n",
              "    <div class=\"colab-df-container\">\n",
              "      <div>\n",
              "<style scoped>\n",
              "    .dataframe tbody tr th:only-of-type {\n",
              "        vertical-align: middle;\n",
              "    }\n",
              "\n",
              "    .dataframe tbody tr th {\n",
              "        vertical-align: top;\n",
              "    }\n",
              "\n",
              "    .dataframe thead th {\n",
              "        text-align: right;\n",
              "    }\n",
              "</style>\n",
              "<table border=\"1\" class=\"dataframe\">\n",
              "  <thead>\n",
              "    <tr style=\"text-align: right;\">\n",
              "      <th></th>\n",
              "      <th>LL</th>\n",
              "      <th>AIC</th>\n",
              "    </tr>\n",
              "  </thead>\n",
              "  <tbody>\n",
              "    <tr>\n",
              "      <th>AR(1)</th>\n",
              "      <td>-14252.26</td>\n",
              "      <td>28510.51</td>\n",
              "    </tr>\n",
              "    <tr>\n",
              "      <th>AR(2)</th>\n",
              "      <td>-14247.88</td>\n",
              "      <td>28503.75</td>\n",
              "    </tr>\n",
              "  </tbody>\n",
              "</table>\n",
              "</div>\n",
              "      <button class=\"colab-df-convert\" onclick=\"convertToInteractive('df-e839d8db-2144-4131-8346-b7c6bf8b34aa')\"\n",
              "              title=\"Convert this dataframe to an interactive table.\"\n",
              "              style=\"display:none;\">\n",
              "        \n",
              "  <svg xmlns=\"http://www.w3.org/2000/svg\" height=\"24px\"viewBox=\"0 0 24 24\"\n",
              "       width=\"24px\">\n",
              "    <path d=\"M0 0h24v24H0V0z\" fill=\"none\"/>\n",
              "    <path d=\"M18.56 5.44l.94 2.06.94-2.06 2.06-.94-2.06-.94-.94-2.06-.94 2.06-2.06.94zm-11 1L8.5 8.5l.94-2.06 2.06-.94-2.06-.94L8.5 2.5l-.94 2.06-2.06.94zm10 10l.94 2.06.94-2.06 2.06-.94-2.06-.94-.94-2.06-.94 2.06-2.06.94z\"/><path d=\"M17.41 7.96l-1.37-1.37c-.4-.4-.92-.59-1.43-.59-.52 0-1.04.2-1.43.59L10.3 9.45l-7.72 7.72c-.78.78-.78 2.05 0 2.83L4 21.41c.39.39.9.59 1.41.59.51 0 1.02-.2 1.41-.59l7.78-7.78 2.81-2.81c.8-.78.8-2.07 0-2.86zM5.41 20L4 18.59l7.72-7.72 1.47 1.35L5.41 20z\"/>\n",
              "  </svg>\n",
              "      </button>\n",
              "      \n",
              "  <style>\n",
              "    .colab-df-container {\n",
              "      display:flex;\n",
              "      flex-wrap:wrap;\n",
              "      gap: 12px;\n",
              "    }\n",
              "\n",
              "    .colab-df-convert {\n",
              "      background-color: #E8F0FE;\n",
              "      border: none;\n",
              "      border-radius: 50%;\n",
              "      cursor: pointer;\n",
              "      display: none;\n",
              "      fill: #1967D2;\n",
              "      height: 32px;\n",
              "      padding: 0 0 0 0;\n",
              "      width: 32px;\n",
              "    }\n",
              "\n",
              "    .colab-df-convert:hover {\n",
              "      background-color: #E2EBFA;\n",
              "      box-shadow: 0px 1px 2px rgba(60, 64, 67, 0.3), 0px 1px 3px 1px rgba(60, 64, 67, 0.15);\n",
              "      fill: #174EA6;\n",
              "    }\n",
              "\n",
              "    [theme=dark] .colab-df-convert {\n",
              "      background-color: #3B4455;\n",
              "      fill: #D2E3FC;\n",
              "    }\n",
              "\n",
              "    [theme=dark] .colab-df-convert:hover {\n",
              "      background-color: #434B5C;\n",
              "      box-shadow: 0px 1px 3px 1px rgba(0, 0, 0, 0.15);\n",
              "      filter: drop-shadow(0px 1px 2px rgba(0, 0, 0, 0.3));\n",
              "      fill: #FFFFFF;\n",
              "    }\n",
              "  </style>\n",
              "\n",
              "      <script>\n",
              "        const buttonEl =\n",
              "          document.querySelector('#df-e839d8db-2144-4131-8346-b7c6bf8b34aa button.colab-df-convert');\n",
              "        buttonEl.style.display =\n",
              "          google.colab.kernel.accessAllowed ? 'block' : 'none';\n",
              "\n",
              "        async function convertToInteractive(key) {\n",
              "          const element = document.querySelector('#df-e839d8db-2144-4131-8346-b7c6bf8b34aa');\n",
              "          const dataTable =\n",
              "            await google.colab.kernel.invokeFunction('convertToInteractive',\n",
              "                                                     [key], {});\n",
              "          if (!dataTable) return;\n",
              "\n",
              "          const docLinkHtml = 'Like what you see? Visit the ' +\n",
              "            '<a target=\"_blank\" href=https://colab.research.google.com/notebooks/data_table.ipynb>data table notebook</a>'\n",
              "            + ' to learn more about interactive tables.';\n",
              "          element.innerHTML = '';\n",
              "          dataTable['output_type'] = 'display_data';\n",
              "          await google.colab.output.renderOutput(dataTable, element);\n",
              "          const docLink = document.createElement('div');\n",
              "          docLink.innerHTML = docLinkHtml;\n",
              "          element.appendChild(docLink);\n",
              "        }\n",
              "      </script>\n",
              "    </div>\n",
              "  </div>\n",
              "  "
            ]
          },
          "metadata": {},
          "execution_count": 26
        }
      ],
      "source": [
        "models_lst, ll_lst, aic_lst = [], [], []\n",
        "for AR in range(1,9):\n",
        "  globals()[f\"model_ar_{AR}\"] = ARIMA(brent.Close, order=(AR,0,0))\n",
        "  globals()[f\"results_ar_{AR}\"] = globals()[f\"model_ar_{AR}\"].fit() # start_ar_lag = 5\n",
        "  if all(globals()[f\"results_ar_{AR}\"].pvalues<0.05):\n",
        "    models_lst.append(f\"AR({AR})\")\n",
        "    ll_lst.append(globals()[f\"results_ar_{AR}\"].llf.round(2))\n",
        "    aic_lst.append(globals()[f\"results_ar_{AR}\"].aic.round(2))\n",
        "  print(\"#\"*100)\n",
        "  print(f\"AR({AR})\")\n",
        "  print(globals()[f\"results_ar_{AR}\"].summary())\n",
        "\n",
        "ar_results_dict = {\"LL\": ll_lst,\n",
        "                   \"AIC\": aic_lst}\n",
        "ar_results_df = pd.DataFrame(ar_results_dict, index = models_lst)\n",
        "ar_results_df"
      ]
    },
    {
      "cell_type": "markdown",
      "metadata": {
        "id": "VqiSJKBS8pX2"
      },
      "source": [
        "Only two models have all coefficients significant. Let's check if higher complexity is justified here. Log-Likeluhood test will come handy for that purpose."
      ]
    },
    {
      "cell_type": "code",
      "execution_count": null,
      "metadata": {
        "colab": {
          "base_uri": "https://localhost:8080/"
        },
        "id": "Pz38cY8HgrbR",
        "outputId": "1f7539e7-dd08-4058-84eb-0538b84c574f"
      },
      "outputs": [
        {
          "output_type": "execute_result",
          "data": {
            "text/plain": [
              "0.003"
            ]
          },
          "metadata": {},
          "execution_count": 192
        }
      ],
      "source": [
        "LLR_test(model_ar_1, model_ar_2)"
      ]
    },
    {
      "cell_type": "markdown",
      "metadata": {
        "id": "KYJ_kKDh9VPu"
      },
      "source": [
        "Yes, indeed. The choice should be made in favor of the more complex model of AR(2) after all. We should nevertheless remember that AR models in general should do poorly for non-stationary data and it would be advisable to transform our time-series into stationary process for further modeling."
      ]
    },
    {
      "cell_type": "markdown",
      "metadata": {
        "id": "cb46BHy1yyrw"
      },
      "source": [
        "**Returns**\n",
        "\n",
        "Let's switch now from absolute prices to their returns. We will use daily percantage change of price stored in the Returns column."
      ]
    },
    {
      "cell_type": "code",
      "execution_count": 27,
      "metadata": {
        "id": "6Q1mPXmRphOL"
      },
      "outputs": [],
      "source": [
        "brent[\"Returns\"] = brent.Close.pct_change(1).mul(100)\n",
        "brent = brent.iloc[1:]   # dropping NaN value from the first raw"
      ]
    },
    {
      "cell_type": "code",
      "execution_count": 28,
      "metadata": {
        "colab": {
          "base_uri": "https://localhost:8080/"
        },
        "id": "vtXwte54yUxz",
        "outputId": "4d2a2cf8-c6ba-4719-a401-d126e35faf47"
      },
      "outputs": [
        {
          "output_type": "execute_result",
          "data": {
            "text/plain": [
              "(-17.925292102472053,\n",
              " 2.8962933058074033e-30,\n",
              " 22,\n",
              " 8769,\n",
              " {'1%': -3.4310959476880325,\n",
              "  '5%': -2.861869659409052,\n",
              "  '10%': -2.5669454727258514},\n",
              " 39365.56225375132)"
            ]
          },
          "metadata": {},
          "execution_count": 28
        }
      ],
      "source": [
        "sts.adfuller(brent.Returns)"
      ]
    },
    {
      "cell_type": "markdown",
      "metadata": {
        "id": "3XYkaefD1XqU"
      },
      "source": [
        "Since the test statistic falls far to the left of even 1% of critical value... we may confidently conclude that the data comes from the stationary process. Let's have a look at ACF and PACF plots."
      ]
    },
    {
      "cell_type": "code",
      "execution_count": null,
      "metadata": {
        "colab": {
          "base_uri": "https://localhost:8080/",
          "height": 297
        },
        "id": "_b8cu3_IyU5n",
        "outputId": "d73d5068-02fb-4732-d369-3a823d974149"
      },
      "outputs": [
        {
          "output_type": "display_data",
          "data": {
            "text/plain": [
              "<Figure size 1080x288 with 2 Axes>"
            ],
            "image/png": "[encoded data removed]"
          },
          "metadata": {}
        }
      ],
      "source": [
        "f = plt.figure(figsize = (15,4)) #facecolor='white'\n",
        "ax1, ax2 = f.add_subplot(121), f.add_subplot(122)\n",
        "plot_acf(brent.Returns, lags=40, ax=ax1, zero = False, title = \"Brent Returns ACF\")\n",
        "ax1.set_ylim(bottom = -0.05, top = 0.05)\n",
        "plot_pacf(brent.Returns, lags=40, ax=ax2, zero = False, title = \"Brent Returns PACF\")\n",
        "ax2.set_ylim(bottom = -0.05, top = 0.05)\n",
        "plt.tight_layout()"
      ]
    },
    {
      "cell_type": "markdown",
      "metadata": {
        "id": "IE90ypjF28I9"
      },
      "source": [
        "What a change?\n",
        "1.   not all values are significant\n",
        "2.   values greatly vary in magnitude instead of all being close to one\n",
        "\n",
        "First significant coefficient is negative which is indicative of some price adjustment process. \n",
        "\n",
        "PACF values in this case are much more in line with ACF values.\n",
        "\n"
      ]
    },
    {
      "cell_type": "markdown",
      "metadata": {
        "id": "HyVWJxaw4nYA"
      },
      "source": [
        "**AR(1)**"
      ]
    },
    {
      "cell_type": "code",
      "execution_count": 29,
      "metadata": {
        "colab": {
          "base_uri": "https://localhost:8080/",
          "height": 427
        },
        "id": "26Lm8Ij21-hk",
        "outputId": "b5c958a0-6ced-4da2-f0eb-7911d4541ceb"
      },
      "outputs": [
        {
          "output_type": "execute_result",
          "data": {
            "text/plain": [
              "<class 'statsmodels.iolib.summary.Summary'>\n",
              "\"\"\"\n",
              "                               SARIMAX Results                                \n",
              "==============================================================================\n",
              "Dep. Variable:                Returns   No. Observations:                 8792\n",
              "Model:                 ARIMA(1, 0, 0)   Log Likelihood              -19779.156\n",
              "Date:                Thu, 29 Dec 2022   AIC                          39564.311\n",
              "Time:                        10:45:07   BIC                          39585.556\n",
              "Sample:                             0   HQIC                         39571.549\n",
              "                               - 8792                                         \n",
              "Covariance Type:                  opg                                         \n",
              "==============================================================================\n",
              "                 coef    std err          z      P>|z|      [0.025      0.975]\n",
              "------------------------------------------------------------------------------\n",
              "const          0.0459      0.024      1.876      0.061      -0.002       0.094\n",
              "ar.L1         -0.0086      0.006     -1.515      0.130      -0.020       0.003\n",
              "sigma2         5.2671      0.029    182.610      0.000       5.211       5.324\n",
              "===================================================================================\n",
              "Ljung-Box (L1) (Q):                   0.00   Jarque-Bera (JB):             67236.95\n",
              "Prob(Q):                              0.99   Prob(JB):                         0.00\n",
              "Heteroskedasticity (H):               1.11   Skew:                            -0.52\n",
              "Prob(H) (two-sided):                  0.01   Kurtosis:                        16.51\n",
              "===================================================================================\n",
              "\n",
              "Warnings:\n",
              "[1] Covariance matrix calculated using the outer product of gradients (complex-step).\n",
              "\"\"\""
            ],
            "text/html": [
              "<table class=\"simpletable\">\n",
              "<caption>SARIMAX Results</caption>\n",
              "<tr>\n",
              "  <th>Dep. Variable:</th>        <td>Returns</td>     <th>  No. Observations:  </th>    <td>8792</td>   \n",
              "</tr>\n",
              "<tr>\n",
              "  <th>Model:</th>            <td>ARIMA(1, 0, 0)</td>  <th>  Log Likelihood     </th> <td>-19779.156</td>\n",
              "</tr>\n",
              "<tr>\n",
              "  <th>Date:</th>            <td>Thu, 29 Dec 2022</td> <th>  AIC                </th>  <td>39564.311</td>\n",
              "</tr>\n",
              "<tr>\n",
              "  <th>Time:</th>                <td>10:45:07</td>     <th>  BIC                </th>  <td>39585.556</td>\n",
              "</tr>\n",
              "<tr>\n",
              "  <th>Sample:</th>                  <td>0</td>        <th>  HQIC               </th>  <td>39571.549</td>\n",
              "</tr>\n",
              "<tr>\n",
              "  <th></th>                      <td> - 8792</td>     <th>                     </th>      <td> </td>    \n",
              "</tr>\n",
              "<tr>\n",
              "  <th>Covariance Type:</th>        <td>opg</td>       <th>                     </th>      <td> </td>    \n",
              "</tr>\n",
              "</table>\n",
              "<table class=\"simpletable\">\n",
              "<tr>\n",
              "     <td></td>       <th>coef</th>     <th>std err</th>      <th>z</th>      <th>P>|z|</th>  <th>[0.025</th>    <th>0.975]</th>  \n",
              "</tr>\n",
              "<tr>\n",
              "  <th>const</th>  <td>    0.0459</td> <td>    0.024</td> <td>    1.876</td> <td> 0.061</td> <td>   -0.002</td> <td>    0.094</td>\n",
              "</tr>\n",
              "<tr>\n",
              "  <th>ar.L1</th>  <td>   -0.0086</td> <td>    0.006</td> <td>   -1.515</td> <td> 0.130</td> <td>   -0.020</td> <td>    0.003</td>\n",
              "</tr>\n",
              "<tr>\n",
              "  <th>sigma2</th> <td>    5.2671</td> <td>    0.029</td> <td>  182.610</td> <td> 0.000</td> <td>    5.211</td> <td>    5.324</td>\n",
              "</tr>\n",
              "</table>\n",
              "<table class=\"simpletable\">\n",
              "<tr>\n",
              "  <th>Ljung-Box (L1) (Q):</th>     <td>0.00</td> <th>  Jarque-Bera (JB):  </th> <td>67236.95</td>\n",
              "</tr>\n",
              "<tr>\n",
              "  <th>Prob(Q):</th>                <td>0.99</td> <th>  Prob(JB):          </th>   <td>0.00</td>  \n",
              "</tr>\n",
              "<tr>\n",
              "  <th>Heteroskedasticity (H):</th> <td>1.11</td> <th>  Skew:              </th>   <td>-0.52</td> \n",
              "</tr>\n",
              "<tr>\n",
              "  <th>Prob(H) (two-sided):</th>    <td>0.01</td> <th>  Kurtosis:          </th>   <td>16.51</td> \n",
              "</tr>\n",
              "</table><br/><br/>Warnings:<br/>[1] Covariance matrix calculated using the outer product of gradients (complex-step)."
            ]
          },
          "metadata": {},
          "execution_count": 29
        }
      ],
      "source": [
        "model_ret_ar_1 = ARIMA(brent.Returns, order=(1,0,0))\n",
        "results_ret_ar_1 = model_ret_ar_1.fit()\n",
        "results_ret_ar_1.summary()"
      ]
    },
    {
      "cell_type": "markdown",
      "metadata": {
        "id": "_AGiEL2pK4du"
      },
      "source": [
        "Neither coefficient is significantly different from zero. We will now check whether a higher-lag model surves as better predictor of Brent returns."
      ]
    },
    {
      "cell_type": "code",
      "execution_count": 31,
      "metadata": {
        "colab": {
          "base_uri": "https://localhost:8080/",
          "height": 1000
        },
        "id": "mkdNX9Rh_bgF",
        "outputId": "e36ac8d6-2cb5-44d6-bb7a-ec4a01208c8c"
      },
      "outputs": [
        {
          "output_type": "stream",
          "name": "stdout",
          "text": [
            "####################################################################################################\n",
            "AR(1)\n",
            "                               SARIMAX Results                                \n",
            "==============================================================================\n",
            "Dep. Variable:                Returns   No. Observations:                 8792\n",
            "Model:                 ARIMA(1, 0, 0)   Log Likelihood              -19779.156\n",
            "Date:                Thu, 29 Dec 2022   AIC                          39564.311\n",
            "Time:                        10:45:52   BIC                          39585.556\n",
            "Sample:                             0   HQIC                         39571.549\n",
            "                               - 8792                                         \n",
            "Covariance Type:                  opg                                         \n",
            "==============================================================================\n",
            "                 coef    std err          z      P>|z|      [0.025      0.975]\n",
            "------------------------------------------------------------------------------\n",
            "const          0.0459      0.024      1.876      0.061      -0.002       0.094\n",
            "ar.L1         -0.0086      0.006     -1.515      0.130      -0.020       0.003\n",
            "sigma2         5.2671      0.029    182.610      0.000       5.211       5.324\n",
            "===================================================================================\n",
            "Ljung-Box (L1) (Q):                   0.00   Jarque-Bera (JB):             67236.95\n",
            "Prob(Q):                              0.99   Prob(JB):                         0.00\n",
            "Heteroskedasticity (H):               1.11   Skew:                            -0.52\n",
            "Prob(H) (two-sided):                  0.01   Kurtosis:                        16.51\n",
            "===================================================================================\n",
            "\n",
            "Warnings:\n",
            "[1] Covariance matrix calculated using the outer product of gradients (complex-step).\n",
            "####################################################################################################\n",
            "AR(2)\n",
            "                               SARIMAX Results                                \n",
            "==============================================================================\n",
            "Dep. Variable:                Returns   No. Observations:                 8792\n",
            "Model:                 ARIMA(2, 0, 0)   Log Likelihood              -19777.315\n",
            "Date:                Thu, 29 Dec 2022   AIC                          39562.629\n",
            "Time:                        10:45:53   BIC                          39590.955\n",
            "Sample:                             0   HQIC                         39572.279\n",
            "                               - 8792                                         \n",
            "Covariance Type:                  opg                                         \n",
            "==============================================================================\n",
            "                 coef    std err          z      P>|z|      [0.025      0.975]\n",
            "------------------------------------------------------------------------------\n",
            "const          0.0459      0.024      1.914      0.056      -0.001       0.093\n",
            "ar.L1         -0.0088      0.006     -1.543      0.123      -0.020       0.002\n",
            "ar.L2         -0.0205      0.007     -2.874      0.004      -0.034      -0.007\n",
            "sigma2         5.2647      0.029    181.049      0.000       5.208       5.322\n",
            "===================================================================================\n",
            "Ljung-Box (L1) (Q):                   0.00   Jarque-Bera (JB):             68089.51\n",
            "Prob(Q):                              0.98   Prob(JB):                         0.00\n",
            "Heteroskedasticity (H):               1.11   Skew:                            -0.52\n",
            "Prob(H) (two-sided):                  0.00   Kurtosis:                        16.59\n",
            "===================================================================================\n",
            "\n",
            "Warnings:\n",
            "[1] Covariance matrix calculated using the outer product of gradients (complex-step).\n",
            "####################################################################################################\n",
            "AR(3)\n",
            "                               SARIMAX Results                                \n",
            "==============================================================================\n",
            "Dep. Variable:                Returns   No. Observations:                 8792\n",
            "Model:                 ARIMA(3, 0, 0)   Log Likelihood              -19776.045\n",
            "Date:                Thu, 29 Dec 2022   AIC                          39562.090\n",
            "Time:                        10:45:54   BIC                          39597.498\n",
            "Sample:                             0   HQIC                         39574.152\n",
            "                               - 8792                                         \n",
            "Covariance Type:                  opg                                         \n",
            "==============================================================================\n",
            "                 coef    std err          z      P>|z|      [0.025      0.975]\n",
            "------------------------------------------------------------------------------\n",
            "const          0.0459      0.024      1.947      0.052      -0.000       0.092\n",
            "ar.L1         -0.0091      0.006     -1.567      0.117      -0.020       0.002\n",
            "ar.L2         -0.0206      0.007     -2.889      0.004      -0.035      -0.007\n",
            "ar.L3         -0.0170      0.006     -2.767      0.006      -0.029      -0.005\n",
            "sigma2         5.2634      0.031    167.178      0.000       5.202       5.325\n",
            "===================================================================================\n",
            "Ljung-Box (L1) (Q):                   0.00   Jarque-Bera (JB):             66389.24\n",
            "Prob(Q):                              0.99   Prob(JB):                         0.00\n",
            "Heteroskedasticity (H):               1.11   Skew:                            -0.52\n",
            "Prob(H) (two-sided):                  0.00   Kurtosis:                        16.42\n",
            "===================================================================================\n",
            "\n",
            "Warnings:\n",
            "[1] Covariance matrix calculated using the outer product of gradients (complex-step).\n",
            "####################################################################################################\n",
            "AR(4)\n",
            "                               SARIMAX Results                                \n",
            "==============================================================================\n",
            "Dep. Variable:                Returns   No. Observations:                 8792\n",
            "Model:                 ARIMA(4, 0, 0)   Log Likelihood              -19775.916\n",
            "Date:                Thu, 29 Dec 2022   AIC                          39563.833\n",
            "Time:                        10:45:57   BIC                          39606.322\n",
            "Sample:                             0   HQIC                         39578.308\n",
            "                               - 8792                                         \n",
            "Covariance Type:                  opg                                         \n",
            "==============================================================================\n",
            "                 coef    std err          z      P>|z|      [0.025      0.975]\n",
            "------------------------------------------------------------------------------\n",
            "const          0.0459      0.024      1.929      0.054      -0.001       0.093\n",
            "ar.L1         -0.0090      0.006     -1.542      0.123      -0.020       0.002\n",
            "ar.L2         -0.0205      0.007     -2.873      0.004      -0.034      -0.007\n",
            "ar.L3         -0.0169      0.006     -2.756      0.006      -0.029      -0.005\n",
            "ar.L4          0.0054      0.007      0.756      0.449      -0.009       0.019\n",
            "sigma2         5.2629      0.032    166.537      0.000       5.201       5.325\n",
            "===================================================================================\n",
            "Ljung-Box (L1) (Q):                   0.00   Jarque-Bera (JB):             66291.04\n",
            "Prob(Q):                              1.00   Prob(JB):                         0.00\n",
            "Heteroskedasticity (H):               1.11   Skew:                            -0.52\n",
            "Prob(H) (two-sided):                  0.00   Kurtosis:                        16.41\n",
            "===================================================================================\n",
            "\n",
            "Warnings:\n",
            "[1] Covariance matrix calculated using the outer product of gradients (complex-step).\n",
            "####################################################################################################\n",
            "AR(5)\n",
            "                               SARIMAX Results                                \n",
            "==============================================================================\n",
            "Dep. Variable:                Returns   No. Observations:                 8792\n",
            "Model:                 ARIMA(5, 0, 0)   Log Likelihood              -19775.810\n",
            "Date:                Thu, 29 Dec 2022   AIC                          39565.620\n",
            "Time:                        10:45:58   BIC                          39615.192\n",
            "Sample:                             0   HQIC                         39582.508\n",
            "                               - 8792                                         \n",
            "Covariance Type:                  opg                                         \n",
            "==============================================================================\n",
            "                 coef    std err          z      P>|z|      [0.025      0.975]\n",
            "------------------------------------------------------------------------------\n",
            "const          0.0459      0.024      1.935      0.053      -0.001       0.092\n",
            "ar.L1         -0.0090      0.006     -1.536      0.124      -0.020       0.002\n",
            "ar.L2         -0.0206      0.007     -2.885      0.004      -0.035      -0.007\n",
            "ar.L3         -0.0170      0.006     -2.763      0.006      -0.029      -0.005\n",
            "ar.L4          0.0054      0.007      0.750      0.453      -0.009       0.019\n",
            "ar.L5         -0.0049      0.007     -0.693      0.488      -0.019       0.009\n",
            "sigma2         5.2627      0.032    166.518      0.000       5.201       5.325\n",
            "===================================================================================\n",
            "Ljung-Box (L1) (Q):                   0.00   Jarque-Bera (JB):             66312.80\n",
            "Prob(Q):                              0.99   Prob(JB):                         0.00\n",
            "Heteroskedasticity (H):               1.11   Skew:                            -0.52\n",
            "Prob(H) (two-sided):                  0.00   Kurtosis:                        16.41\n",
            "===================================================================================\n",
            "\n",
            "Warnings:\n",
            "[1] Covariance matrix calculated using the outer product of gradients (complex-step).\n",
            "####################################################################################################\n",
            "AR(6)\n",
            "                               SARIMAX Results                                \n",
            "==============================================================================\n",
            "Dep. Variable:                Returns   No. Observations:                 8792\n",
            "Model:                 ARIMA(6, 0, 0)   Log Likelihood              -19772.079\n",
            "Date:                Thu, 29 Dec 2022   AIC                          39560.159\n",
            "Time:                        10:46:01   BIC                          39616.811\n",
            "Sample:                             0   HQIC                         39579.459\n",
            "                               - 8792                                         \n",
            "Covariance Type:                  opg                                         \n",
            "==============================================================================\n",
            "                 coef    std err          z      P>|z|      [0.025      0.975]\n",
            "------------------------------------------------------------------------------\n",
            "const          0.0460      0.023      1.985      0.047       0.001       0.091\n",
            "ar.L1         -0.0091      0.006     -1.563      0.118      -0.021       0.002\n",
            "ar.L2         -0.0204      0.007     -2.856      0.004      -0.034      -0.006\n",
            "ar.L3         -0.0175      0.006     -2.853      0.004      -0.030      -0.005\n",
            "ar.L4          0.0048      0.007      0.665      0.506      -0.009       0.019\n",
            "ar.L5         -0.0052      0.007     -0.731      0.465      -0.019       0.009\n",
            "ar.L6         -0.0291      0.007     -3.906      0.000      -0.044      -0.015\n",
            "sigma2         5.2583      0.032    165.796      0.000       5.196       5.320\n",
            "===================================================================================\n",
            "Ljung-Box (L1) (Q):                   0.00   Jarque-Bera (JB):             66080.59\n",
            "Prob(Q):                              0.99   Prob(JB):                         0.00\n",
            "Heteroskedasticity (H):               1.12   Skew:                            -0.53\n",
            "Prob(H) (two-sided):                  0.00   Kurtosis:                        16.39\n",
            "===================================================================================\n",
            "\n",
            "Warnings:\n",
            "[1] Covariance matrix calculated using the outer product of gradients (complex-step).\n",
            "####################################################################################################\n",
            "AR(7)\n",
            "                               SARIMAX Results                                \n",
            "==============================================================================\n",
            "Dep. Variable:                Returns   No. Observations:                 8792\n",
            "Model:                 ARIMA(7, 0, 0)   Log Likelihood              -19772.043\n",
            "Date:                Thu, 29 Dec 2022   AIC                          39562.086\n",
            "Time:                        10:46:03   BIC                          39625.821\n",
            "Sample:                             0   HQIC                         39583.799\n",
            "                               - 8792                                         \n",
            "Covariance Type:                  opg                                         \n",
            "==============================================================================\n",
            "                 coef    std err          z      P>|z|      [0.025      0.975]\n",
            "------------------------------------------------------------------------------\n",
            "const          0.0460      0.023      1.979      0.048       0.000       0.091\n",
            "ar.L1         -0.0090      0.006     -1.547      0.122      -0.021       0.002\n",
            "ar.L2         -0.0204      0.007     -2.840      0.005      -0.035      -0.006\n",
            "ar.L3         -0.0176      0.006     -2.854      0.004      -0.030      -0.006\n",
            "ar.L4          0.0048      0.007      0.668      0.504      -0.009       0.019\n",
            "ar.L5         -0.0051      0.007     -0.723      0.470      -0.019       0.009\n",
            "ar.L6         -0.0291      0.007     -3.899      0.000      -0.044      -0.014\n",
            "ar.L7          0.0029      0.007      0.425      0.671      -0.010       0.016\n",
            "sigma2         5.2585      0.032    165.308      0.000       5.196       5.321\n",
            "===================================================================================\n",
            "Ljung-Box (L1) (Q):                   0.00   Jarque-Bera (JB):             65992.62\n",
            "Prob(Q):                              1.00   Prob(JB):                         0.00\n",
            "Heteroskedasticity (H):               1.12   Skew:                            -0.53\n",
            "Prob(H) (two-sided):                  0.00   Kurtosis:                        16.38\n",
            "===================================================================================\n",
            "\n",
            "Warnings:\n",
            "[1] Covariance matrix calculated using the outer product of gradients (complex-step).\n",
            "####################################################################################################\n",
            "AR(8)\n",
            "                               SARIMAX Results                                \n",
            "==============================================================================\n",
            "Dep. Variable:                Returns   No. Observations:                 8792\n",
            "Model:                 ARIMA(8, 0, 0)   Log Likelihood              -19770.307\n",
            "Date:                Thu, 29 Dec 2022   AIC                          39560.613\n",
            "Time:                        10:46:07   BIC                          39631.429\n",
            "Sample:                             0   HQIC                         39584.738\n",
            "                               - 8792                                         \n",
            "Covariance Type:                  opg                                         \n",
            "==============================================================================\n",
            "                 coef    std err          z      P>|z|      [0.025      0.975]\n",
            "------------------------------------------------------------------------------\n",
            "const          0.0460      0.023      2.017      0.044       0.001       0.091\n",
            "ar.L1         -0.0090      0.006     -1.493      0.135      -0.021       0.003\n",
            "ar.L2         -0.0210      0.007     -2.917      0.004      -0.035      -0.007\n",
            "ar.L3         -0.0177      0.006     -2.836      0.005      -0.030      -0.005\n",
            "ar.L4          0.0049      0.007      0.682      0.495      -0.009       0.019\n",
            "ar.L5         -0.0055      0.007     -0.773      0.439      -0.019       0.008\n",
            "ar.L6         -0.0295      0.007     -3.960      0.000      -0.044      -0.015\n",
            "ar.L7          0.0027      0.007      0.397      0.692      -0.011       0.016\n",
            "ar.L8         -0.0199      0.007     -3.008      0.003      -0.033      -0.007\n",
            "sigma2         5.2564      0.034    156.320      0.000       5.190       5.322\n",
            "===================================================================================\n",
            "Ljung-Box (L1) (Q):                   0.00   Jarque-Bera (JB):             64162.63\n",
            "Prob(Q):                              0.99   Prob(JB):                         0.00\n",
            "Heteroskedasticity (H):               1.12   Skew:                            -0.53\n",
            "Prob(H) (two-sided):                  0.00   Kurtosis:                        16.19\n",
            "===================================================================================\n",
            "\n",
            "Warnings:\n",
            "[1] Covariance matrix calculated using the outer product of gradients (complex-step).\n"
          ]
        },
        {
          "output_type": "execute_result",
          "data": {
            "text/plain": [
              "Empty DataFrame\n",
              "Columns: [LL, AIC]\n",
              "Index: []"
            ],
            "text/html": [
              "\n",
              "  <div id=\"df-c2306c92-740a-46ce-8808-af7018b5b65d\">\n",
              "    <div class=\"colab-df-container\">\n",
              "      <div>\n",
              "<style scoped>\n",
              "    .dataframe tbody tr th:only-of-type {\n",
              "        vertical-align: middle;\n",
              "    }\n",
              "\n",
              "    .dataframe tbody tr th {\n",
              "        vertical-align: top;\n",
              "    }\n",
              "\n",
              "    .dataframe thead th {\n",
              "        text-align: right;\n",
              "    }\n",
              "</style>\n",
              "<table border=\"1\" class=\"dataframe\">\n",
              "  <thead>\n",
              "    <tr style=\"text-align: right;\">\n",
              "      <th></th>\n",
              "      <th>LL</th>\n",
              "      <th>AIC</th>\n",
              "    </tr>\n",
              "  </thead>\n",
              "  <tbody>\n",
              "  </tbody>\n",
              "</table>\n",
              "</div>\n",
              "      <button class=\"colab-df-convert\" onclick=\"convertToInteractive('df-c2306c92-740a-46ce-8808-af7018b5b65d')\"\n",
              "              title=\"Convert this dataframe to an interactive table.\"\n",
              "              style=\"display:none;\">\n",
              "        \n",
              "  <svg xmlns=\"http://www.w3.org/2000/svg\" height=\"24px\"viewBox=\"0 0 24 24\"\n",
              "       width=\"24px\">\n",
              "    <path d=\"M0 0h24v24H0V0z\" fill=\"none\"/>\n",
              "    <path d=\"M18.56 5.44l.94 2.06.94-2.06 2.06-.94-2.06-.94-.94-2.06-.94 2.06-2.06.94zm-11 1L8.5 8.5l.94-2.06 2.06-.94-2.06-.94L8.5 2.5l-.94 2.06-2.06.94zm10 10l.94 2.06.94-2.06 2.06-.94-2.06-.94-.94-2.06-.94 2.06-2.06.94z\"/><path d=\"M17.41 7.96l-1.37-1.37c-.4-.4-.92-.59-1.43-.59-.52 0-1.04.2-1.43.59L10.3 9.45l-7.72 7.72c-.78.78-.78 2.05 0 2.83L4 21.41c.39.39.9.59 1.41.59.51 0 1.02-.2 1.41-.59l7.78-7.78 2.81-2.81c.8-.78.8-2.07 0-2.86zM5.41 20L4 18.59l7.72-7.72 1.47 1.35L5.41 20z\"/>\n",
              "  </svg>\n",
              "      </button>\n",
              "      \n",
              "  <style>\n",
              "    .colab-df-container {\n",
              "      display:flex;\n",
              "      flex-wrap:wrap;\n",
              "      gap: 12px;\n",
              "    }\n",
              "\n",
              "    .colab-df-convert {\n",
              "      background-color: #E8F0FE;\n",
              "      border: none;\n",
              "      border-radius: 50%;\n",
              "      cursor: pointer;\n",
              "      display: none;\n",
              "      fill: #1967D2;\n",
              "      height: 32px;\n",
              "      padding: 0 0 0 0;\n",
              "      width: 32px;\n",
              "    }\n",
              "\n",
              "    .colab-df-convert:hover {\n",
              "      background-color: #E2EBFA;\n",
              "      box-shadow: 0px 1px 2px rgba(60, 64, 67, 0.3), 0px 1px 3px 1px rgba(60, 64, 67, 0.15);\n",
              "      fill: #174EA6;\n",
              "    }\n",
              "\n",
              "    [theme=dark] .colab-df-convert {\n",
              "      background-color: #3B4455;\n",
              "      fill: #D2E3FC;\n",
              "    }\n",
              "\n",
              "    [theme=dark] .colab-df-convert:hover {\n",
              "      background-color: #434B5C;\n",
              "      box-shadow: 0px 1px 3px 1px rgba(0, 0, 0, 0.15);\n",
              "      filter: drop-shadow(0px 1px 2px rgba(0, 0, 0, 0.3));\n",
              "      fill: #FFFFFF;\n",
              "    }\n",
              "  </style>\n",
              "\n",
              "      <script>\n",
              "        const buttonEl =\n",
              "          document.querySelector('#df-c2306c92-740a-46ce-8808-af7018b5b65d button.colab-df-convert');\n",
              "        buttonEl.style.display =\n",
              "          google.colab.kernel.accessAllowed ? 'block' : 'none';\n",
              "\n",
              "        async function convertToInteractive(key) {\n",
              "          const element = document.querySelector('#df-c2306c92-740a-46ce-8808-af7018b5b65d');\n",
              "          const dataTable =\n",
              "            await google.colab.kernel.invokeFunction('convertToInteractive',\n",
              "                                                     [key], {});\n",
              "          if (!dataTable) return;\n",
              "\n",
              "          const docLinkHtml = 'Like what you see? Visit the ' +\n",
              "            '<a target=\"_blank\" href=https://colab.research.google.com/notebooks/data_table.ipynb>data table notebook</a>'\n",
              "            + ' to learn more about interactive tables.';\n",
              "          element.innerHTML = '';\n",
              "          dataTable['output_type'] = 'display_data';\n",
              "          await google.colab.output.renderOutput(dataTable, element);\n",
              "          const docLink = document.createElement('div');\n",
              "          docLink.innerHTML = docLinkHtml;\n",
              "          element.appendChild(docLink);\n",
              "        }\n",
              "      </script>\n",
              "    </div>\n",
              "  </div>\n",
              "  "
            ]
          },
          "metadata": {},
          "execution_count": 31
        }
      ],
      "source": [
        "models_lst, ll_lst, aic_lst = [], [], []\n",
        "for AR in range(1,9):\n",
        "  globals()[f\"model_ret_ar_{AR}\"] = ARIMA(brent.Returns, order=(AR,0,0))\n",
        "  globals()[f\"results_ret_ar_{AR}\"] = globals()[f\"model_ret_ar_{AR}\"].fit() # start_ar_lag = 5\n",
        "  if all(globals()[f\"results_ret_ar_{AR}\"].pvalues<0.05):\n",
        "    models_lst.append(f\"AR({AR})\")\n",
        "    ll_lst.append(globals()[f\"results_ret_ar_{AR}\"].llf.round(2))\n",
        "    aic_lst.append(globals()[f\"results_ret_ar_{AR}\"].aic.round(2))\n",
        "  print(\"#\"*100)\n",
        "  print(f\"AR({AR})\")\n",
        "  print(globals()[f\"results_ret_ar_{AR}\"].summary())\n",
        "\n",
        "ar_ret_results_dict = {\"LL\": ll_lst,\n",
        "                   \"AIC\": aic_lst}\n",
        "ar_ret_results_df = pd.DataFrame(ar_ret_results_dict, index = models_lst)\n",
        "ar_ret_results_df"
      ]
    },
    {
      "cell_type": "markdown",
      "metadata": {
        "id": "_UbBqqIEEhPd"
      },
      "source": [
        "Regretably none of the models yielded all significant coefficients. \n",
        "\n",
        "Let see if we can model Brent prices using moving average process."
      ]
    },
    {
      "cell_type": "markdown",
      "metadata": {
        "id": "hXKx8CahT6oQ"
      },
      "source": [
        "## **MA**\n",
        "\n",
        "Checking the potential for a self-correcting model which takes into account past residuals which in theory should give them skill to adjust to shocks more quickly thanks to mechanism of correction following big errors. The more of them are being examined - the better adaptation to some unforseen events. It is considered to be skillful particularly for a random walk type of process."
      ]
    },
    {
      "cell_type": "code",
      "execution_count": null,
      "metadata": {
        "colab": {
          "base_uri": "https://localhost:8080/",
          "height": 369
        },
        "id": "FmHU4oNoS4G2",
        "outputId": "302d21f8-5190-4613-f303-7ddee908b139"
      },
      "outputs": [
        {
          "output_type": "display_data",
          "data": {
            "text/plain": [
              "<Figure size 1080x360 with 1 Axes>"
            ],
            "image/png": "[encoded data removed]"
          },
          "metadata": {}
        }
      ],
      "source": [
        "f = plt.figure(figsize = (15,5))\n",
        "ax1 = f.add_subplot(111)\n",
        "plot_acf(brent.Returns, lags=40, ax=ax1, zero = False, title = \"Brent Returns ACF\")\n",
        "ax1.set_ylim(bottom = -0.05, top = 0.05)\n",
        "plt.tight_layout()"
      ]
    },
    {
      "cell_type": "code",
      "execution_count": 32,
      "metadata": {
        "colab": {
          "base_uri": "https://localhost:8080/",
          "height": 1000
        },
        "id": "nFYHO27DFOhA",
        "outputId": "9fa3c6ab-2dea-49ae-fbd3-39a7145c8b50"
      },
      "outputs": [
        {
          "output_type": "stream",
          "name": "stdout",
          "text": [
            "####################################################################################################\n",
            "MA(1)\n",
            "                               SARIMAX Results                                \n",
            "==============================================================================\n",
            "Dep. Variable:                Returns   No. Observations:                 8792\n",
            "Model:                 ARIMA(0, 0, 1)   Log Likelihood              -19779.142\n",
            "Date:                Thu, 29 Dec 2022   AIC                          39564.283\n",
            "Time:                        10:46:49   BIC                          39585.528\n",
            "Sample:                             0   HQIC                         39571.521\n",
            "                               - 8792                                         \n",
            "Covariance Type:                  opg                                         \n",
            "==============================================================================\n",
            "                 coef    std err          z      P>|z|      [0.025      0.975]\n",
            "------------------------------------------------------------------------------\n",
            "const          0.0459      0.024      1.877      0.061      -0.002       0.094\n",
            "ma.L1         -0.0089      0.006     -1.580      0.114      -0.020       0.002\n",
            "sigma2         5.2669      0.029    182.594      0.000       5.210       5.323\n",
            "===================================================================================\n",
            "Ljung-Box (L1) (Q):                   0.00   Jarque-Bera (JB):             67247.81\n",
            "Prob(Q):                              0.99   Prob(JB):                         0.00\n",
            "Heteroskedasticity (H):               1.11   Skew:                            -0.52\n",
            "Prob(H) (two-sided):                  0.01   Kurtosis:                        16.51\n",
            "===================================================================================\n",
            "\n",
            "Warnings:\n",
            "[1] Covariance matrix calculated using the outer product of gradients (complex-step).\n",
            "####################################################################################################\n",
            "MA(2)\n",
            "                               SARIMAX Results                                \n",
            "==============================================================================\n",
            "Dep. Variable:                Returns   No. Observations:                 8792\n",
            "Model:                 ARIMA(0, 0, 2)   Log Likelihood              -19777.278\n",
            "Date:                Thu, 29 Dec 2022   AIC                          39562.556\n",
            "Time:                        10:46:51   BIC                          39590.883\n",
            "Sample:                             0   HQIC                         39572.206\n",
            "                               - 8792                                         \n",
            "Covariance Type:                  opg                                         \n",
            "==============================================================================\n",
            "                 coef    std err          z      P>|z|      [0.025      0.975]\n",
            "------------------------------------------------------------------------------\n",
            "const          0.0459      0.024      1.917      0.055      -0.001       0.093\n",
            "ma.L1         -0.0095      0.006     -1.678      0.093      -0.021       0.002\n",
            "ma.L2         -0.0205      0.007     -2.884      0.004      -0.034      -0.007\n",
            "sigma2         5.2647      0.029    181.337      0.000       5.208       5.322\n",
            "===================================================================================\n",
            "Ljung-Box (L1) (Q):                   0.00   Jarque-Bera (JB):             68077.82\n",
            "Prob(Q):                              0.97   Prob(JB):                         0.00\n",
            "Heteroskedasticity (H):               1.11   Skew:                            -0.52\n",
            "Prob(H) (two-sided):                  0.00   Kurtosis:                        16.59\n",
            "===================================================================================\n",
            "\n",
            "Warnings:\n",
            "[1] Covariance matrix calculated using the outer product of gradients (complex-step).\n",
            "####################################################################################################\n",
            "MA(3)\n",
            "                               SARIMAX Results                                \n",
            "==============================================================================\n",
            "Dep. Variable:                Returns   No. Observations:                 8792\n",
            "Model:                 ARIMA(0, 0, 3)   Log Likelihood              -19775.968\n",
            "Date:                Thu, 29 Dec 2022   AIC                          39561.937\n",
            "Time:                        10:46:52   BIC                          39597.345\n",
            "Sample:                             0   HQIC                         39573.999\n",
            "                               - 8792                                         \n",
            "Covariance Type:                  opg                                         \n",
            "==============================================================================\n",
            "                 coef    std err          z      P>|z|      [0.025      0.975]\n",
            "------------------------------------------------------------------------------\n",
            "const          0.0459      0.024      1.952      0.051      -0.000       0.092\n",
            "ma.L1         -0.0089      0.006     -1.535      0.125      -0.020       0.002\n",
            "ma.L2         -0.0205      0.007     -2.884      0.004      -0.034      -0.007\n",
            "ma.L3         -0.0178      0.006     -2.879      0.004      -0.030      -0.006\n",
            "sigma2         5.2632      0.032    166.966      0.000       5.201       5.325\n",
            "===================================================================================\n",
            "Ljung-Box (L1) (Q):                   0.00   Jarque-Bera (JB):             66281.01\n",
            "Prob(Q):                              0.99   Prob(JB):                         0.00\n",
            "Heteroskedasticity (H):               1.11   Skew:                            -0.52\n",
            "Prob(H) (two-sided):                  0.00   Kurtosis:                        16.41\n",
            "===================================================================================\n",
            "\n",
            "Warnings:\n",
            "[1] Covariance matrix calculated using the outer product of gradients (complex-step).\n",
            "####################################################################################################\n",
            "MA(4)\n",
            "                               SARIMAX Results                                \n",
            "==============================================================================\n",
            "Dep. Variable:                Returns   No. Observations:                 8792\n",
            "Model:                 ARIMA(0, 0, 4)   Log Likelihood              -19775.855\n",
            "Date:                Thu, 29 Dec 2022   AIC                          39563.711\n",
            "Time:                        10:46:54   BIC                          39606.200\n",
            "Sample:                             0   HQIC                         39578.186\n",
            "                               - 8792                                         \n",
            "Covariance Type:                  opg                                         \n",
            "==============================================================================\n",
            "                 coef    std err          z      P>|z|      [0.025      0.975]\n",
            "------------------------------------------------------------------------------\n",
            "const          0.0459      0.024      1.934      0.053      -0.001       0.093\n",
            "ma.L1         -0.0090      0.006     -1.535      0.125      -0.020       0.002\n",
            "ma.L2         -0.0204      0.007     -2.858      0.004      -0.034      -0.006\n",
            "ma.L3         -0.0179      0.006     -2.893      0.004      -0.030      -0.006\n",
            "ma.L4          0.0052      0.007      0.728      0.467      -0.009       0.019\n",
            "sigma2         5.2631      0.032    166.249      0.000       5.201       5.325\n",
            "===================================================================================\n",
            "Ljung-Box (L1) (Q):                   0.00   Jarque-Bera (JB):             66166.31\n",
            "Prob(Q):                              1.00   Prob(JB):                         0.00\n",
            "Heteroskedasticity (H):               1.11   Skew:                            -0.52\n",
            "Prob(H) (two-sided):                  0.00   Kurtosis:                        16.40\n",
            "===================================================================================\n",
            "\n",
            "Warnings:\n",
            "[1] Covariance matrix calculated using the outer product of gradients (complex-step).\n",
            "####################################################################################################\n",
            "MA(5)\n",
            "                               SARIMAX Results                                \n",
            "==============================================================================\n",
            "Dep. Variable:                Returns   No. Observations:                 8792\n",
            "Model:                 ARIMA(0, 0, 5)   Log Likelihood              -19775.734\n",
            "Date:                Thu, 29 Dec 2022   AIC                          39565.468\n",
            "Time:                        10:46:57   BIC                          39615.039\n",
            "Sample:                             0   HQIC                         39582.355\n",
            "                               - 8792                                         \n",
            "Covariance Type:                  opg                                         \n",
            "==============================================================================\n",
            "                 coef    std err          z      P>|z|      [0.025      0.975]\n",
            "------------------------------------------------------------------------------\n",
            "const          0.0460      0.024      1.941      0.052      -0.000       0.092\n",
            "ma.L1         -0.0093      0.006     -1.589      0.112      -0.021       0.002\n",
            "ma.L2         -0.0202      0.007     -2.831      0.005      -0.034      -0.006\n",
            "ma.L3         -0.0180      0.006     -2.893      0.004      -0.030      -0.006\n",
            "ma.L4          0.0053      0.007      0.741      0.459      -0.009       0.019\n",
            "ma.L5         -0.0051      0.007     -0.720      0.471      -0.019       0.009\n",
            "sigma2         5.2630      0.032    166.018      0.000       5.201       5.325\n",
            "===================================================================================\n",
            "Ljung-Box (L1) (Q):                   0.00   Jarque-Bera (JB):             66172.72\n",
            "Prob(Q):                              0.99   Prob(JB):                         0.00\n",
            "Heteroskedasticity (H):               1.11   Skew:                            -0.52\n",
            "Prob(H) (two-sided):                  0.00   Kurtosis:                        16.40\n",
            "===================================================================================\n",
            "\n",
            "Warnings:\n",
            "[1] Covariance matrix calculated using the outer product of gradients (complex-step).\n",
            "####################################################################################################\n",
            "MA(6)\n",
            "                               SARIMAX Results                                \n",
            "==============================================================================\n",
            "Dep. Variable:                Returns   No. Observations:                 8792\n",
            "Model:                 ARIMA(0, 0, 6)   Log Likelihood              -19771.754\n",
            "Date:                Thu, 29 Dec 2022   AIC                          39559.508\n",
            "Time:                        10:47:00   BIC                          39616.160\n",
            "Sample:                             0   HQIC                         39578.808\n",
            "                               - 8792                                         \n",
            "Covariance Type:                  opg                                         \n",
            "==============================================================================\n",
            "                 coef    std err          z      P>|z|      [0.025      0.975]\n",
            "------------------------------------------------------------------------------\n",
            "const          0.0460      0.023      1.993      0.046       0.001       0.091\n",
            "ma.L1         -0.0089      0.006     -1.519      0.129      -0.020       0.003\n",
            "ma.L2         -0.0213      0.007     -2.967      0.003      -0.035      -0.007\n",
            "ma.L3         -0.0171      0.006     -2.761      0.006      -0.029      -0.005\n",
            "ma.L4          0.0077      0.007      1.071      0.284      -0.006       0.022\n",
            "ma.L5         -0.0056      0.007     -0.777      0.437      -0.020       0.008\n",
            "ma.L6         -0.0303      0.007     -4.063      0.000      -0.045      -0.016\n",
            "sigma2         5.2579      0.032    165.485      0.000       5.196       5.320\n",
            "===================================================================================\n",
            "Ljung-Box (L1) (Q):                   0.00   Jarque-Bera (JB):             65868.66\n",
            "Prob(Q):                              0.99   Prob(JB):                         0.00\n",
            "Heteroskedasticity (H):               1.12   Skew:                            -0.53\n",
            "Prob(H) (two-sided):                  0.00   Kurtosis:                        16.37\n",
            "===================================================================================\n",
            "\n",
            "Warnings:\n",
            "[1] Covariance matrix calculated using the outer product of gradients (complex-step).\n",
            "####################################################################################################\n",
            "MA(7)\n",
            "                               SARIMAX Results                                \n",
            "==============================================================================\n",
            "Dep. Variable:                Returns   No. Observations:                 8792\n",
            "Model:                 ARIMA(0, 0, 7)   Log Likelihood              -19771.661\n",
            "Date:                Thu, 29 Dec 2022   AIC                          39561.322\n",
            "Time:                        10:47:04   BIC                          39625.056\n",
            "Sample:                             0   HQIC                         39583.035\n",
            "                               - 8792                                         \n",
            "Covariance Type:                  opg                                         \n",
            "==============================================================================\n",
            "                 coef    std err          z      P>|z|      [0.025      0.975]\n",
            "------------------------------------------------------------------------------\n",
            "const          0.0460      0.023      1.984      0.047       0.001       0.091\n",
            "ma.L1         -0.0089      0.006     -1.518      0.129      -0.020       0.003\n",
            "ma.L2         -0.0214      0.007     -2.959      0.003      -0.036      -0.007\n",
            "ma.L3         -0.0173      0.006     -2.799      0.005      -0.029      -0.005\n",
            "ma.L4          0.0078      0.007      1.070      0.285      -0.006       0.022\n",
            "ma.L5         -0.0056      0.007     -0.787      0.431      -0.020       0.008\n",
            "ma.L6         -0.0304      0.007     -4.076      0.000      -0.045      -0.016\n",
            "ma.L7          0.0044      0.007      0.649      0.516      -0.009       0.018\n",
            "sigma2         5.2580      0.032    165.149      0.000       5.196       5.320\n",
            "===================================================================================\n",
            "Ljung-Box (L1) (Q):                   0.00   Jarque-Bera (JB):             65729.41\n",
            "Prob(Q):                              1.00   Prob(JB):                         0.00\n",
            "Heteroskedasticity (H):               1.12   Skew:                            -0.53\n",
            "Prob(H) (two-sided):                  0.00   Kurtosis:                        16.35\n",
            "===================================================================================\n",
            "\n",
            "Warnings:\n",
            "[1] Covariance matrix calculated using the outer product of gradients (complex-step).\n",
            "####################################################################################################\n",
            "MA(8)\n",
            "                               SARIMAX Results                                \n",
            "==============================================================================\n",
            "Dep. Variable:                Returns   No. Observations:                 8792\n",
            "Model:                 ARIMA(0, 0, 8)   Log Likelihood              -19770.693\n",
            "Date:                Thu, 29 Dec 2022   AIC                          39561.386\n",
            "Time:                        10:47:08   BIC                          39632.202\n",
            "Sample:                             0   HQIC                         39585.512\n",
            "                               - 8792                                         \n",
            "Covariance Type:                  opg                                         \n",
            "==============================================================================\n",
            "                 coef    std err          z      P>|z|      [0.025      0.975]\n",
            "------------------------------------------------------------------------------\n",
            "const          0.0460      0.023      2.007      0.045       0.001       0.091\n",
            "ma.L1         -0.0088      0.006     -1.462      0.144      -0.021       0.003\n",
            "ma.L2         -0.0200      0.007     -2.774      0.006      -0.034      -0.006\n",
            "ma.L3         -0.0177      0.006     -2.828      0.005      -0.030      -0.005\n",
            "ma.L4          0.0074      0.007      1.024      0.306      -0.007       0.022\n",
            "ma.L5         -0.0052      0.007     -0.724      0.469      -0.019       0.009\n",
            "ma.L6         -0.0288      0.007     -3.855      0.000      -0.043      -0.014\n",
            "ma.L7          0.0050      0.007      0.734      0.463      -0.008       0.018\n",
            "ma.L8         -0.0146      0.007     -2.209      0.027      -0.028      -0.002\n",
            "sigma2         5.2568      0.034    156.777      0.000       5.191       5.323\n",
            "===================================================================================\n",
            "Ljung-Box (L1) (Q):                   0.00   Jarque-Bera (JB):             64363.78\n",
            "Prob(Q):                              0.99   Prob(JB):                         0.00\n",
            "Heteroskedasticity (H):               1.12   Skew:                            -0.53\n",
            "Prob(H) (two-sided):                  0.00   Kurtosis:                        16.21\n",
            "===================================================================================\n",
            "\n",
            "Warnings:\n",
            "[1] Covariance matrix calculated using the outer product of gradients (complex-step).\n",
            "####################################################################################################\n",
            "MA(9)\n",
            "                               SARIMAX Results                                \n",
            "==============================================================================\n",
            "Dep. Variable:                Returns   No. Observations:                 8792\n",
            "Model:                 ARIMA(0, 0, 9)   Log Likelihood              -19770.550\n",
            "Date:                Thu, 29 Dec 2022   AIC                          39563.100\n",
            "Time:                        10:47:13   BIC                          39640.997\n",
            "Sample:                             0   HQIC                         39589.637\n",
            "                               - 8792                                         \n",
            "Covariance Type:                  opg                                         \n",
            "==============================================================================\n",
            "                 coef    std err          z      P>|z|      [0.025      0.975]\n",
            "------------------------------------------------------------------------------\n",
            "const          0.0460      0.023      1.996      0.046       0.001       0.091\n",
            "ma.L1         -0.0092      0.006     -1.532      0.126      -0.021       0.003\n",
            "ma.L2         -0.0199      0.007     -2.742      0.006      -0.034      -0.006\n",
            "ma.L3         -0.0178      0.006     -2.838      0.005      -0.030      -0.006\n",
            "ma.L4          0.0073      0.007      1.010      0.313      -0.007       0.022\n",
            "ma.L5         -0.0057      0.007     -0.781      0.435      -0.020       0.009\n",
            "ma.L6         -0.0291      0.007     -3.900      0.000      -0.044      -0.014\n",
            "ma.L7          0.0046      0.007      0.678      0.498      -0.009       0.018\n",
            "ma.L8         -0.0144      0.007     -2.179      0.029      -0.027      -0.001\n",
            "ma.L9          0.0058      0.008      0.759      0.448      -0.009       0.021\n",
            "sigma2         5.2568      0.034    155.587      0.000       5.191       5.323\n",
            "===================================================================================\n",
            "Ljung-Box (L1) (Q):                   0.00   Jarque-Bera (JB):             64185.77\n",
            "Prob(Q):                              0.99   Prob(JB):                         0.00\n",
            "Heteroskedasticity (H):               1.12   Skew:                            -0.53\n",
            "Prob(H) (two-sided):                  0.00   Kurtosis:                        16.19\n",
            "===================================================================================\n",
            "\n",
            "Warnings:\n",
            "[1] Covariance matrix calculated using the outer product of gradients (complex-step).\n",
            "####################################################################################################\n",
            "MA(10)\n",
            "                               SARIMAX Results                                \n",
            "==============================================================================\n",
            "Dep. Variable:                Returns   No. Observations:                 8792\n",
            "Model:                ARIMA(0, 0, 10)   Log Likelihood              -19766.823\n",
            "Date:                Thu, 29 Dec 2022   AIC                          39557.646\n",
            "Time:                        10:47:21   BIC                          39642.625\n",
            "Sample:                             0   HQIC                         39586.596\n",
            "                               - 8792                                         \n",
            "Covariance Type:                  opg                                         \n",
            "==============================================================================\n",
            "                 coef    std err          z      P>|z|      [0.025      0.975]\n",
            "------------------------------------------------------------------------------\n",
            "const          0.0460      0.024      1.945      0.052      -0.000       0.092\n",
            "ma.L1         -0.0082      0.006     -1.364      0.173      -0.020       0.004\n",
            "ma.L2         -0.0201      0.007     -2.757      0.006      -0.034      -0.006\n",
            "ma.L3         -0.0180      0.006     -2.800      0.005      -0.031      -0.005\n",
            "ma.L4          0.0041      0.007      0.563      0.574      -0.010       0.018\n",
            "ma.L5         -0.0069      0.007     -0.949      0.343      -0.021       0.007\n",
            "ma.L6         -0.0303      0.007     -4.057      0.000      -0.045      -0.016\n",
            "ma.L7          0.0050      0.007      0.726      0.468      -0.008       0.018\n",
            "ma.L8         -0.0146      0.007     -2.203      0.028      -0.028      -0.002\n",
            "ma.L9          0.0059      0.008      0.778      0.437      -0.009       0.021\n",
            "ma.L10         0.0289      0.007      4.224      0.000       0.015       0.042\n",
            "sigma2         5.2522      0.034    154.464      0.000       5.186       5.319\n",
            "===================================================================================\n",
            "Ljung-Box (L1) (Q):                   0.00   Jarque-Bera (JB):             62952.75\n",
            "Prob(Q):                              0.97   Prob(JB):                         0.00\n",
            "Heteroskedasticity (H):               1.12   Skew:                            -0.52\n",
            "Prob(H) (two-sided):                  0.00   Kurtosis:                        16.07\n",
            "===================================================================================\n",
            "\n",
            "Warnings:\n",
            "[1] Covariance matrix calculated using the outer product of gradients (complex-step).\n"
          ]
        },
        {
          "output_type": "execute_result",
          "data": {
            "text/plain": [
              "Empty DataFrame\n",
              "Columns: [LL, AIC]\n",
              "Index: []"
            ],
            "text/html": [
              "\n",
              "  <div id=\"df-65df2b41-2e9a-4ee1-82df-2ef230b4a379\">\n",
              "    <div class=\"colab-df-container\">\n",
              "      <div>\n",
              "<style scoped>\n",
              "    .dataframe tbody tr th:only-of-type {\n",
              "        vertical-align: middle;\n",
              "    }\n",
              "\n",
              "    .dataframe tbody tr th {\n",
              "        vertical-align: top;\n",
              "    }\n",
              "\n",
              "    .dataframe thead th {\n",
              "        text-align: right;\n",
              "    }\n",
              "</style>\n",
              "<table border=\"1\" class=\"dataframe\">\n",
              "  <thead>\n",
              "    <tr style=\"text-align: right;\">\n",
              "      <th></th>\n",
              "      <th>LL</th>\n",
              "      <th>AIC</th>\n",
              "    </tr>\n",
              "  </thead>\n",
              "  <tbody>\n",
              "  </tbody>\n",
              "</table>\n",
              "</div>\n",
              "      <button class=\"colab-df-convert\" onclick=\"convertToInteractive('df-65df2b41-2e9a-4ee1-82df-2ef230b4a379')\"\n",
              "              title=\"Convert this dataframe to an interactive table.\"\n",
              "              style=\"display:none;\">\n",
              "        \n",
              "  <svg xmlns=\"http://www.w3.org/2000/svg\" height=\"24px\"viewBox=\"0 0 24 24\"\n",
              "       width=\"24px\">\n",
              "    <path d=\"M0 0h24v24H0V0z\" fill=\"none\"/>\n",
              "    <path d=\"M18.56 5.44l.94 2.06.94-2.06 2.06-.94-2.06-.94-.94-2.06-.94 2.06-2.06.94zm-11 1L8.5 8.5l.94-2.06 2.06-.94-2.06-.94L8.5 2.5l-.94 2.06-2.06.94zm10 10l.94 2.06.94-2.06 2.06-.94-2.06-.94-.94-2.06-.94 2.06-2.06.94z\"/><path d=\"M17.41 7.96l-1.37-1.37c-.4-.4-.92-.59-1.43-.59-.52 0-1.04.2-1.43.59L10.3 9.45l-7.72 7.72c-.78.78-.78 2.05 0 2.83L4 21.41c.39.39.9.59 1.41.59.51 0 1.02-.2 1.41-.59l7.78-7.78 2.81-2.81c.8-.78.8-2.07 0-2.86zM5.41 20L4 18.59l7.72-7.72 1.47 1.35L5.41 20z\"/>\n",
              "  </svg>\n",
              "      </button>\n",
              "      \n",
              "  <style>\n",
              "    .colab-df-container {\n",
              "      display:flex;\n",
              "      flex-wrap:wrap;\n",
              "      gap: 12px;\n",
              "    }\n",
              "\n",
              "    .colab-df-convert {\n",
              "      background-color: #E8F0FE;\n",
              "      border: none;\n",
              "      border-radius: 50%;\n",
              "      cursor: pointer;\n",
              "      display: none;\n",
              "      fill: #1967D2;\n",
              "      height: 32px;\n",
              "      padding: 0 0 0 0;\n",
              "      width: 32px;\n",
              "    }\n",
              "\n",
              "    .colab-df-convert:hover {\n",
              "      background-color: #E2EBFA;\n",
              "      box-shadow: 0px 1px 2px rgba(60, 64, 67, 0.3), 0px 1px 3px 1px rgba(60, 64, 67, 0.15);\n",
              "      fill: #174EA6;\n",
              "    }\n",
              "\n",
              "    [theme=dark] .colab-df-convert {\n",
              "      background-color: #3B4455;\n",
              "      fill: #D2E3FC;\n",
              "    }\n",
              "\n",
              "    [theme=dark] .colab-df-convert:hover {\n",
              "      background-color: #434B5C;\n",
              "      box-shadow: 0px 1px 3px 1px rgba(0, 0, 0, 0.15);\n",
              "      filter: drop-shadow(0px 1px 2px rgba(0, 0, 0, 0.3));\n",
              "      fill: #FFFFFF;\n",
              "    }\n",
              "  </style>\n",
              "\n",
              "      <script>\n",
              "        const buttonEl =\n",
              "          document.querySelector('#df-65df2b41-2e9a-4ee1-82df-2ef230b4a379 button.colab-df-convert');\n",
              "        buttonEl.style.display =\n",
              "          google.colab.kernel.accessAllowed ? 'block' : 'none';\n",
              "\n",
              "        async function convertToInteractive(key) {\n",
              "          const element = document.querySelector('#df-65df2b41-2e9a-4ee1-82df-2ef230b4a379');\n",
              "          const dataTable =\n",
              "            await google.colab.kernel.invokeFunction('convertToInteractive',\n",
              "                                                     [key], {});\n",
              "          if (!dataTable) return;\n",
              "\n",
              "          const docLinkHtml = 'Like what you see? Visit the ' +\n",
              "            '<a target=\"_blank\" href=https://colab.research.google.com/notebooks/data_table.ipynb>data table notebook</a>'\n",
              "            + ' to learn more about interactive tables.';\n",
              "          element.innerHTML = '';\n",
              "          dataTable['output_type'] = 'display_data';\n",
              "          await google.colab.output.renderOutput(dataTable, element);\n",
              "          const docLink = document.createElement('div');\n",
              "          docLink.innerHTML = docLinkHtml;\n",
              "          element.appendChild(docLink);\n",
              "        }\n",
              "      </script>\n",
              "    </div>\n",
              "  </div>\n",
              "  "
            ]
          },
          "metadata": {},
          "execution_count": 32
        }
      ],
      "source": [
        "models_lst, ll_lst, aic_lst = [], [], []\n",
        "for MA in range(1,11):\n",
        "  globals()[f\"model_ret_ma_{MA}\"] = ARIMA(brent.Returns, order=(0,0,MA))\n",
        "  globals()[f\"results_ret_ma_{MA}\"] = globals()[f\"model_ret_ma_{MA}\"].fit() # start_ar_lag = 5\n",
        "  if all(globals()[f\"results_ret_ma_{MA}\"].pvalues<0.05):\n",
        "    models_lst.append(f\"MA({MA})\")\n",
        "    ll_lst.append(globals()[f\"results_ret_ma_{MA}\"].llf.round(2))\n",
        "    aic_lst.append(globals()[f\"results_ret_ma_{MA}\"].aic.round(2))\n",
        "  print(\"#\"*100)\n",
        "  print(f\"MA({MA})\")\n",
        "  print(globals()[f\"results_ret_ma_{MA}\"].summary())\n",
        "\n",
        "ma_ret_results_dict = {\"LL\": ll_lst,\n",
        "                   \"AIC\": aic_lst}\n",
        "ma_ret_results_df = pd.DataFrame(ma_ret_results_dict, index = models_lst)\n",
        "ma_ret_results_df"
      ]
    },
    {
      "cell_type": "markdown",
      "metadata": {
        "id": "Th1-Y1cbGlxW"
      },
      "source": [
        "Just like with AR, unfortunately none of the MA models yielded all significant coefficients.\n",
        "\n",
        "Let see if we can model Brent prices using combination of the two in the ARMA / ARIMA process."
      ]
    },
    {
      "cell_type": "markdown",
      "metadata": {
        "id": "qVng7794v62J"
      },
      "source": [
        "## **ARMA**\n",
        "\n",
        "Let us construct a model which includes both past values and past errors and which solves the issues each one of them (AR & MA) has individually."
      ]
    },
    {
      "cell_type": "code",
      "execution_count": 33,
      "metadata": {
        "colab": {
          "base_uri": "https://localhost:8080/",
          "height": 448
        },
        "id": "WYFA-XxviXYr",
        "outputId": "320be881-fbeb-42d9-8206-b912273715bc"
      },
      "outputs": [
        {
          "output_type": "execute_result",
          "data": {
            "text/plain": [
              "<class 'statsmodels.iolib.summary.Summary'>\n",
              "\"\"\"\n",
              "                               SARIMAX Results                                \n",
              "==============================================================================\n",
              "Dep. Variable:                Returns   No. Observations:                 8792\n",
              "Model:                 ARIMA(1, 0, 1)   Log Likelihood              -19776.610\n",
              "Date:                Thu, 29 Dec 2022   AIC                          39561.220\n",
              "Time:                        10:47:26   BIC                          39589.546\n",
              "Sample:                             0   HQIC                         39570.870\n",
              "                               - 8792                                         \n",
              "Covariance Type:                  opg                                         \n",
              "==============================================================================\n",
              "                 coef    std err          z      P>|z|      [0.025      0.975]\n",
              "------------------------------------------------------------------------------\n",
              "const          0.0460      0.023      1.963      0.050    6.64e-05       0.092\n",
              "ar.L1          0.7308      0.111      6.571      0.000       0.513       0.949\n",
              "ma.L1         -0.7482      0.108     -6.904      0.000      -0.961      -0.536\n",
              "sigma2         5.2640      0.029    179.005      0.000       5.206       5.322\n",
              "===================================================================================\n",
              "Ljung-Box (L1) (Q):                   0.59   Jarque-Bera (JB):             67030.00\n",
              "Prob(Q):                              0.44   Prob(JB):                         0.00\n",
              "Heteroskedasticity (H):               1.11   Skew:                            -0.53\n",
              "Prob(H) (two-sided):                  0.00   Kurtosis:                        16.49\n",
              "===================================================================================\n",
              "\n",
              "Warnings:\n",
              "[1] Covariance matrix calculated using the outer product of gradients (complex-step).\n",
              "\"\"\""
            ],
            "text/html": [
              "<table class=\"simpletable\">\n",
              "<caption>SARIMAX Results</caption>\n",
              "<tr>\n",
              "  <th>Dep. Variable:</th>        <td>Returns</td>     <th>  No. Observations:  </th>    <td>8792</td>   \n",
              "</tr>\n",
              "<tr>\n",
              "  <th>Model:</th>            <td>ARIMA(1, 0, 1)</td>  <th>  Log Likelihood     </th> <td>-19776.610</td>\n",
              "</tr>\n",
              "<tr>\n",
              "  <th>Date:</th>            <td>Thu, 29 Dec 2022</td> <th>  AIC                </th>  <td>39561.220</td>\n",
              "</tr>\n",
              "<tr>\n",
              "  <th>Time:</th>                <td>10:47:26</td>     <th>  BIC                </th>  <td>39589.546</td>\n",
              "</tr>\n",
              "<tr>\n",
              "  <th>Sample:</th>                  <td>0</td>        <th>  HQIC               </th>  <td>39570.870</td>\n",
              "</tr>\n",
              "<tr>\n",
              "  <th></th>                      <td> - 8792</td>     <th>                     </th>      <td> </td>    \n",
              "</tr>\n",
              "<tr>\n",
              "  <th>Covariance Type:</th>        <td>opg</td>       <th>                     </th>      <td> </td>    \n",
              "</tr>\n",
              "</table>\n",
              "<table class=\"simpletable\">\n",
              "<tr>\n",
              "     <td></td>       <th>coef</th>     <th>std err</th>      <th>z</th>      <th>P>|z|</th>  <th>[0.025</th>    <th>0.975]</th>  \n",
              "</tr>\n",
              "<tr>\n",
              "  <th>const</th>  <td>    0.0460</td> <td>    0.023</td> <td>    1.963</td> <td> 0.050</td> <td> 6.64e-05</td> <td>    0.092</td>\n",
              "</tr>\n",
              "<tr>\n",
              "  <th>ar.L1</th>  <td>    0.7308</td> <td>    0.111</td> <td>    6.571</td> <td> 0.000</td> <td>    0.513</td> <td>    0.949</td>\n",
              "</tr>\n",
              "<tr>\n",
              "  <th>ma.L1</th>  <td>   -0.7482</td> <td>    0.108</td> <td>   -6.904</td> <td> 0.000</td> <td>   -0.961</td> <td>   -0.536</td>\n",
              "</tr>\n",
              "<tr>\n",
              "  <th>sigma2</th> <td>    5.2640</td> <td>    0.029</td> <td>  179.005</td> <td> 0.000</td> <td>    5.206</td> <td>    5.322</td>\n",
              "</tr>\n",
              "</table>\n",
              "<table class=\"simpletable\">\n",
              "<tr>\n",
              "  <th>Ljung-Box (L1) (Q):</th>     <td>0.59</td> <th>  Jarque-Bera (JB):  </th> <td>67030.00</td>\n",
              "</tr>\n",
              "<tr>\n",
              "  <th>Prob(Q):</th>                <td>0.44</td> <th>  Prob(JB):          </th>   <td>0.00</td>  \n",
              "</tr>\n",
              "<tr>\n",
              "  <th>Heteroskedasticity (H):</th> <td>1.11</td> <th>  Skew:              </th>   <td>-0.53</td> \n",
              "</tr>\n",
              "<tr>\n",
              "  <th>Prob(H) (two-sided):</th>    <td>0.00</td> <th>  Kurtosis:          </th>   <td>16.49</td> \n",
              "</tr>\n",
              "</table><br/><br/>Warnings:<br/>[1] Covariance matrix calculated using the outer product of gradients (complex-step)."
            ]
          },
          "metadata": {},
          "execution_count": 33
        }
      ],
      "source": [
        "model_ret_ar_1_ma_1 = ARIMA(brent.Returns, order=(1,0,1))\n",
        "results_ret_ar_1_ma_1 = model_ret_ar_1_ma_1.fit()\n",
        "results_ret_ar_1_ma_1.summary()"
      ]
    },
    {
      "cell_type": "markdown",
      "metadata": {
        "id": "T0B0_GnCyAmj"
      },
      "source": [
        "P-values indicate significance of all coefficients. At the same time AR1 coefficient indicates highly positive tendency between past and present values while Brent price returns move in trends of consecutive positive and negative values. The negative MA coefficient suggest that we should be going away from the previous period value."
      ]
    },
    {
      "cell_type": "code",
      "execution_count": null,
      "metadata": {
        "colab": {
          "base_uri": "https://localhost:8080/"
        },
        "id": "G57M9MNgwj3d",
        "outputId": "8636815a-c785-4e53-b1d3-ff09b2e33efa"
      },
      "outputs": [
        {
          "output_type": "stream",
          "name": "stdout",
          "text": [
            "ARMA vs AR =>  0.024\n",
            "ARMA vs MA =>  0.024\n"
          ]
        }
      ],
      "source": [
        "print(\"ARMA vs AR => \", LLR_test(model_ret_ar_1, model_ret_ar_1_ma_1))\n",
        "print(\"ARMA vs MA => \", LLR_test(model_ret_ma_1, model_ret_ar_1_ma_1))"
      ]
    },
    {
      "cell_type": "markdown",
      "metadata": {
        "id": "KxkzslZa0nyU"
      },
      "source": [
        "Both results suggest that using past errors along with past values helps to obtain much better estimators."
      ]
    },
    {
      "cell_type": "markdown",
      "metadata": {
        "id": "2MCswvOk2ZpX"
      },
      "source": [
        "## **ARIMA**\n",
        "\n",
        "Since we know that Brent crude prices follow non-stationary process while their returns exibit stationary characteristics we may attempt to model the series using ARIMA process with one level of integration.\n",
        "\n",
        "Let's start with the simplest one..."
      ]
    },
    {
      "cell_type": "code",
      "execution_count": 34,
      "metadata": {
        "colab": {
          "base_uri": "https://localhost:8080/",
          "height": 427
        },
        "id": "Rae5vUKrwkD4",
        "outputId": "067fa5bb-d569-4067-9742-7a904eb6e86e"
      },
      "outputs": [
        {
          "output_type": "execute_result",
          "data": {
            "text/plain": [
              "<class 'statsmodels.iolib.summary.Summary'>\n",
              "\"\"\"\n",
              "                               SARIMAX Results                                \n",
              "==============================================================================\n",
              "Dep. Variable:                  Close   No. Observations:                 8792\n",
              "Model:                 ARIMA(1, 1, 1)   Log Likelihood              -14240.655\n",
              "Date:                Thu, 29 Dec 2022   AIC                          28487.310\n",
              "Time:                        10:47:54   BIC                          28508.555\n",
              "Sample:                             0   HQIC                         28494.548\n",
              "                               - 8792                                         \n",
              "Covariance Type:                  opg                                         \n",
              "==============================================================================\n",
              "                 coef    std err          z      P>|z|      [0.025      0.975]\n",
              "------------------------------------------------------------------------------\n",
              "ar.L1          0.4563      0.109      4.194      0.000       0.243       0.669\n",
              "ma.L1         -0.4916      0.105     -4.668      0.000      -0.698      -0.285\n",
              "sigma2         1.4947      0.008    177.863      0.000       1.478       1.511\n",
              "===================================================================================\n",
              "Ljung-Box (L1) (Q):                   0.05   Jarque-Bera (JB):             66976.24\n",
              "Prob(Q):                              0.82   Prob(JB):                         0.00\n",
              "Heteroskedasticity (H):              10.20   Skew:                            -0.82\n",
              "Prob(H) (two-sided):                  0.00   Kurtosis:                        16.42\n",
              "===================================================================================\n",
              "\n",
              "Warnings:\n",
              "[1] Covariance matrix calculated using the outer product of gradients (complex-step).\n",
              "\"\"\""
            ],
            "text/html": [
              "<table class=\"simpletable\">\n",
              "<caption>SARIMAX Results</caption>\n",
              "<tr>\n",
              "  <th>Dep. Variable:</th>         <td>Close</td>      <th>  No. Observations:  </th>    <td>8792</td>   \n",
              "</tr>\n",
              "<tr>\n",
              "  <th>Model:</th>            <td>ARIMA(1, 1, 1)</td>  <th>  Log Likelihood     </th> <td>-14240.655</td>\n",
              "</tr>\n",
              "<tr>\n",
              "  <th>Date:</th>            <td>Thu, 29 Dec 2022</td> <th>  AIC                </th>  <td>28487.310</td>\n",
              "</tr>\n",
              "<tr>\n",
              "  <th>Time:</th>                <td>10:47:54</td>     <th>  BIC                </th>  <td>28508.555</td>\n",
              "</tr>\n",
              "<tr>\n",
              "  <th>Sample:</th>                  <td>0</td>        <th>  HQIC               </th>  <td>28494.548</td>\n",
              "</tr>\n",
              "<tr>\n",
              "  <th></th>                      <td> - 8792</td>     <th>                     </th>      <td> </td>    \n",
              "</tr>\n",
              "<tr>\n",
              "  <th>Covariance Type:</th>        <td>opg</td>       <th>                     </th>      <td> </td>    \n",
              "</tr>\n",
              "</table>\n",
              "<table class=\"simpletable\">\n",
              "<tr>\n",
              "     <td></td>       <th>coef</th>     <th>std err</th>      <th>z</th>      <th>P>|z|</th>  <th>[0.025</th>    <th>0.975]</th>  \n",
              "</tr>\n",
              "<tr>\n",
              "  <th>ar.L1</th>  <td>    0.4563</td> <td>    0.109</td> <td>    4.194</td> <td> 0.000</td> <td>    0.243</td> <td>    0.669</td>\n",
              "</tr>\n",
              "<tr>\n",
              "  <th>ma.L1</th>  <td>   -0.4916</td> <td>    0.105</td> <td>   -4.668</td> <td> 0.000</td> <td>   -0.698</td> <td>   -0.285</td>\n",
              "</tr>\n",
              "<tr>\n",
              "  <th>sigma2</th> <td>    1.4947</td> <td>    0.008</td> <td>  177.863</td> <td> 0.000</td> <td>    1.478</td> <td>    1.511</td>\n",
              "</tr>\n",
              "</table>\n",
              "<table class=\"simpletable\">\n",
              "<tr>\n",
              "  <th>Ljung-Box (L1) (Q):</th>     <td>0.05</td>  <th>  Jarque-Bera (JB):  </th> <td>66976.24</td>\n",
              "</tr>\n",
              "<tr>\n",
              "  <th>Prob(Q):</th>                <td>0.82</td>  <th>  Prob(JB):          </th>   <td>0.00</td>  \n",
              "</tr>\n",
              "<tr>\n",
              "  <th>Heteroskedasticity (H):</th> <td>10.20</td> <th>  Skew:              </th>   <td>-0.82</td> \n",
              "</tr>\n",
              "<tr>\n",
              "  <th>Prob(H) (two-sided):</th>    <td>0.00</td>  <th>  Kurtosis:          </th>   <td>16.42</td> \n",
              "</tr>\n",
              "</table><br/><br/>Warnings:<br/>[1] Covariance matrix calculated using the outer product of gradients (complex-step)."
            ]
          },
          "metadata": {},
          "execution_count": 34
        }
      ],
      "source": [
        "model_ar_1_i_1_ma_1 = ARIMA(brent.Close, order=(1,1,1))\n",
        "results_ar_1_i_1_ma_1 = model_ar_1_i_1_ma_1.fit()\n",
        "results_ar_1_i_1_ma_1.summary()"
      ]
    },
    {
      "cell_type": "code",
      "source": [
        "# adding residuals to a data frame\n",
        "brent[\"ARIMA_Residuals\"] = results_ar_1_i_1_ma_1.resid"
      ],
      "metadata": {
        "id": "lJUyuDRZdMfC"
      },
      "execution_count": null,
      "outputs": []
    },
    {
      "cell_type": "markdown",
      "metadata": {
        "id": "mMHZ5e0B3TA1"
      },
      "source": [
        "Both coefficients are statistically significant. Let's have a look at residuals...\n"
      ]
    },
    {
      "cell_type": "code",
      "execution_count": null,
      "metadata": {
        "colab": {
          "base_uri": "https://localhost:8080/",
          "height": 502
        },
        "id": "0SQkgDTnwkJk",
        "outputId": "cb1aa759-d8c4-402d-86c6-599555047c40"
      },
      "outputs": [
        {
          "output_type": "display_data",
          "data": {
            "text/plain": [
              "<Figure size 1080x576 with 1 Axes>"
            ],
            "image/png": "[encoded data removed]"
          },
          "metadata": {}
        }
      ],
      "source": [
        "fig, ax = plt.subplots(figsize=(15, 8))\n",
        "plot_acf(brent.ARIMA_Residuals[1:], zero=False, lags=40, ax = ax)\n",
        "plt.title(\"ACF of ARIMA(1,1,1) Residuals\", size=14)\n",
        "ax.set_ylim(-0.05, 0.05)\n",
        "plt.show();"
      ]
    },
    {
      "cell_type": "markdown",
      "metadata": {
        "id": "A_OQyfHz4iC3"
      },
      "source": [
        "4th and 5th lag seem to be highly significant and as such should be incorporated into the model. Let's try higher-lag ARIMA models which include lags up to 5."
      ]
    },
    {
      "cell_type": "code",
      "execution_count": null,
      "metadata": {
        "colab": {
          "base_uri": "https://localhost:8080/",
          "height": 1000
        },
        "id": "2x_m34mPdTdW",
        "outputId": "d0974145-08d9-4f11-9564-750c6818be63"
      },
      "outputs": [
        {
          "output_type": "stream",
          "name": "stdout",
          "text": [
            "####################################################################################################\n",
            "ARIMA(1,1,1)\n",
            "                               SARIMAX Results                                \n",
            "==============================================================================\n",
            "Dep. Variable:                  Close   No. Observations:                 8792\n",
            "Model:                 ARIMA(1, 1, 1)   Log Likelihood              -14240.655\n",
            "Date:                Tue, 27 Dec 2022   AIC                          28487.310\n",
            "Time:                        16:39:19   BIC                          28508.555\n",
            "Sample:                             0   HQIC                         28494.548\n",
            "                               - 8792                                         \n",
            "Covariance Type:                  opg                                         \n",
            "==============================================================================\n",
            "                 coef    std err          z      P>|z|      [0.025      0.975]\n",
            "------------------------------------------------------------------------------\n",
            "ar.L1          0.4563      0.109      4.194      0.000       0.243       0.669\n",
            "ma.L1         -0.4916      0.105     -4.668      0.000      -0.698      -0.285\n",
            "sigma2         1.4947      0.008    177.863      0.000       1.478       1.511\n",
            "===================================================================================\n",
            "Ljung-Box (L1) (Q):                   0.05   Jarque-Bera (JB):             66976.24\n",
            "Prob(Q):                              0.82   Prob(JB):                         0.00\n",
            "Heteroskedasticity (H):              10.20   Skew:                            -0.82\n",
            "Prob(H) (two-sided):                  0.00   Kurtosis:                        16.42\n",
            "===================================================================================\n",
            "\n",
            "Warnings:\n",
            "[1] Covariance matrix calculated using the outer product of gradients (complex-step).\n",
            "####################################################################################################\n",
            "ARIMA(1,1,2)\n",
            "                               SARIMAX Results                                \n",
            "==============================================================================\n",
            "Dep. Variable:                  Close   No. Observations:                 8792\n",
            "Model:                 ARIMA(1, 1, 2)   Log Likelihood              -14242.857\n",
            "Date:                Tue, 27 Dec 2022   AIC                          28493.713\n",
            "Time:                        16:39:20   BIC                          28522.039\n",
            "Sample:                             0   HQIC                         28503.363\n",
            "                               - 8792                                         \n",
            "Covariance Type:                  opg                                         \n",
            "==============================================================================\n",
            "                 coef    std err          z      P>|z|      [0.025      0.975]\n",
            "------------------------------------------------------------------------------\n",
            "ar.L1         -0.5826      4.420     -0.132      0.895      -9.245       8.080\n",
            "ma.L1          0.5490      4.419      0.124      0.901      -8.112       9.210\n",
            "ma.L2         -0.0202      0.147     -0.138      0.890      -0.308       0.268\n",
            "sigma2         1.4955      0.009    175.733      0.000       1.479       1.512\n",
            "===================================================================================\n",
            "Ljung-Box (L1) (Q):                   0.01   Jarque-Bera (JB):             68237.59\n",
            "Prob(Q):                              0.94   Prob(JB):                         0.00\n",
            "Heteroskedasticity (H):              10.18   Skew:                            -0.81\n",
            "Prob(H) (two-sided):                  0.00   Kurtosis:                        16.55\n",
            "===================================================================================\n",
            "\n",
            "Warnings:\n",
            "[1] Covariance matrix calculated using the outer product of gradients (complex-step).\n",
            "####################################################################################################\n",
            "ARIMA(1,1,3)\n",
            "                               SARIMAX Results                                \n",
            "==============================================================================\n",
            "Dep. Variable:                  Close   No. Observations:                 8792\n",
            "Model:                 ARIMA(1, 1, 3)   Log Likelihood              -14233.918\n",
            "Date:                Tue, 27 Dec 2022   AIC                          28477.836\n",
            "Time:                        16:39:22   BIC                          28513.243\n",
            "Sample:                             0   HQIC                         28489.898\n",
            "                               - 8792                                         \n",
            "Covariance Type:                  opg                                         \n",
            "==============================================================================\n",
            "                 coef    std err          z      P>|z|      [0.025      0.975]\n",
            "------------------------------------------------------------------------------\n",
            "ar.L1         -0.8079      0.053    -15.304      0.000      -0.911      -0.704\n",
            "ma.L1          0.7767      0.053     14.665      0.000       0.673       0.881\n",
            "ma.L2         -0.0491      0.007     -7.172      0.000      -0.063      -0.036\n",
            "ma.L3         -0.0418      0.005     -8.317      0.000      -0.052      -0.032\n",
            "sigma2         1.4924      0.009    174.078      0.000       1.476       1.509\n",
            "===================================================================================\n",
            "Ljung-Box (L1) (Q):                   0.00   Jarque-Bera (JB):             64460.16\n",
            "Prob(Q):                              0.96   Prob(JB):                         0.00\n",
            "Heteroskedasticity (H):              10.16   Skew:                            -0.80\n",
            "Prob(H) (two-sided):                  0.00   Kurtosis:                        16.17\n",
            "===================================================================================\n",
            "\n",
            "Warnings:\n",
            "[1] Covariance matrix calculated using the outer product of gradients (complex-step).\n",
            "####################################################################################################\n",
            "ARIMA(1,1,4)\n",
            "                               SARIMAX Results                                \n",
            "==============================================================================\n",
            "Dep. Variable:                  Close   No. Observations:                 8792\n",
            "Model:                 ARIMA(1, 1, 4)   Log Likelihood              -14230.199\n",
            "Date:                Tue, 27 Dec 2022   AIC                          28472.399\n",
            "Time:                        16:39:25   BIC                          28514.888\n",
            "Sample:                             0   HQIC                         28486.874\n",
            "                               - 8792                                         \n",
            "Covariance Type:                  opg                                         \n",
            "==============================================================================\n",
            "                 coef    std err          z      P>|z|      [0.025      0.975]\n",
            "------------------------------------------------------------------------------\n",
            "ar.L1         -0.3336      0.110     -3.038      0.002      -0.549      -0.118\n",
            "ma.L1          0.3025      0.110      2.739      0.006       0.086       0.519\n",
            "ma.L2         -0.0337      0.007     -5.190      0.000      -0.046      -0.021\n",
            "ma.L3         -0.0223      0.006     -3.816      0.000      -0.034      -0.011\n",
            "ma.L4          0.0392      0.006      6.075      0.000       0.027       0.052\n",
            "sigma2         1.4912      0.009    172.492      0.000       1.474       1.508\n",
            "===================================================================================\n",
            "Ljung-Box (L1) (Q):                   0.00   Jarque-Bera (JB):             64149.52\n",
            "Prob(Q):                              0.97   Prob(JB):                         0.00\n",
            "Heteroskedasticity (H):              10.14   Skew:                            -0.79\n",
            "Prob(H) (two-sided):                  0.00   Kurtosis:                        16.14\n",
            "===================================================================================\n",
            "\n",
            "Warnings:\n",
            "[1] Covariance matrix calculated using the outer product of gradients (complex-step).\n",
            "####################################################################################################\n",
            "ARIMA(1,1,5)\n",
            "                               SARIMAX Results                                \n",
            "==============================================================================\n",
            "Dep. Variable:                  Close   No. Observations:                 8792\n",
            "Model:                 ARIMA(1, 1, 5)   Log Likelihood              -14227.252\n",
            "Date:                Tue, 27 Dec 2022   AIC                          28468.503\n",
            "Time:                        16:39:29   BIC                          28518.074\n",
            "Sample:                             0   HQIC                         28485.390\n",
            "                               - 8792                                         \n",
            "Covariance Type:                  opg                                         \n",
            "==============================================================================\n",
            "                 coef    std err          z      P>|z|      [0.025      0.975]\n",
            "------------------------------------------------------------------------------\n",
            "ar.L1          0.3553      0.165      2.156      0.031       0.032       0.678\n",
            "ma.L1         -0.3871      0.165     -2.350      0.019      -0.710      -0.064\n",
            "ma.L2         -0.0127      0.008     -1.587      0.112      -0.028       0.003\n",
            "ma.L3         -0.0054      0.007     -0.757      0.449      -0.020       0.009\n",
            "ma.L4          0.0478      0.007      7.304      0.000       0.035       0.061\n",
            "ma.L5         -0.0458      0.007     -6.882      0.000      -0.059      -0.033\n",
            "sigma2         1.4902      0.009    166.837      0.000       1.473       1.508\n",
            "===================================================================================\n",
            "Ljung-Box (L1) (Q):                   0.00   Jarque-Bera (JB):             61867.73\n",
            "Prob(Q):                              1.00   Prob(JB):                         0.00\n",
            "Heteroskedasticity (H):              10.15   Skew:                            -0.79\n",
            "Prob(H) (two-sided):                  0.00   Kurtosis:                        15.90\n",
            "===================================================================================\n",
            "\n",
            "Warnings:\n",
            "[1] Covariance matrix calculated using the outer product of gradients (complex-step).\n",
            "####################################################################################################\n",
            "ARIMA(2,1,1)\n",
            "                               SARIMAX Results                                \n",
            "==============================================================================\n",
            "Dep. Variable:                  Close   No. Observations:                 8792\n",
            "Model:                 ARIMA(2, 1, 1)   Log Likelihood              -14239.889\n",
            "Date:                Tue, 27 Dec 2022   AIC                          28487.779\n",
            "Time:                        16:39:33   BIC                          28516.105\n",
            "Sample:                             0   HQIC                         28497.429\n",
            "                               - 8792                                         \n",
            "Covariance Type:                  opg                                         \n",
            "==============================================================================\n",
            "                 coef    std err          z      P>|z|      [0.025      0.975]\n",
            "------------------------------------------------------------------------------\n",
            "ar.L1          0.1318      0.195      0.677      0.498      -0.250       0.513\n",
            "ar.L2         -0.0214      0.009     -2.333      0.020      -0.039      -0.003\n",
            "ma.L1         -0.1647      0.194     -0.849      0.396      -0.545       0.216\n",
            "sigma2         1.4943      0.008    178.392      0.000       1.478       1.511\n",
            "===================================================================================\n",
            "Ljung-Box (L1) (Q):                   0.00   Jarque-Bera (JB):             67286.81\n",
            "Prob(Q):                              0.99   Prob(JB):                         0.00\n",
            "Heteroskedasticity (H):              10.19   Skew:                            -0.82\n",
            "Prob(H) (two-sided):                  0.00   Kurtosis:                        16.45\n",
            "===================================================================================\n",
            "\n",
            "Warnings:\n",
            "[1] Covariance matrix calculated using the outer product of gradients (complex-step).\n",
            "####################################################################################################\n",
            "ARIMA(2,1,2)\n",
            "                               SARIMAX Results                                \n",
            "==============================================================================\n",
            "Dep. Variable:                  Close   No. Observations:                 8792\n",
            "Model:                 ARIMA(2, 1, 2)   Log Likelihood              -14238.288\n",
            "Date:                Tue, 27 Dec 2022   AIC                          28486.576\n",
            "Time:                        16:39:39   BIC                          28521.983\n",
            "Sample:                             0   HQIC                         28498.638\n",
            "                               - 8792                                         \n",
            "Covariance Type:                  opg                                         \n",
            "==============================================================================\n",
            "                 coef    std err          z      P>|z|      [0.025      0.975]\n",
            "------------------------------------------------------------------------------\n",
            "ar.L1         -0.3506      0.137     -2.558      0.011      -0.619      -0.082\n",
            "ar.L2          0.5008      0.108      4.653      0.000       0.290       0.712\n",
            "ma.L1          0.3123      0.135      2.322      0.020       0.049       0.576\n",
            "ma.L2         -0.5198      0.103     -5.057      0.000      -0.721      -0.318\n",
            "sigma2         1.4939      0.009    172.925      0.000       1.477       1.511\n",
            "===================================================================================\n",
            "Ljung-Box (L1) (Q):                   0.32   Jarque-Bera (JB):             65617.30\n",
            "Prob(Q):                              0.57   Prob(JB):                         0.00\n",
            "Heteroskedasticity (H):              10.19   Skew:                            -0.81\n",
            "Prob(H) (two-sided):                  0.00   Kurtosis:                        16.29\n",
            "===================================================================================\n",
            "\n",
            "Warnings:\n",
            "[1] Covariance matrix calculated using the outer product of gradients (complex-step).\n",
            "####################################################################################################\n",
            "ARIMA(2,1,3)\n",
            "                               SARIMAX Results                                \n",
            "==============================================================================\n",
            "Dep. Variable:                  Close   No. Observations:                 8792\n",
            "Model:                 ARIMA(2, 1, 3)   Log Likelihood              -14226.792\n",
            "Date:                Tue, 27 Dec 2022   AIC                          28465.583\n",
            "Time:                        16:39:45   BIC                          28508.072\n",
            "Sample:                             0   HQIC                         28480.058\n",
            "                               - 8792                                         \n",
            "Covariance Type:                  opg                                         \n",
            "==============================================================================\n",
            "                 coef    std err          z      P>|z|      [0.025      0.975]\n",
            "------------------------------------------------------------------------------\n",
            "ar.L1         -1.0670      0.048    -22.073      0.000      -1.162      -0.972\n",
            "ar.L2         -0.6865      0.048    -14.439      0.000      -0.780      -0.593\n",
            "ma.L1          1.0359      0.048     21.677      0.000       0.942       1.130\n",
            "ma.L2          0.6299      0.047     13.350      0.000       0.537       0.722\n",
            "ma.L3         -0.0657      0.005    -12.081      0.000      -0.076      -0.055\n",
            "sigma2         1.4900      0.009    169.857      0.000       1.473       1.507\n",
            "===================================================================================\n",
            "Ljung-Box (L1) (Q):                   0.00   Jarque-Bera (JB):             63092.92\n",
            "Prob(Q):                              1.00   Prob(JB):                         0.00\n",
            "Heteroskedasticity (H):              10.17   Skew:                            -0.80\n",
            "Prob(H) (two-sided):                  0.00   Kurtosis:                        16.03\n",
            "===================================================================================\n",
            "\n",
            "Warnings:\n",
            "[1] Covariance matrix calculated using the outer product of gradients (complex-step).\n",
            "####################################################################################################\n",
            "ARIMA(2,1,4)\n",
            "                               SARIMAX Results                                \n",
            "==============================================================================\n",
            "Dep. Variable:                  Close   No. Observations:                 8792\n",
            "Model:                 ARIMA(2, 1, 4)   Log Likelihood              -14226.786\n",
            "Date:                Tue, 27 Dec 2022   AIC                          28467.572\n",
            "Time:                        16:39:52   BIC                          28517.142\n",
            "Sample:                             0   HQIC                         28484.459\n",
            "                               - 8792                                         \n",
            "Covariance Type:                  opg                                         \n",
            "==============================================================================\n",
            "                 coef    std err          z      P>|z|      [0.025      0.975]\n",
            "------------------------------------------------------------------------------\n",
            "ar.L1         -1.0811      0.071    -15.137      0.000      -1.221      -0.941\n",
            "ar.L2         -0.6974      0.056    -12.366      0.000      -0.808      -0.587\n",
            "ma.L1          1.0501      0.071     14.719      0.000       0.910       1.190\n",
            "ma.L2          0.6400      0.054     11.812      0.000       0.534       0.746\n",
            "ma.L3         -0.0670      0.009     -7.817      0.000      -0.084      -0.050\n",
            "ma.L4         -0.0017      0.008     -0.215      0.830      -0.017       0.014\n",
            "sigma2         1.4900      0.009    169.791      0.000       1.473       1.507\n",
            "===================================================================================\n",
            "Ljung-Box (L1) (Q):                   0.00   Jarque-Bera (JB):             63128.10\n",
            "Prob(Q):                              1.00   Prob(JB):                         0.00\n",
            "Heteroskedasticity (H):              10.17   Skew:                            -0.80\n",
            "Prob(H) (two-sided):                  0.00   Kurtosis:                        16.03\n",
            "===================================================================================\n",
            "\n",
            "Warnings:\n",
            "[1] Covariance matrix calculated using the outer product of gradients (complex-step).\n",
            "####################################################################################################\n",
            "ARIMA(2,1,5)\n",
            "                               SARIMAX Results                                \n",
            "==============================================================================\n",
            "Dep. Variable:                  Close   No. Observations:                 8792\n",
            "Model:                 ARIMA(2, 1, 5)   Log Likelihood              -14227.214\n",
            "Date:                Tue, 27 Dec 2022   AIC                          28470.428\n",
            "Time:                        16:39:56   BIC                          28527.080\n",
            "Sample:                             0   HQIC                         28489.728\n",
            "                               - 8792                                         \n",
            "Covariance Type:                  opg                                         \n",
            "==============================================================================\n",
            "                 coef    std err          z      P>|z|      [0.025      0.975]\n",
            "------------------------------------------------------------------------------\n",
            "ar.L1          0.3003      0.181      1.663      0.096      -0.054       0.654\n",
            "ar.L2         -0.0651      0.125     -0.520      0.603      -0.310       0.180\n",
            "ma.L1         -0.3321      0.180     -1.840      0.066      -0.686       0.022\n",
            "ma.L2          0.0504      0.124      0.407      0.684      -0.192       0.293\n",
            "ma.L3         -0.0089      0.009     -0.984      0.325      -0.027       0.009\n",
            "ma.L4          0.0456      0.008      5.830      0.000       0.030       0.061\n",
            "ma.L5         -0.0446      0.007     -6.279      0.000      -0.059      -0.031\n",
            "sigma2         1.4901      0.009    166.835      0.000       1.473       1.508\n",
            "===================================================================================\n",
            "Ljung-Box (L1) (Q):                   0.00   Jarque-Bera (JB):             61835.04\n",
            "Prob(Q):                              1.00   Prob(JB):                         0.00\n",
            "Heteroskedasticity (H):              10.15   Skew:                            -0.79\n",
            "Prob(H) (two-sided):                  0.00   Kurtosis:                        15.90\n",
            "===================================================================================\n",
            "\n",
            "Warnings:\n",
            "[1] Covariance matrix calculated using the outer product of gradients (complex-step).\n",
            "####################################################################################################\n",
            "ARIMA(3,1,1)\n",
            "                               SARIMAX Results                                \n",
            "==============================================================================\n",
            "Dep. Variable:                  Close   No. Observations:                 8792\n",
            "Model:                 ARIMA(3, 1, 1)   Log Likelihood              -14233.400\n",
            "Date:                Tue, 27 Dec 2022   AIC                          28476.801\n",
            "Time:                        16:39:59   BIC                          28512.208\n",
            "Sample:                             0   HQIC                         28488.863\n",
            "                               - 8792                                         \n",
            "Covariance Type:                  opg                                         \n",
            "==============================================================================\n",
            "                 coef    std err          z      P>|z|      [0.025      0.975]\n",
            "------------------------------------------------------------------------------\n",
            "ar.L1         -0.8066      0.057    -14.157      0.000      -0.918      -0.695\n",
            "ar.L2         -0.0520      0.007     -7.374      0.000      -0.066      -0.038\n",
            "ar.L3         -0.0448      0.005     -9.056      0.000      -0.055      -0.035\n",
            "ma.L1          0.7744      0.057     13.616      0.000       0.663       0.886\n",
            "sigma2         1.4923      0.009    174.169      0.000       1.475       1.509\n",
            "===================================================================================\n",
            "Ljung-Box (L1) (Q):                   0.00   Jarque-Bera (JB):             64350.12\n",
            "Prob(Q):                              0.96   Prob(JB):                         0.00\n",
            "Heteroskedasticity (H):              10.16   Skew:                            -0.80\n",
            "Prob(H) (two-sided):                  0.00   Kurtosis:                        16.16\n",
            "===================================================================================\n",
            "\n",
            "Warnings:\n",
            "[1] Covariance matrix calculated using the outer product of gradients (complex-step).\n",
            "####################################################################################################\n",
            "ARIMA(3,1,2)\n",
            "                               SARIMAX Results                                \n",
            "==============================================================================\n",
            "Dep. Variable:                  Close   No. Observations:                 8792\n",
            "Model:                 ARIMA(3, 1, 2)   Log Likelihood              -14226.900\n",
            "Date:                Tue, 27 Dec 2022   AIC                          28465.799\n",
            "Time:                        16:40:03   BIC                          28508.288\n",
            "Sample:                             0   HQIC                         28480.274\n",
            "                               - 8792                                         \n",
            "Covariance Type:                  opg                                         \n",
            "==============================================================================\n",
            "                 coef    std err          z      P>|z|      [0.025      0.975]\n",
            "------------------------------------------------------------------------------\n",
            "ar.L1         -1.0933      0.051    -21.337      0.000      -1.194      -0.993\n",
            "ar.L2         -0.7367      0.050    -14.788      0.000      -0.834      -0.639\n",
            "ar.L3         -0.0658      0.005    -12.227      0.000      -0.076      -0.055\n",
            "ma.L1          1.0623      0.051     20.901      0.000       0.963       1.162\n",
            "ma.L2          0.6799      0.049     13.860      0.000       0.584       0.776\n",
            "sigma2         1.4900      0.009    170.222      0.000       1.473       1.507\n",
            "===================================================================================\n",
            "Ljung-Box (L1) (Q):                   0.00   Jarque-Bera (JB):             63002.49\n",
            "Prob(Q):                              0.98   Prob(JB):                         0.00\n",
            "Heteroskedasticity (H):              10.16   Skew:                            -0.80\n",
            "Prob(H) (two-sided):                  0.00   Kurtosis:                        16.02\n",
            "===================================================================================\n",
            "\n",
            "Warnings:\n",
            "[1] Covariance matrix calculated using the outer product of gradients (complex-step).\n",
            "####################################################################################################\n",
            "ARIMA(3,1,3)\n",
            "                               SARIMAX Results                                \n",
            "==============================================================================\n",
            "Dep. Variable:                  Close   No. Observations:                 8792\n",
            "Model:                 ARIMA(3, 1, 3)   Log Likelihood              -14226.789\n",
            "Date:                Tue, 27 Dec 2022   AIC                          28467.577\n",
            "Time:                        16:40:10   BIC                          28517.148\n",
            "Sample:                             0   HQIC                         28484.465\n",
            "                               - 8792                                         \n",
            "Covariance Type:                  opg                                         \n",
            "==============================================================================\n",
            "                 coef    std err          z      P>|z|      [0.025      0.975]\n",
            "------------------------------------------------------------------------------\n",
            "ar.L1         -1.0567      0.081    -12.987      0.000      -1.216      -0.897\n",
            "ar.L2         -0.6722      0.107     -6.281      0.000      -0.882      -0.462\n",
            "ar.L3          0.0156      0.083      0.188      0.851      -0.147       0.178\n",
            "ma.L1          1.0256      0.081     12.724      0.000       0.868       1.184\n",
            "ma.L2          0.6156      0.107      5.776      0.000       0.407       0.824\n",
            "ma.L3         -0.0811      0.083     -0.979      0.328      -0.243       0.081\n",
            "sigma2         1.4900      0.009    169.806      0.000       1.473       1.507\n",
            "===================================================================================\n",
            "Ljung-Box (L1) (Q):                   0.00   Jarque-Bera (JB):             63127.53\n",
            "Prob(Q):                              1.00   Prob(JB):                         0.00\n",
            "Heteroskedasticity (H):              10.17   Skew:                            -0.80\n",
            "Prob(H) (two-sided):                  0.00   Kurtosis:                        16.03\n",
            "===================================================================================\n",
            "\n",
            "Warnings:\n",
            "[1] Covariance matrix calculated using the outer product of gradients (complex-step).\n",
            "####################################################################################################\n",
            "ARIMA(3,1,4)\n",
            "                               SARIMAX Results                                \n",
            "==============================================================================\n",
            "Dep. Variable:                  Close   No. Observations:                 8792\n",
            "Model:                 ARIMA(3, 1, 4)   Log Likelihood              -14226.792\n",
            "Date:                Tue, 27 Dec 2022   AIC                          28469.583\n",
            "Time:                        16:40:16   BIC                          28526.235\n",
            "Sample:                             0   HQIC                         28488.883\n",
            "                               - 8792                                         \n",
            "Covariance Type:                  opg                                         \n",
            "==============================================================================\n",
            "                 coef    std err          z      P>|z|      [0.025      0.975]\n",
            "------------------------------------------------------------------------------\n",
            "ar.L1         -0.3988     13.878     -0.029      0.977     -27.598      26.801\n",
            "ar.L2          0.0256     14.812      0.002      0.999     -29.006      29.057\n",
            "ar.L3          0.4570      9.533      0.048      0.962     -18.228      19.142\n",
            "ma.L1          0.3677     13.878      0.026      0.979     -26.832      27.568\n",
            "ma.L2         -0.0614     14.382     -0.004      0.997     -28.250      28.127\n",
            "ma.L3         -0.4847      8.749     -0.055      0.956     -17.633      16.663\n",
            "ma.L4          0.0440      0.909      0.048      0.961      -1.739       1.827\n",
            "sigma2         1.4900      0.009    166.022      0.000       1.472       1.508\n",
            "===================================================================================\n",
            "Ljung-Box (L1) (Q):                   0.00   Jarque-Bera (JB):             63105.19\n",
            "Prob(Q):                              1.00   Prob(JB):                         0.00\n",
            "Heteroskedasticity (H):              10.17   Skew:                            -0.80\n",
            "Prob(H) (two-sided):                  0.00   Kurtosis:                        16.03\n",
            "===================================================================================\n",
            "\n",
            "Warnings:\n",
            "[1] Covariance matrix calculated using the outer product of gradients (complex-step).\n",
            "####################################################################################################\n",
            "ARIMA(3,1,5)\n",
            "                               SARIMAX Results                                \n",
            "==============================================================================\n",
            "Dep. Variable:                  Close   No. Observations:                 8792\n",
            "Model:                 ARIMA(3, 1, 5)   Log Likelihood              -14225.302\n",
            "Date:                Tue, 27 Dec 2022   AIC                          28468.605\n",
            "Time:                        16:40:30   BIC                          28532.338\n",
            "Sample:                             0   HQIC                         28490.317\n",
            "                               - 8792                                         \n",
            "Covariance Type:                  opg                                         \n",
            "==============================================================================\n",
            "                 coef    std err          z      P>|z|      [0.025      0.975]\n",
            "------------------------------------------------------------------------------\n",
            "ar.L1         -0.2525      0.060     -4.216      0.000      -0.370      -0.135\n",
            "ar.L2          0.2468      0.056      4.373      0.000       0.136       0.357\n",
            "ar.L3          0.7877      0.049     16.156      0.000       0.692       0.883\n",
            "ma.L1          0.2250      0.060      3.746      0.000       0.107       0.343\n",
            "ma.L2         -0.2799      0.055     -5.069      0.000      -0.388      -0.172\n",
            "ma.L3         -0.8003      0.047    -16.849      0.000      -0.893      -0.707\n",
            "ma.L4          0.0607      0.006      9.503      0.000       0.048       0.073\n",
            "ma.L5          0.0186      0.007      2.849      0.004       0.006       0.031\n",
            "sigma2         1.4883      0.009    169.066      0.000       1.471       1.506\n",
            "===================================================================================\n",
            "Ljung-Box (L1) (Q):                   0.15   Jarque-Bera (JB):             65248.66\n",
            "Prob(Q):                              0.69   Prob(JB):                         0.00\n",
            "Heteroskedasticity (H):              10.16   Skew:                            -0.80\n",
            "Prob(H) (two-sided):                  0.00   Kurtosis:                        16.25\n",
            "===================================================================================\n",
            "\n",
            "Warnings:\n",
            "[1] Covariance matrix calculated using the outer product of gradients (complex-step).\n",
            "####################################################################################################\n",
            "ARIMA(4,1,1)\n",
            "                               SARIMAX Results                                \n",
            "==============================================================================\n",
            "Dep. Variable:                  Close   No. Observations:                 8792\n",
            "Model:                 ARIMA(4, 1, 1)   Log Likelihood              -14229.945\n",
            "Date:                Tue, 27 Dec 2022   AIC                          28471.890\n",
            "Time:                        16:40:32   BIC                          28514.379\n",
            "Sample:                             0   HQIC                         28486.365\n",
            "                               - 8792                                         \n",
            "Covariance Type:                  opg                                         \n",
            "==============================================================================\n",
            "                 coef    std err          z      P>|z|      [0.025      0.975]\n",
            "------------------------------------------------------------------------------\n",
            "ar.L1         -0.3666      0.111     -3.311      0.001      -0.584      -0.150\n",
            "ar.L2         -0.0363      0.007     -5.368      0.000      -0.050      -0.023\n",
            "ar.L3         -0.0226      0.006     -3.714      0.000      -0.034      -0.011\n",
            "ar.L4          0.0380      0.006      5.870      0.000       0.025       0.051\n",
            "ma.L1          0.3348      0.111      3.004      0.003       0.116       0.553\n",
            "sigma2         1.4911      0.009    173.291      0.000       1.474       1.508\n",
            "===================================================================================\n",
            "Ljung-Box (L1) (Q):                   0.00   Jarque-Bera (JB):             64088.10\n",
            "Prob(Q):                              0.98   Prob(JB):                         0.00\n",
            "Heteroskedasticity (H):              10.13   Skew:                            -0.79\n",
            "Prob(H) (two-sided):                  0.00   Kurtosis:                        16.13\n",
            "===================================================================================\n",
            "\n",
            "Warnings:\n",
            "[1] Covariance matrix calculated using the outer product of gradients (complex-step).\n",
            "####################################################################################################\n",
            "ARIMA(4,1,2)\n",
            "                               SARIMAX Results                                \n",
            "==============================================================================\n",
            "Dep. Variable:                  Close   No. Observations:                 8792\n",
            "Model:                 ARIMA(4, 1, 2)   Log Likelihood              -14226.709\n",
            "Date:                Tue, 27 Dec 2022   AIC                          28467.419\n",
            "Time:                        16:40:38   BIC                          28516.989\n",
            "Sample:                             0   HQIC                         28484.306\n",
            "                               - 8792                                         \n",
            "Covariance Type:                  opg                                         \n",
            "==============================================================================\n",
            "                 coef    std err          z      P>|z|      [0.025      0.975]\n",
            "------------------------------------------------------------------------------\n",
            "ar.L1         -1.1862      0.063    -18.898      0.000      -1.309      -1.063\n",
            "ar.L2         -0.8145      0.053    -15.437      0.000      -0.918      -0.711\n",
            "ar.L3         -0.0745      0.009     -8.232      0.000      -0.092      -0.057\n",
            "ar.L4         -0.0102      0.007     -1.388      0.165      -0.025       0.004\n",
            "ma.L1          1.1551      0.062     18.600      0.000       1.033       1.277\n",
            "ma.L2          0.7528      0.050     15.205      0.000       0.656       0.850\n",
            "sigma2         1.4900      0.009    169.779      0.000       1.473       1.507\n",
            "===================================================================================\n",
            "Ljung-Box (L1) (Q):                   0.00   Jarque-Bera (JB):             63179.15\n",
            "Prob(Q):                              1.00   Prob(JB):                         0.00\n",
            "Heteroskedasticity (H):              10.17   Skew:                            -0.80\n",
            "Prob(H) (two-sided):                  0.00   Kurtosis:                        16.04\n",
            "===================================================================================\n",
            "\n",
            "Warnings:\n",
            "[1] Covariance matrix calculated using the outer product of gradients (complex-step).\n",
            "####################################################################################################\n",
            "ARIMA(4,1,3)\n",
            "                               SARIMAX Results                                \n",
            "==============================================================================\n",
            "Dep. Variable:                  Close   No. Observations:                 8792\n",
            "Model:                 ARIMA(4, 1, 3)   Log Likelihood              -14222.793\n",
            "Date:                Tue, 27 Dec 2022   AIC                          28461.586\n",
            "Time:                        16:40:49   BIC                          28518.238\n",
            "Sample:                             0   HQIC                         28480.886\n",
            "                               - 8792                                         \n",
            "Covariance Type:                  opg                                         \n",
            "==============================================================================\n",
            "                 coef    std err          z      P>|z|      [0.025      0.975]\n",
            "------------------------------------------------------------------------------\n",
            "ar.L1         -0.0601      0.055     -1.084      0.278      -0.169       0.049\n",
            "ar.L2          0.3168      0.054      5.917      0.000       0.212       0.422\n",
            "ar.L3          0.5984      0.054     11.122      0.000       0.493       0.704\n",
            "ar.L4          0.0727      0.006     13.002      0.000       0.062       0.084\n",
            "ma.L1          0.0291      0.055      0.525      0.600      -0.079       0.138\n",
            "ma.L2         -0.3401      0.054     -6.311      0.000      -0.446      -0.234\n",
            "ma.L3         -0.6015      0.054    -11.122      0.000      -0.707      -0.495\n",
            "sigma2         1.4889      0.009    169.621      0.000       1.472       1.506\n",
            "===================================================================================\n",
            "Ljung-Box (L1) (Q):                   0.01   Jarque-Bera (JB):             64529.79\n",
            "Prob(Q):                              0.92   Prob(JB):                         0.00\n",
            "Heteroskedasticity (H):              10.14   Skew:                            -0.79\n",
            "Prob(H) (two-sided):                  0.00   Kurtosis:                        16.18\n",
            "===================================================================================\n",
            "\n",
            "Warnings:\n",
            "[1] Covariance matrix calculated using the outer product of gradients (complex-step).\n",
            "####################################################################################################\n",
            "ARIMA(4,1,4)\n",
            "                               SARIMAX Results                                \n",
            "==============================================================================\n",
            "Dep. Variable:                  Close   No. Observations:                 8792\n",
            "Model:                 ARIMA(4, 1, 4)   Log Likelihood              -14226.786\n",
            "Date:                Tue, 27 Dec 2022   AIC                          28471.573\n",
            "Time:                        16:40:57   BIC                          28535.306\n",
            "Sample:                             0   HQIC                         28493.285\n",
            "                               - 8792                                         \n",
            "Covariance Type:                  opg                                         \n",
            "==============================================================================\n",
            "                 coef    std err          z      P>|z|      [0.025      0.975]\n",
            "------------------------------------------------------------------------------\n",
            "ar.L1         -0.3901      4.884     -0.080      0.936      -9.962       9.181\n",
            "ar.L2          0.0289      5.232      0.006      0.996     -10.226      10.284\n",
            "ar.L3          0.4566      3.380      0.135      0.893      -6.169       7.082\n",
            "ar.L4         -0.0122      0.080     -0.152      0.879      -0.170       0.145\n",
            "ma.L1          0.3591      4.883      0.074      0.941      -9.212       9.930\n",
            "ma.L2         -0.0645      5.081     -0.013      0.990     -10.023       9.894\n",
            "ma.L3         -0.4841      3.104     -0.156      0.876      -6.568       5.600\n",
            "ma.L4          0.0563      0.315      0.179      0.858      -0.560       0.673\n",
            "sigma2         1.4900      0.009    165.923      0.000       1.472       1.508\n",
            "===================================================================================\n",
            "Ljung-Box (L1) (Q):                   0.00   Jarque-Bera (JB):             63166.62\n",
            "Prob(Q):                              0.99   Prob(JB):                         0.00\n",
            "Heteroskedasticity (H):              10.17   Skew:                            -0.80\n",
            "Prob(H) (two-sided):                  0.00   Kurtosis:                        16.03\n",
            "===================================================================================\n",
            "\n",
            "Warnings:\n",
            "[1] Covariance matrix calculated using the outer product of gradients (complex-step).\n",
            "####################################################################################################\n",
            "ARIMA(4,1,5)\n",
            "                               SARIMAX Results                                \n",
            "==============================================================================\n",
            "Dep. Variable:                  Close   No. Observations:                 8792\n",
            "Model:                 ARIMA(4, 1, 5)   Log Likelihood              -14216.139\n",
            "Date:                Tue, 27 Dec 2022   AIC                          28452.278\n",
            "Time:                        16:41:14   BIC                          28523.093\n",
            "Sample:                             0   HQIC                         28476.403\n",
            "                               - 8792                                         \n",
            "Covariance Type:                  opg                                         \n",
            "==============================================================================\n",
            "                 coef    std err          z      P>|z|      [0.025      0.975]\n",
            "------------------------------------------------------------------------------\n",
            "ar.L1          0.6211      0.041     15.086      0.000       0.540       0.702\n",
            "ar.L2          0.4715      0.021     22.182      0.000       0.430       0.513\n",
            "ar.L3          0.6884      0.022     31.149      0.000       0.645       0.732\n",
            "ar.L4         -0.8052      0.036    -22.496      0.000      -0.875      -0.735\n",
            "ma.L1         -0.6546      0.042    -15.499      0.000      -0.737      -0.572\n",
            "ma.L2         -0.4763      0.019    -25.160      0.000      -0.513      -0.439\n",
            "ma.L3         -0.6750      0.023    -29.965      0.000      -0.719      -0.631\n",
            "ma.L4          0.8615      0.036     24.114      0.000       0.791       0.931\n",
            "ma.L5         -0.0268      0.008     -3.211      0.001      -0.043      -0.010\n",
            "sigma2         1.4860      0.009    172.215      0.000       1.469       1.503\n",
            "===================================================================================\n",
            "Ljung-Box (L1) (Q):                   0.00   Jarque-Bera (JB):             64349.95\n",
            "Prob(Q):                              0.99   Prob(JB):                         0.00\n",
            "Heteroskedasticity (H):              10.20   Skew:                            -0.80\n",
            "Prob(H) (two-sided):                  0.00   Kurtosis:                        16.16\n",
            "===================================================================================\n",
            "\n",
            "Warnings:\n",
            "[1] Covariance matrix calculated using the outer product of gradients (complex-step).\n",
            "####################################################################################################\n",
            "ARIMA(5,1,1)\n",
            "                               SARIMAX Results                                \n",
            "==============================================================================\n",
            "Dep. Variable:                  Close   No. Observations:                 8792\n",
            "Model:                 ARIMA(5, 1, 1)   Log Likelihood              -14227.479\n",
            "Date:                Tue, 27 Dec 2022   AIC                          28468.957\n",
            "Time:                        16:41:17   BIC                          28518.528\n",
            "Sample:                             0   HQIC                         28485.845\n",
            "                               - 8792                                         \n",
            "Covariance Type:                  opg                                         \n",
            "==============================================================================\n",
            "                 coef    std err          z      P>|z|      [0.025      0.975]\n",
            "------------------------------------------------------------------------------\n",
            "ar.L1          0.3857      0.161      2.395      0.017       0.070       0.701\n",
            "ar.L2         -0.0122      0.008     -1.533      0.125      -0.028       0.003\n",
            "ar.L3         -0.0040      0.007     -0.556      0.578      -0.018       0.010\n",
            "ar.L4          0.0455      0.006      7.090      0.000       0.033       0.058\n",
            "ar.L5         -0.0457      0.006     -7.278      0.000      -0.058      -0.033\n",
            "ma.L1         -0.4174      0.161     -2.590      0.010      -0.733      -0.102\n",
            "sigma2         1.4902      0.009    167.445      0.000       1.473       1.508\n",
            "===================================================================================\n",
            "Ljung-Box (L1) (Q):                   0.00   Jarque-Bera (JB):             61930.57\n",
            "Prob(Q):                              0.99   Prob(JB):                         0.00\n",
            "Heteroskedasticity (H):              10.15   Skew:                            -0.79\n",
            "Prob(H) (two-sided):                  0.00   Kurtosis:                        15.91\n",
            "===================================================================================\n",
            "\n",
            "Warnings:\n",
            "[1] Covariance matrix calculated using the outer product of gradients (complex-step).\n",
            "####################################################################################################\n",
            "ARIMA(5,1,2)\n",
            "                               SARIMAX Results                                \n",
            "==============================================================================\n",
            "Dep. Variable:                  Close   No. Observations:                 8792\n",
            "Model:                 ARIMA(5, 1, 2)   Log Likelihood              -14227.461\n",
            "Date:                Tue, 27 Dec 2022   AIC                          28470.922\n",
            "Time:                        16:41:24   BIC                          28527.574\n",
            "Sample:                             0   HQIC                         28490.222\n",
            "                               - 8792                                         \n",
            "Covariance Type:                  opg                                         \n",
            "==============================================================================\n",
            "                 coef    std err          z      P>|z|      [0.025      0.975]\n",
            "------------------------------------------------------------------------------\n",
            "ar.L1          0.4043      0.160      2.527      0.011       0.091       0.718\n",
            "ar.L2         -0.0397      0.122     -0.326      0.744      -0.278       0.199\n",
            "ar.L3         -0.0045      0.008     -0.529      0.597      -0.021       0.012\n",
            "ar.L4          0.0450      0.008      5.907      0.000       0.030       0.060\n",
            "ar.L5         -0.0464      0.006     -7.470      0.000      -0.059      -0.034\n",
            "ma.L1         -0.4361      0.160     -2.724      0.006      -0.750      -0.122\n",
            "ma.L2          0.0282      0.122      0.231      0.817      -0.211       0.267\n",
            "sigma2         1.4902      0.009    167.438      0.000       1.473       1.508\n",
            "===================================================================================\n",
            "Ljung-Box (L1) (Q):                   0.00   Jarque-Bera (JB):             61897.81\n",
            "Prob(Q):                              1.00   Prob(JB):                         0.00\n",
            "Heteroskedasticity (H):              10.15   Skew:                            -0.79\n",
            "Prob(H) (two-sided):                  0.00   Kurtosis:                        15.90\n",
            "===================================================================================\n",
            "\n",
            "Warnings:\n",
            "[1] Covariance matrix calculated using the outer product of gradients (complex-step).\n",
            "####################################################################################################\n",
            "ARIMA(5,1,3)\n",
            "                               SARIMAX Results                                \n",
            "==============================================================================\n",
            "Dep. Variable:                  Close   No. Observations:                 8792\n",
            "Model:                 ARIMA(5, 1, 3)   Log Likelihood              -14223.008\n",
            "Date:                Tue, 27 Dec 2022   AIC                          28464.017\n",
            "Time:                        16:41:39   BIC                          28527.750\n",
            "Sample:                             0   HQIC                         28485.729\n",
            "                               - 8792                                         \n",
            "Covariance Type:                  opg                                         \n",
            "==============================================================================\n",
            "                 coef    std err          z      P>|z|      [0.025      0.975]\n",
            "------------------------------------------------------------------------------\n",
            "ar.L1         -0.3125      0.023    -13.324      0.000      -0.358      -0.266\n",
            "ar.L2          0.2398      0.021     11.620      0.000       0.199       0.280\n",
            "ar.L3          0.8924      0.020     44.517      0.000       0.853       0.932\n",
            "ar.L4          0.0662      0.006     10.335      0.000       0.054       0.079\n",
            "ar.L5          0.0245      0.006      4.088      0.000       0.013       0.036\n",
            "ma.L1          0.2787      0.023     12.252      0.000       0.234       0.323\n",
            "ma.L2         -0.2725      0.019    -14.298      0.000      -0.310      -0.235\n",
            "ma.L3         -0.8940      0.020    -45.264      0.000      -0.933      -0.855\n",
            "sigma2         1.4863      0.009    174.722      0.000       1.470       1.503\n",
            "===================================================================================\n",
            "Ljung-Box (L1) (Q):                   0.02   Jarque-Bera (JB):             67086.97\n",
            "Prob(Q):                              0.88   Prob(JB):                         0.00\n",
            "Heteroskedasticity (H):              10.14   Skew:                            -0.80\n",
            "Prob(H) (two-sided):                  0.00   Kurtosis:                        16.44\n",
            "===================================================================================\n",
            "\n",
            "Warnings:\n",
            "[1] Covariance matrix calculated using the outer product of gradients (complex-step).\n",
            "####################################################################################################\n",
            "ARIMA(5,1,4)\n",
            "                               SARIMAX Results                                \n",
            "==============================================================================\n",
            "Dep. Variable:                  Close   No. Observations:                 8792\n",
            "Model:                 ARIMA(5, 1, 4)   Log Likelihood              -14222.204\n",
            "Date:                Tue, 27 Dec 2022   AIC                          28464.408\n",
            "Time:                        16:41:53   BIC                          28535.223\n",
            "Sample:                             0   HQIC                         28488.533\n",
            "                               - 8792                                         \n",
            "Covariance Type:                  opg                                         \n",
            "==============================================================================\n",
            "                 coef    std err          z      P>|z|      [0.025      0.975]\n",
            "------------------------------------------------------------------------------\n",
            "ar.L1          0.4861      0.032     15.157      0.000       0.423       0.549\n",
            "ar.L2          0.3042      0.023     13.027      0.000       0.258       0.350\n",
            "ar.L3          0.5100      0.025     20.156      0.000       0.460       0.560\n",
            "ar.L4         -0.8385      0.025    -33.317      0.000      -0.888      -0.789\n",
            "ar.L5         -0.0538      0.007     -8.029      0.000      -0.067      -0.041\n",
            "ma.L1         -0.5236      0.032    -16.498      0.000      -0.586      -0.461\n",
            "ma.L2         -0.3006      0.022    -13.472      0.000      -0.344      -0.257\n",
            "ma.L3         -0.5027      0.025    -20.107      0.000      -0.552      -0.454\n",
            "ma.L4          0.8773      0.025     34.563      0.000       0.828       0.927\n",
            "sigma2         1.4961      0.009    171.280      0.000       1.479       1.513\n",
            "===================================================================================\n",
            "Ljung-Box (L1) (Q):                   0.22   Jarque-Bera (JB):             63425.58\n",
            "Prob(Q):                              0.64   Prob(JB):                         0.00\n",
            "Heteroskedasticity (H):              10.13   Skew:                            -0.80\n",
            "Prob(H) (two-sided):                  0.00   Kurtosis:                        16.06\n",
            "===================================================================================\n",
            "\n",
            "Warnings:\n",
            "[1] Covariance matrix calculated using the outer product of gradients (complex-step).\n",
            "####################################################################################################\n",
            "ARIMA(5,1,5)\n",
            "                               SARIMAX Results                                \n",
            "==============================================================================\n",
            "Dep. Variable:                  Close   No. Observations:                 8792\n",
            "Model:                 ARIMA(5, 1, 5)   Log Likelihood              -14224.617\n",
            "Date:                Tue, 27 Dec 2022   AIC                          28471.235\n",
            "Time:                        16:42:05   BIC                          28549.131\n",
            "Sample:                             0   HQIC                         28497.772\n",
            "                               - 8792                                         \n",
            "Covariance Type:                  opg                                         \n",
            "==============================================================================\n",
            "                 coef    std err          z      P>|z|      [0.025      0.975]\n",
            "------------------------------------------------------------------------------\n",
            "ar.L1          0.2180      0.206      1.060      0.289      -0.185       0.621\n",
            "ar.L2         -0.1221      0.163     -0.747      0.455      -0.442       0.198\n",
            "ar.L3          0.1847      0.165      1.116      0.264      -0.140       0.509\n",
            "ar.L4         -0.3605      0.147     -2.447      0.014      -0.649      -0.072\n",
            "ar.L5          0.1925      0.092      2.082      0.037       0.011       0.374\n",
            "ma.L1         -0.2502      0.205     -1.219      0.223      -0.652       0.152\n",
            "ma.L2          0.1057      0.160      0.661      0.508      -0.207       0.419\n",
            "ma.L3         -0.1965      0.161     -1.220      0.223      -0.512       0.119\n",
            "ma.L4          0.4075      0.144      2.828      0.005       0.125       0.690\n",
            "ma.L5         -0.2390      0.088     -2.705      0.007      -0.412      -0.066\n",
            "sigma2         1.4893      0.009    164.689      0.000       1.472       1.507\n",
            "===================================================================================\n",
            "Ljung-Box (L1) (Q):                   0.01   Jarque-Bera (JB):             62379.04\n",
            "Prob(Q):                              0.93   Prob(JB):                         0.00\n",
            "Heteroskedasticity (H):              10.16   Skew:                            -0.80\n",
            "Prob(H) (two-sided):                  0.00   Kurtosis:                        15.95\n",
            "===================================================================================\n",
            "\n",
            "Warnings:\n",
            "[1] Covariance matrix calculated using the outer product of gradients (complex-step).\n"
          ]
        },
        {
          "output_type": "execute_result",
          "data": {
            "text/plain": [
              "                    LL       AIC\n",
              "ARIMA(1,1,1) -14240.66  28487.31\n",
              "ARIMA(1,1,3) -14233.92  28477.84\n",
              "ARIMA(1,1,4) -14230.20  28472.40\n",
              "ARIMA(2,1,2) -14238.29  28486.58\n",
              "ARIMA(2,1,3) -14226.79  28465.58\n",
              "ARIMA(3,1,1) -14233.40  28476.80\n",
              "ARIMA(3,1,2) -14226.90  28465.80\n",
              "ARIMA(3,1,5) -14225.30  28468.60\n",
              "ARIMA(4,1,1) -14229.94  28471.89\n",
              "ARIMA(4,1,5) -14216.14  28452.28\n",
              "ARIMA(5,1,3) -14223.01  28464.02\n",
              "ARIMA(5,1,4) -14222.20  28464.41"
            ],
            "text/html": [
              "\n",
              "  <div id=\"df-3fcc9fd2-9121-4919-9e20-4534e623cddd\">\n",
              "    <div class=\"colab-df-container\">\n",
              "      <div>\n",
              "<style scoped>\n",
              "    .dataframe tbody tr th:only-of-type {\n",
              "        vertical-align: middle;\n",
              "    }\n",
              "\n",
              "    .dataframe tbody tr th {\n",
              "        vertical-align: top;\n",
              "    }\n",
              "\n",
              "    .dataframe thead th {\n",
              "        text-align: right;\n",
              "    }\n",
              "</style>\n",
              "<table border=\"1\" class=\"dataframe\">\n",
              "  <thead>\n",
              "    <tr style=\"text-align: right;\">\n",
              "      <th></th>\n",
              "      <th>LL</th>\n",
              "      <th>AIC</th>\n",
              "    </tr>\n",
              "  </thead>\n",
              "  <tbody>\n",
              "    <tr>\n",
              "      <th>ARIMA(1,1,1)</th>\n",
              "      <td>-14240.66</td>\n",
              "      <td>28487.31</td>\n",
              "    </tr>\n",
              "    <tr>\n",
              "      <th>ARIMA(1,1,3)</th>\n",
              "      <td>-14233.92</td>\n",
              "      <td>28477.84</td>\n",
              "    </tr>\n",
              "    <tr>\n",
              "      <th>ARIMA(1,1,4)</th>\n",
              "      <td>-14230.20</td>\n",
              "      <td>28472.40</td>\n",
              "    </tr>\n",
              "    <tr>\n",
              "      <th>ARIMA(2,1,2)</th>\n",
              "      <td>-14238.29</td>\n",
              "      <td>28486.58</td>\n",
              "    </tr>\n",
              "    <tr>\n",
              "      <th>ARIMA(2,1,3)</th>\n",
              "      <td>-14226.79</td>\n",
              "      <td>28465.58</td>\n",
              "    </tr>\n",
              "    <tr>\n",
              "      <th>ARIMA(3,1,1)</th>\n",
              "      <td>-14233.40</td>\n",
              "      <td>28476.80</td>\n",
              "    </tr>\n",
              "    <tr>\n",
              "      <th>ARIMA(3,1,2)</th>\n",
              "      <td>-14226.90</td>\n",
              "      <td>28465.80</td>\n",
              "    </tr>\n",
              "    <tr>\n",
              "      <th>ARIMA(3,1,5)</th>\n",
              "      <td>-14225.30</td>\n",
              "      <td>28468.60</td>\n",
              "    </tr>\n",
              "    <tr>\n",
              "      <th>ARIMA(4,1,1)</th>\n",
              "      <td>-14229.94</td>\n",
              "      <td>28471.89</td>\n",
              "    </tr>\n",
              "    <tr>\n",
              "      <th>ARIMA(4,1,5)</th>\n",
              "      <td>-14216.14</td>\n",
              "      <td>28452.28</td>\n",
              "    </tr>\n",
              "    <tr>\n",
              "      <th>ARIMA(5,1,3)</th>\n",
              "      <td>-14223.01</td>\n",
              "      <td>28464.02</td>\n",
              "    </tr>\n",
              "    <tr>\n",
              "      <th>ARIMA(5,1,4)</th>\n",
              "      <td>-14222.20</td>\n",
              "      <td>28464.41</td>\n",
              "    </tr>\n",
              "  </tbody>\n",
              "</table>\n",
              "</div>\n",
              "      <button class=\"colab-df-convert\" onclick=\"convertToInteractive('df-3fcc9fd2-9121-4919-9e20-4534e623cddd')\"\n",
              "              title=\"Convert this dataframe to an interactive table.\"\n",
              "              style=\"display:none;\">\n",
              "        \n",
              "  <svg xmlns=\"http://www.w3.org/2000/svg\" height=\"24px\"viewBox=\"0 0 24 24\"\n",
              "       width=\"24px\">\n",
              "    <path d=\"M0 0h24v24H0V0z\" fill=\"none\"/>\n",
              "    <path d=\"M18.56 5.44l.94 2.06.94-2.06 2.06-.94-2.06-.94-.94-2.06-.94 2.06-2.06.94zm-11 1L8.5 8.5l.94-2.06 2.06-.94-2.06-.94L8.5 2.5l-.94 2.06-2.06.94zm10 10l.94 2.06.94-2.06 2.06-.94-2.06-.94-.94-2.06-.94 2.06-2.06.94z\"/><path d=\"M17.41 7.96l-1.37-1.37c-.4-.4-.92-.59-1.43-.59-.52 0-1.04.2-1.43.59L10.3 9.45l-7.72 7.72c-.78.78-.78 2.05 0 2.83L4 21.41c.39.39.9.59 1.41.59.51 0 1.02-.2 1.41-.59l7.78-7.78 2.81-2.81c.8-.78.8-2.07 0-2.86zM5.41 20L4 18.59l7.72-7.72 1.47 1.35L5.41 20z\"/>\n",
              "  </svg>\n",
              "      </button>\n",
              "      \n",
              "  <style>\n",
              "    .colab-df-container {\n",
              "      display:flex;\n",
              "      flex-wrap:wrap;\n",
              "      gap: 12px;\n",
              "    }\n",
              "\n",
              "    .colab-df-convert {\n",
              "      background-color: #E8F0FE;\n",
              "      border: none;\n",
              "      border-radius: 50%;\n",
              "      cursor: pointer;\n",
              "      display: none;\n",
              "      fill: #1967D2;\n",
              "      height: 32px;\n",
              "      padding: 0 0 0 0;\n",
              "      width: 32px;\n",
              "    }\n",
              "\n",
              "    .colab-df-convert:hover {\n",
              "      background-color: #E2EBFA;\n",
              "      box-shadow: 0px 1px 2px rgba(60, 64, 67, 0.3), 0px 1px 3px 1px rgba(60, 64, 67, 0.15);\n",
              "      fill: #174EA6;\n",
              "    }\n",
              "\n",
              "    [theme=dark] .colab-df-convert {\n",
              "      background-color: #3B4455;\n",
              "      fill: #D2E3FC;\n",
              "    }\n",
              "\n",
              "    [theme=dark] .colab-df-convert:hover {\n",
              "      background-color: #434B5C;\n",
              "      box-shadow: 0px 1px 3px 1px rgba(0, 0, 0, 0.15);\n",
              "      filter: drop-shadow(0px 1px 2px rgba(0, 0, 0, 0.3));\n",
              "      fill: #FFFFFF;\n",
              "    }\n",
              "  </style>\n",
              "\n",
              "      <script>\n",
              "        const buttonEl =\n",
              "          document.querySelector('#df-3fcc9fd2-9121-4919-9e20-4534e623cddd button.colab-df-convert');\n",
              "        buttonEl.style.display =\n",
              "          google.colab.kernel.accessAllowed ? 'block' : 'none';\n",
              "\n",
              "        async function convertToInteractive(key) {\n",
              "          const element = document.querySelector('#df-3fcc9fd2-9121-4919-9e20-4534e623cddd');\n",
              "          const dataTable =\n",
              "            await google.colab.kernel.invokeFunction('convertToInteractive',\n",
              "                                                     [key], {});\n",
              "          if (!dataTable) return;\n",
              "\n",
              "          const docLinkHtml = 'Like what you see? Visit the ' +\n",
              "            '<a target=\"_blank\" href=https://colab.research.google.com/notebooks/data_table.ipynb>data table notebook</a>'\n",
              "            + ' to learn more about interactive tables.';\n",
              "          element.innerHTML = '';\n",
              "          dataTable['output_type'] = 'display_data';\n",
              "          await google.colab.output.renderOutput(dataTable, element);\n",
              "          const docLink = document.createElement('div');\n",
              "          docLink.innerHTML = docLinkHtml;\n",
              "          element.appendChild(docLink);\n",
              "        }\n",
              "      </script>\n",
              "    </div>\n",
              "  </div>\n",
              "  "
            ]
          },
          "metadata": {},
          "execution_count": 205
        }
      ],
      "source": [
        "models_lst, ll_lst, aic_lst = [], [], []\n",
        "for AR in range(1,6):\n",
        "  for MA in range(1,6):\n",
        "    globals()[f\"model_ar_{AR}_i_1_ma_{MA}\"] = ARIMA(brent.Close, order=(AR,1,MA))\n",
        "    globals()[f\"results_ar_{AR}_i_1_ma_{MA}\"] = globals()[f\"model_ar_{AR}_i_1_ma_{MA}\"].fit() # start_ar_lag = 5\n",
        "    if all(globals()[f\"results_ar_{AR}_i_1_ma_{MA}\"].pvalues<0.05):\n",
        "      models_lst.append(f\"ARIMA({AR},1,{MA})\")\n",
        "      ll_lst.append(globals()[f\"results_ar_{AR}_i_1_ma_{MA}\"].llf.round(2))\n",
        "      aic_lst.append(globals()[f\"results_ar_{AR}_i_1_ma_{MA}\"].aic.round(2))\n",
        "    print(\"#\"*100\")\n",
        "    print(f\"ARIMA({AR},1,{MA})\")\n",
        "    print(globals()[f\"results_ar_{AR}_i_1_ma_{MA}\"].summary())\n",
        "\n",
        "results_dict = {#\"model\":models_lst,\n",
        "                \"LL\": ll_lst,\n",
        "                \"AIC\": aic_lst}\n",
        "results_df = pd.DataFrame(results_dict, index = models_lst)\n",
        "results_df.sort_values(by = \"LL\", ascending = False)\n",
        "results_df "
      ]
    },
    {
      "cell_type": "markdown",
      "metadata": {
        "id": "e44n3qFJeX1t"
      },
      "source": [
        "Out of 25 models checked, 12 yielded all significant coefficients.\n",
        "\n",
        "We should set our focus on highest LL and lowest AIC hence ARIMA(4,1,5) seems to be a contender for our top choice.\n",
        "\n",
        "Before final verdict is given, Log-Likelihood tests will be conducted to check if extra complexity is justified."
      ]
    },
    {
      "cell_type": "code",
      "execution_count": null,
      "metadata": {
        "colab": {
          "base_uri": "https://localhost:8080/"
        },
        "id": "SbAnlDS2WLFO",
        "outputId": "3faabe47-cca6-4aba-fe10-03939f033921"
      },
      "outputs": [
        {
          "output_type": "stream",
          "name": "stdout",
          "text": [
            "\n",
            "LLR test p-value = 0.0\n"
          ]
        }
      ],
      "source": [
        "print(\"\\nLLR test p-value = \" + str(LLR_test( model_ar_1_i_1_ma_1, model_ar_4_i_1_ma_5, deg_of_fred = 7)))"
      ]
    },
    {
      "cell_type": "markdown",
      "metadata": {
        "id": "AQC09PRIXwC_"
      },
      "source": [
        "The result suggest that the choice should be made in favor of the more complex model of ARIMA(4,1,5) after all.\n",
        "\n",
        "Let's see residuals and the corresponding ACF plot."
      ]
    },
    {
      "cell_type": "code",
      "execution_count": null,
      "metadata": {
        "id": "XXQNBl1SYTR9"
      },
      "outputs": [],
      "source": [
        "brent[\"ARIMA_Residuals\"] = results_ar_4_i_1_ma_5.resid[1:]"
      ]
    },
    {
      "cell_type": "code",
      "execution_count": null,
      "metadata": {
        "colab": {
          "base_uri": "https://localhost:8080/"
        },
        "id": "D3DiGy6-YTR_",
        "outputId": "3cd0d5ff-ec2b-48a5-d5d9-3b528737f45d"
      },
      "outputs": [
        {
          "output_type": "execute_result",
          "data": {
            "text/plain": [
              "0.006424901170112709"
            ]
          },
          "metadata": {},
          "execution_count": 210
        }
      ],
      "source": [
        "brent.ARIMA_Residuals.mean()"
      ]
    },
    {
      "cell_type": "code",
      "execution_count": null,
      "metadata": {
        "colab": {
          "base_uri": "https://localhost:8080/"
        },
        "id": "nQsp9J7CYTSB",
        "outputId": "ce9f228a-dd02-40b1-94c1-6eb0c386cc50"
      },
      "outputs": [
        {
          "output_type": "execute_result",
          "data": {
            "text/plain": [
              "1.4865298416444301"
            ]
          },
          "metadata": {},
          "execution_count": 211
        }
      ],
      "source": [
        "brent.ARIMA_Residuals.var()"
      ]
    },
    {
      "cell_type": "code",
      "execution_count": null,
      "metadata": {
        "colab": {
          "base_uri": "https://localhost:8080/"
        },
        "id": "V0jRkxorYTSC",
        "outputId": "f529f03c-51bf-4bdc-aa94-a2b0506e0a2f"
      },
      "outputs": [
        {
          "output_type": "execute_result",
          "data": {
            "text/plain": [
              "(-22.238060480240275,\n",
              " 0.0,\n",
              " 17,\n",
              " 8773,\n",
              " {'1%': -3.431095607477787,\n",
              "  '5%': -2.861869509077551,\n",
              "  '10%': -2.566945392703401},\n",
              " 28339.267440444066)"
            ]
          },
          "metadata": {},
          "execution_count": 212
        }
      ],
      "source": [
        "sts.adfuller(brent.ARIMA_Residuals[1:])"
      ]
    },
    {
      "cell_type": "markdown",
      "metadata": {
        "id": "xSeqLBtAYTSD"
      },
      "source": [
        "Mean of Residuals close to zero, reasonable variance and confirmation of stationarity allows us to assume white noise characteristics. Now time to plot ACF and examine the coefficients... "
      ]
    },
    {
      "cell_type": "code",
      "execution_count": null,
      "metadata": {
        "colab": {
          "base_uri": "https://localhost:8080/",
          "height": 339
        },
        "id": "YhHjPdTbdUdx",
        "outputId": "f89c32e4-61ec-4cda-dfbe-aa474f03dcc2"
      },
      "outputs": [
        {
          "output_type": "display_data",
          "data": {
            "text/plain": [
              "<Figure size 1080x360 with 2 Axes>"
            ],
            "image/png": "[encoded data removed]"
          },
          "metadata": {}
        }
      ],
      "source": [
        "f = plt.figure(figsize = (15,5))\n",
        "ax1, ax2 = f.add_subplot(121), f.add_subplot(122)\n",
        "plot_acf(brent.ARIMA_Residuals[1:], zero=False, lags=40, ax = ax1)\n",
        "ax1.set_title(\"ACF of Residuals of ARIMA(4,1,5)\")\n",
        "ax1.set_ylim(-0.05, 0.05)\n",
        "ax2.plot(brent.ARIMA_Residuals)\n",
        "ax2.set_title(\"Residuals of ARIMA(4,1,5)\")\n",
        "plt.show();"
      ]
    },
    {
      "cell_type": "markdown",
      "metadata": {
        "id": "7dLhzLPoYTSF"
      },
      "source": [
        "**ACF** - surprisingly coefficient at lag 4 is still significant. All other till lag 12 are not. Coefficients at more distant lags should be ignored as a) their relevance diminishes b) adding complexity to the model would put us at risk of overfitting to the data and loosing forecasting capacity for unseen data. \n",
        "\n",
        "**Residuals** - unsurprisingly we observe elevetaed volatility around 1) financial crisis 2) Arab spring 3) Covid pandemic 4) war in Ukraine. Overall, claim of white noise characteristic is justified as ADF test confirmed its stationarity)."
      ]
    },
    {
      "cell_type": "markdown",
      "metadata": {
        "id": "mZkylzCSjVp4"
      },
      "source": [
        "**Auto ARIMA**\n",
        "\n",
        "The solution saves time, removes ambiguity and reduces risk of human error but comes at a cost of loosing insight into how well some other models perform. Let's try it anyway..."
      ]
    },
    {
      "cell_type": "code",
      "execution_count": null,
      "metadata": {
        "id": "O6hhpgXbdTlp"
      },
      "outputs": [],
      "source": [
        "model_auto = auto_arima(brent.Close[1:], m=5, max_order = None,\n",
        "                        max_p = 5, max_q = 5, max_d=1,\n",
        "                        max_P = 1, max_Q = 1, max_D=1,\n",
        "                        maxiter = 25, alpha = 0.05, n_jobs = -1, trend = \"ct\")"
      ]
    },
    {
      "cell_type": "code",
      "execution_count": null,
      "metadata": {
        "colab": {
          "base_uri": "https://localhost:8080/",
          "height": 549
        },
        "id": "ZKRk-ZullO_P",
        "outputId": "0909aeb3-64c5-48d9-e3e3-0f25153a0335"
      },
      "outputs": [
        {
          "data": {
            "text/html": [
              "<table class=\"simpletable\">\n",
              "<caption>SARIMAX Results</caption>\n",
              "<tr>\n",
              "  <th>Dep. Variable:</th>           <td>y</td>        <th>  No. Observations:  </th>    <td>8791</td>   \n",
              "</tr>\n",
              "<tr>\n",
              "  <th>Model:</th>           <td>SARIMAX(2, 1, 4)</td> <th>  Log Likelihood     </th> <td>-14227.631</td>\n",
              "</tr>\n",
              "<tr>\n",
              "  <th>Date:</th>            <td>Mon, 12 Dec 2022</td> <th>  AIC                </th>  <td>28473.263</td>\n",
              "</tr>\n",
              "<tr>\n",
              "  <th>Time:</th>                <td>09:54:49</td>     <th>  BIC                </th>  <td>28536.995</td>\n",
              "</tr>\n",
              "<tr>\n",
              "  <th>Sample:</th>                  <td>0</td>        <th>  HQIC               </th>  <td>28494.975</td>\n",
              "</tr>\n",
              "<tr>\n",
              "  <th></th>                      <td> - 8791</td>     <th>                     </th>      <td> </td>    \n",
              "</tr>\n",
              "<tr>\n",
              "  <th>Covariance Type:</th>        <td>opg</td>       <th>                     </th>      <td> </td>    \n",
              "</tr>\n",
              "</table>\n",
              "<table class=\"simpletable\">\n",
              "<tr>\n",
              "      <td></td>         <th>coef</th>     <th>std err</th>      <th>z</th>      <th>P>|z|</th>  <th>[0.025</th>    <th>0.975]</th>  \n",
              "</tr>\n",
              "<tr>\n",
              "  <th>intercept</th> <td>    0.0087</td> <td>    0.068</td> <td>    0.128</td> <td> 0.898</td> <td>   -0.124</td> <td>    0.142</td>\n",
              "</tr>\n",
              "<tr>\n",
              "  <th>drift</th>     <td>-1.024e-07</td> <td> 1.05e-05</td> <td>   -0.010</td> <td> 0.992</td> <td>-2.06e-05</td> <td> 2.04e-05</td>\n",
              "</tr>\n",
              "<tr>\n",
              "  <th>ar.L1</th>     <td>   -0.3907</td> <td>    0.146</td> <td>   -2.672</td> <td> 0.008</td> <td>   -0.677</td> <td>   -0.104</td>\n",
              "</tr>\n",
              "<tr>\n",
              "  <th>ar.L2</th>     <td>   -0.2390</td> <td>    0.135</td> <td>   -1.764</td> <td> 0.078</td> <td>   -0.504</td> <td>    0.027</td>\n",
              "</tr>\n",
              "<tr>\n",
              "  <th>ma.L1</th>     <td>    0.3589</td> <td>    0.146</td> <td>    2.450</td> <td> 0.014</td> <td>    0.072</td> <td>    0.646</td>\n",
              "</tr>\n",
              "<tr>\n",
              "  <th>ma.L2</th>     <td>    0.2024</td> <td>    0.133</td> <td>    1.518</td> <td> 0.129</td> <td>   -0.059</td> <td>    0.464</td>\n",
              "</tr>\n",
              "<tr>\n",
              "  <th>ma.L3</th>     <td>   -0.0307</td> <td>    0.009</td> <td>   -3.406</td> <td> 0.001</td> <td>   -0.048</td> <td>   -0.013</td>\n",
              "</tr>\n",
              "<tr>\n",
              "  <th>ma.L4</th>     <td>    0.0313</td> <td>    0.009</td> <td>    3.651</td> <td> 0.000</td> <td>    0.014</td> <td>    0.048</td>\n",
              "</tr>\n",
              "<tr>\n",
              "  <th>sigma2</th>    <td>    1.4937</td> <td>    0.009</td> <td>  165.516</td> <td> 0.000</td> <td>    1.476</td> <td>    1.511</td>\n",
              "</tr>\n",
              "</table>\n",
              "<table class=\"simpletable\">\n",
              "<tr>\n",
              "  <th>Ljung-Box (L1) (Q):</th>     <td>0.00</td>  <th>  Jarque-Bera (JB):  </th> <td>63933.96</td>\n",
              "</tr>\n",
              "<tr>\n",
              "  <th>Prob(Q):</th>                <td>0.97</td>  <th>  Prob(JB):          </th>   <td>0.00</td>  \n",
              "</tr>\n",
              "<tr>\n",
              "  <th>Heteroskedasticity (H):</th> <td>10.16</td> <th>  Skew:              </th>   <td>-0.79</td> \n",
              "</tr>\n",
              "<tr>\n",
              "  <th>Prob(H) (two-sided):</th>    <td>0.00</td>  <th>  Kurtosis:          </th>   <td>16.12</td> \n",
              "</tr>\n",
              "</table><br/><br/>Warnings:<br/>[1] Covariance matrix calculated using the outer product of gradients (complex-step)."
            ],
            "text/plain": [
              "<class 'statsmodels.iolib.summary.Summary'>\n",
              "\"\"\"\n",
              "                               SARIMAX Results                                \n",
              "==============================================================================\n",
              "Dep. Variable:                      y   No. Observations:                 8791\n",
              "Model:               SARIMAX(2, 1, 4)   Log Likelihood              -14227.631\n",
              "Date:                Mon, 12 Dec 2022   AIC                          28473.263\n",
              "Time:                        09:54:49   BIC                          28536.995\n",
              "Sample:                             0   HQIC                         28494.975\n",
              "                               - 8791                                         \n",
              "Covariance Type:                  opg                                         \n",
              "==============================================================================\n",
              "                 coef    std err          z      P>|z|      [0.025      0.975]\n",
              "------------------------------------------------------------------------------\n",
              "intercept      0.0087      0.068      0.128      0.898      -0.124       0.142\n",
              "drift      -1.024e-07   1.05e-05     -0.010      0.992   -2.06e-05    2.04e-05\n",
              "ar.L1         -0.3907      0.146     -2.672      0.008      -0.677      -0.104\n",
              "ar.L2         -0.2390      0.135     -1.764      0.078      -0.504       0.027\n",
              "ma.L1          0.3589      0.146      2.450      0.014       0.072       0.646\n",
              "ma.L2          0.2024      0.133      1.518      0.129      -0.059       0.464\n",
              "ma.L3         -0.0307      0.009     -3.406      0.001      -0.048      -0.013\n",
              "ma.L4          0.0313      0.009      3.651      0.000       0.014       0.048\n",
              "sigma2         1.4937      0.009    165.516      0.000       1.476       1.511\n",
              "===================================================================================\n",
              "Ljung-Box (L1) (Q):                   0.00   Jarque-Bera (JB):             63933.96\n",
              "Prob(Q):                              0.97   Prob(JB):                         0.00\n",
              "Heteroskedasticity (H):              10.16   Skew:                            -0.79\n",
              "Prob(H) (two-sided):                  0.00   Kurtosis:                        16.12\n",
              "===================================================================================\n",
              "\n",
              "Warnings:\n",
              "[1] Covariance matrix calculated using the outer product of gradients (complex-step).\n",
              "\"\"\""
            ]
          },
          "execution_count": 46,
          "metadata": {},
          "output_type": "execute_result"
        }
      ],
      "source": [
        "model_auto.summary()"
      ]
    },
    {
      "cell_type": "markdown",
      "source": [
        "The experiment yielded surprising model of ARIMA(2,1,4) which in the earlier part of the document did not have all significant coefficients. Let's now attempt to include seasonal component in the grid-search framework below..."
      ],
      "metadata": {
        "id": "h8EAQZ5frSGV"
      }
    },
    {
      "cell_type": "markdown",
      "metadata": {
        "id": "U-pqcmzo28WT"
      },
      "source": [
        "**SARIMA Grid Search**\n",
        "\n",
        "The solution of grid searching often helps to discover non-intuitive configurations that result in lower forecast error than those specified \"manually\". Most suitable parameters found in the process are:\n",
        "1.   order => (p, d , q)\n",
        "2.   seasonal_order => (P, D, Q, m)\n",
        "3.   trend => one of 4 options: a) no trend b) constant c) linear d) constant w/h linear\n",
        "\n",
        "\n",
        "\n",
        "\n"
      ]
    },
    {
      "cell_type": "code",
      "execution_count": null,
      "metadata": {
        "id": "7pZ2JnWSyPsJ"
      },
      "outputs": [],
      "source": [
        "def sarima_model_configs(seasonal = [5]):\n",
        "  configuration_list = []\n",
        "  d = range(1,2)\n",
        "  D = range(0,1)\n",
        "  p = q = range(1,6)\n",
        "  P = Q = range(0,2)\n",
        "  pdq = list(itertools.product(p,d,q))  \n",
        "  PDQS = list(itertools.product(P,D,Q,seasonal))\n",
        "  for combination in pdq:\n",
        "    for seasonal_combination in PDQS:\n",
        "      try:\n",
        "        configuration = (combination, seasonal_combination)\n",
        "        configuration_list.append(configuration)\n",
        "      except:\n",
        "        continue\n",
        "  return configuration_list\n",
        "\n",
        "def sarima_forecast(data, configuration):\n",
        "  try:\n",
        "      model = SARIMAX(data, order = configuration[0], seasonal_order = configuration[1], #trend = trend, \n",
        "                      enforce_stationarity = False, enforce_invertibility = False)\n",
        "      fitted_model = model.fit(disp = False)\n",
        "      y_hat = np.round(fitted_model.predict(len(data), len(data)),3)\n",
        "      return y_hat.values[0]\n",
        "  except:\n",
        "      return None\n",
        "\n",
        "def avg_sarima_error(train_data, test_data, configuration, iterator):\n",
        "  start_time = timer() #dt.datetime.now()\n",
        "  archive = train_data.copy()\n",
        "  predictions = list()\n",
        "  for i in range(len(test_data)):\n",
        "    y_hat = sarima_forecast(archive, configuration)\n",
        "    predictions.append(y_hat)\n",
        "    archive = pd.concat([archive, test_data[i:i+1]])\n",
        "  try:\n",
        "    fcast_error = np.round(assess_predictions(np.array(test_data), np.array(predictions)),3)\n",
        "  except:\n",
        "    fcast_error = None\n",
        "  end_time = timer() #dt.datetime.now()\n",
        "  print(f\"Model: {iterator+1} \\t Error: {fcast_error} \\t \\t Configuration: {configuration} \\t Time: {round((end_time - start_time)/60,2)}\")\n",
        "  return (fcast_error, configuration)\n",
        "\n",
        "def sarima_grid_search(train_set, test_set, conf_options):\n",
        "  start_point = timer()\n",
        "  sarima_results = [avg_sarima_error(train_data = train_set, test_data = test_set, configuration = config, iterator=index) for index, config in enumerate(conf_options)]\n",
        "  sarima_results = [r for r in sarima_results if r[0] != None]\n",
        "  sarima_results.sort(key=lambda tup: tup[0])\n",
        "  end_point = timer()\n",
        "  print(f\"\\n Total of {len(conf_options)} models calculated in {round((end_point - start_point)/60,2)} minutes.\")\n",
        "  return sarima_results"
      ]
    },
    {
      "cell_type": "code",
      "execution_count": null,
      "metadata": {
        "colab": {
          "base_uri": "https://localhost:8080/"
        },
        "id": "Quo__jMmyebt",
        "outputId": "e9d1457f-061d-4084-d9a3-472ccb57a941"
      },
      "outputs": [
        {
          "output_type": "stream",
          "name": "stdout",
          "text": [
            "100\n"
          ]
        }
      ],
      "source": [
        "sarima_conf_list = sarima_model_configs()\n",
        "print(len(sarima_conf_list))"
      ]
    },
    {
      "cell_type": "markdown",
      "source": [
        "We have got 100 models to run here which is computationally expensive. Let us limit data to the most recent 7 years."
      ],
      "metadata": {
        "id": "qapcAGAdiAhO"
      }
    },
    {
      "cell_type": "code",
      "source": [
        "yyyy, mm, dd = dt.date.today().year - 7, dt.date.today().month, dt.date.today().day\n",
        "cut_off_date = dt.date(yyyy, mm, dd)\n",
        "brent_subset = brent.loc[cut_off_date:].copy()\n",
        "brent_train, brent_test = train_test_splitting(brent_subset.Close)\n",
        "\n",
        "sarima_gs = sarima_grid_search(train_set = brent_train, test_set = brent_test, conf_options = sarima_conf_list)\n",
        "print(\"\\n TOP 5\")\n",
        "for result in sarima_gs[:5]:\n",
        "  print(result)"
      ],
      "metadata": {
        "id": "Kw3umsATb52t",
        "colab": {
          "base_uri": "https://localhost:8080/"
        },
        "outputId": "2dae314a-63ff-4574-d9c6-0972d90949a4"
      },
      "execution_count": null,
      "outputs": [
        {
          "output_type": "stream",
          "name": "stdout",
          "text": [
            "Model: 1 \t Error: 2.956 \t \t Configuration: ((1, 1, 1), (0, 0, 0, 5)) \t Time: 0.46\n",
            "Model: 2 \t Error: 2.955 \t \t Configuration: ((1, 1, 1), (0, 0, 1, 5)) \t Time: 0.82\n",
            "Model: 3 \t Error: 2.958 \t \t Configuration: ((1, 1, 1), (1, 0, 0, 5)) \t Time: 0.68\n",
            "Model: 4 \t Error: 2.957 \t \t Configuration: ((1, 1, 1), (1, 0, 1, 5)) \t Time: 1.09\n",
            "Model: 5 \t Error: 2.962 \t \t Configuration: ((1, 1, 2), (0, 0, 0, 5)) \t Time: 0.61\n",
            "Model: 6 \t Error: 2.959 \t \t Configuration: ((1, 1, 2), (0, 0, 1, 5)) \t Time: 1.15\n",
            "Model: 7 \t Error: 2.961 \t \t Configuration: ((1, 1, 2), (1, 0, 0, 5)) \t Time: 0.85\n",
            "Model: 8 \t Error: 2.962 \t \t Configuration: ((1, 1, 2), (1, 0, 1, 5)) \t Time: 1.8\n",
            "Model: 9 \t Error: 2.966 \t \t Configuration: ((1, 1, 3), (0, 0, 0, 5)) \t Time: 0.78\n",
            "Model: 10 \t Error: 2.964 \t \t Configuration: ((1, 1, 3), (0, 0, 1, 5)) \t Time: 1.11\n",
            "Model: 11 \t Error: 2.965 \t \t Configuration: ((1, 1, 3), (1, 0, 0, 5)) \t Time: 1.04\n",
            "Model: 12 \t Error: 2.964 \t \t Configuration: ((1, 1, 3), (1, 0, 1, 5)) \t Time: 1.57\n",
            "Model: 13 \t Error: 2.973 \t \t Configuration: ((1, 1, 4), (0, 0, 0, 5)) \t Time: 0.95\n",
            "Model: 14 \t Error: 2.971 \t \t Configuration: ((1, 1, 4), (0, 0, 1, 5)) \t Time: 1.28\n",
            "Model: 15 \t Error: 2.972 \t \t Configuration: ((1, 1, 4), (1, 0, 0, 5)) \t Time: 1.06\n",
            "Model: 16 \t Error: 2.971 \t \t Configuration: ((1, 1, 4), (1, 0, 1, 5)) \t Time: 1.89\n",
            "Model: 17 \t Error: 2.965 \t \t Configuration: ((1, 1, 5), (0, 0, 0, 5)) \t Time: 1.0\n",
            "Model: 18 \t Error: None \t \t Configuration: ((1, 1, 5), (0, 0, 1, 5)) \t Time: 0.0\n",
            "Model: 19 \t Error: 2.974 \t \t Configuration: ((1, 1, 5), (1, 0, 0, 5)) \t Time: 1.39\n",
            "Model: 20 \t Error: None \t \t Configuration: ((1, 1, 5), (1, 0, 1, 5)) \t Time: 0.0\n",
            "Model: 21 \t Error: 2.965 \t \t Configuration: ((2, 1, 1), (0, 0, 0, 5)) \t Time: 0.47\n",
            "Model: 22 \t Error: 2.96 \t \t Configuration: ((2, 1, 1), (0, 0, 1, 5)) \t Time: 0.85\n",
            "Model: 23 \t Error: 2.961 \t \t Configuration: ((2, 1, 1), (1, 0, 0, 5)) \t Time: 0.7\n",
            "Model: 24 \t Error: 2.96 \t \t Configuration: ((2, 1, 1), (1, 0, 1, 5)) \t Time: 1.23\n",
            "Model: 25 \t Error: 3.018 \t \t Configuration: ((2, 1, 2), (0, 0, 0, 5)) \t Time: 1.57\n",
            "Model: 26 \t Error: 3.022 \t \t Configuration: ((2, 1, 2), (0, 0, 1, 5)) \t Time: 2.68\n",
            "Model: 27 \t Error: 3.017 \t \t Configuration: ((2, 1, 2), (1, 0, 0, 5)) \t Time: 2.25\n",
            "Model: 28 \t Error: 3.023 \t \t Configuration: ((2, 1, 2), (1, 0, 1, 5)) \t Time: 3.57\n",
            "Model: 29 \t Error: 3.016 \t \t Configuration: ((2, 1, 3), (0, 0, 0, 5)) \t Time: 1.62\n",
            "Model: 30 \t Error: 3.003 \t \t Configuration: ((2, 1, 3), (0, 0, 1, 5)) \t Time: 2.86\n",
            "Model: 31 \t Error: 2.996 \t \t Configuration: ((2, 1, 3), (1, 0, 0, 5)) \t Time: 2.66\n",
            "Model: 32 \t Error: 3.015 \t \t Configuration: ((2, 1, 3), (1, 0, 1, 5)) \t Time: 3.79\n",
            "Model: 33 \t Error: 3.02 \t \t Configuration: ((2, 1, 4), (0, 0, 0, 5)) \t Time: 1.64\n",
            "Model: 34 \t Error: 3.025 \t \t Configuration: ((2, 1, 4), (0, 0, 1, 5)) \t Time: 3.38\n",
            "Model: 35 \t Error: 3.046 \t \t Configuration: ((2, 1, 4), (1, 0, 0, 5)) \t Time: 2.68\n",
            "Model: 36 \t Error: 3.03 \t \t Configuration: ((2, 1, 4), (1, 0, 1, 5)) \t Time: 4.36\n",
            "Model: 37 \t Error: 2.995 \t \t Configuration: ((2, 1, 5), (0, 0, 0, 5)) \t Time: 1.6\n",
            "Model: 38 \t Error: None \t \t Configuration: ((2, 1, 5), (0, 0, 1, 5)) \t Time: 0.0\n",
            "Model: 39 \t Error: 2.999 \t \t Configuration: ((2, 1, 5), (1, 0, 0, 5)) \t Time: 2.27\n",
            "Model: 40 \t Error: None \t \t Configuration: ((2, 1, 5), (1, 0, 1, 5)) \t Time: 0.0\n",
            "Model: 41 \t Error: 2.962 \t \t Configuration: ((3, 1, 1), (0, 0, 0, 5)) \t Time: 0.5\n",
            "Model: 42 \t Error: 2.96 \t \t Configuration: ((3, 1, 1), (0, 0, 1, 5)) \t Time: 0.95\n",
            "Model: 43 \t Error: 2.961 \t \t Configuration: ((3, 1, 1), (1, 0, 0, 5)) \t Time: 0.95\n",
            "Model: 44 \t Error: 2.963 \t \t Configuration: ((3, 1, 1), (1, 0, 1, 5)) \t Time: 1.63\n",
            "Model: 45 \t Error: 3.018 \t \t Configuration: ((3, 1, 2), (0, 0, 0, 5)) \t Time: 1.58\n",
            "Model: 46 \t Error: 3.028 \t \t Configuration: ((3, 1, 2), (0, 0, 1, 5)) \t Time: 2.88\n",
            "Model: 47 \t Error: 2.996 \t \t Configuration: ((3, 1, 2), (1, 0, 0, 5)) \t Time: 2.7\n",
            "Model: 48 \t Error: 3.016 \t \t Configuration: ((3, 1, 2), (1, 0, 1, 5)) \t Time: 3.88\n",
            "Model: 49 \t Error: 2.996 \t \t Configuration: ((3, 1, 3), (0, 0, 0, 5)) \t Time: 2.83\n",
            "Model: 50 \t Error: 3.014 \t \t Configuration: ((3, 1, 3), (0, 0, 1, 5)) \t Time: 4.09\n",
            "Model: 51 \t Error: 3.0 \t \t Configuration: ((3, 1, 3), (1, 0, 0, 5)) \t Time: 3.98\n",
            "Model: 52 \t Error: 3.012 \t \t Configuration: ((3, 1, 3), (1, 0, 1, 5)) \t Time: 4.66\n",
            "Model: 53 \t Error: 3.029 \t \t Configuration: ((3, 1, 4), (0, 0, 0, 5)) \t Time: 2.92\n",
            "Model: 54 \t Error: 3.017 \t \t Configuration: ((3, 1, 4), (0, 0, 1, 5)) \t Time: 5.15\n",
            "Model: 55 \t Error: 3.015 \t \t Configuration: ((3, 1, 4), (1, 0, 0, 5)) \t Time: 4.25\n",
            "Model: 56 \t Error: 3.028 \t \t Configuration: ((3, 1, 4), (1, 0, 1, 5)) \t Time: 5.23\n",
            "Model: 57 \t Error: 2.998 \t \t Configuration: ((3, 1, 5), (0, 0, 0, 5)) \t Time: 2.47\n",
            "Model: 58 \t Error: None \t \t Configuration: ((3, 1, 5), (0, 0, 1, 5)) \t Time: 0.0\n",
            "Model: 59 \t Error: 3.004 \t \t Configuration: ((3, 1, 5), (1, 0, 0, 5)) \t Time: 3.23\n",
            "Model: 60 \t Error: None \t \t Configuration: ((3, 1, 5), (1, 0, 1, 5)) \t Time: 0.0\n",
            "Model: 61 \t Error: 2.975 \t \t Configuration: ((4, 1, 1), (0, 0, 0, 5)) \t Time: 0.54\n",
            "Model: 62 \t Error: 2.973 \t \t Configuration: ((4, 1, 1), (0, 0, 1, 5)) \t Time: 0.82\n",
            "Model: 63 \t Error: 2.973 \t \t Configuration: ((4, 1, 1), (1, 0, 0, 5)) \t Time: 0.91\n",
            "Model: 64 \t Error: 2.973 \t \t Configuration: ((4, 1, 1), (1, 0, 1, 5)) \t Time: 1.52\n",
            "Model: 65 \t Error: 2.98 \t \t Configuration: ((4, 1, 2), (0, 0, 0, 5)) \t Time: 2.74\n",
            "Model: 66 \t Error: 3.003 \t \t Configuration: ((4, 1, 2), (0, 0, 1, 5)) \t Time: 3.77\n",
            "Model: 67 \t Error: 3.005 \t \t Configuration: ((4, 1, 2), (1, 0, 0, 5)) \t Time: 4.05\n",
            "Model: 68 \t Error: 3.005 \t \t Configuration: ((4, 1, 2), (1, 0, 1, 5)) \t Time: 4.54\n",
            "Model: 69 \t Error: 3.008 \t \t Configuration: ((4, 1, 3), (0, 0, 0, 5)) \t Time: 2.66\n",
            "Model: 70 \t Error: 3.02 \t \t Configuration: ((4, 1, 3), (0, 0, 1, 5)) \t Time: 4.26\n",
            "Model: 71 \t Error: 3.023 \t \t Configuration: ((4, 1, 3), (1, 0, 0, 5)) \t Time: 4.36\n",
            "Model: 72 \t Error: 3.02 \t \t Configuration: ((4, 1, 3), (1, 0, 1, 5)) \t Time: 4.66\n",
            "Model: 73 \t Error: 3.026 \t \t Configuration: ((4, 1, 4), (0, 0, 0, 5)) \t Time: 3.5\n",
            "Model: 74 \t Error: 3.005 \t \t Configuration: ((4, 1, 4), (0, 0, 1, 5)) \t Time: 5.88\n",
            "Model: 75 \t Error: 3.021 \t \t Configuration: ((4, 1, 4), (1, 0, 0, 5)) \t Time: 5.25\n",
            "Model: 76 \t Error: 3.018 \t \t Configuration: ((4, 1, 4), (1, 0, 1, 5)) \t Time: 6.27\n",
            "Model: 77 \t Error: 3.035 \t \t Configuration: ((4, 1, 5), (0, 0, 0, 5)) \t Time: 3.44\n",
            "Model: 78 \t Error: None \t \t Configuration: ((4, 1, 5), (0, 0, 1, 5)) \t Time: 0.0\n",
            "Model: 79 \t Error: 3.003 \t \t Configuration: ((4, 1, 5), (1, 0, 0, 5)) \t Time: 4.2\n",
            "Model: 80 \t Error: None \t \t Configuration: ((4, 1, 5), (1, 0, 1, 5)) \t Time: 0.0\n",
            "Model: 81 \t Error: 2.969 \t \t Configuration: ((5, 1, 1), (0, 0, 0, 5)) \t Time: 1.1\n",
            "Model: 82 \t Error: 2.982 \t \t Configuration: ((5, 1, 1), (0, 0, 1, 5)) \t Time: 1.55\n",
            "Model: 83 \t Error: None \t \t Configuration: ((5, 1, 1), (1, 0, 0, 5)) \t Time: 0.0\n",
            "Model: 84 \t Error: None \t \t Configuration: ((5, 1, 1), (1, 0, 1, 5)) \t Time: 0.0\n",
            "Model: 85 \t Error: 3.021 \t \t Configuration: ((5, 1, 2), (0, 0, 0, 5)) \t Time: 2.86\n",
            "Model: 86 \t Error: 3.028 \t \t Configuration: ((5, 1, 2), (0, 0, 1, 5)) \t Time: 3.31\n",
            "Model: 87 \t Error: None \t \t Configuration: ((5, 1, 2), (1, 0, 0, 5)) \t Time: 0.0\n",
            "Model: 88 \t Error: None \t \t Configuration: ((5, 1, 2), (1, 0, 1, 5)) \t Time: 0.0\n",
            "Model: 89 \t Error: 3.008 \t \t Configuration: ((5, 1, 3), (0, 0, 0, 5)) \t Time: 2.56\n",
            "Model: 90 \t Error: 3.003 \t \t Configuration: ((5, 1, 3), (0, 0, 1, 5)) \t Time: 3.93\n",
            "Model: 91 \t Error: None \t \t Configuration: ((5, 1, 3), (1, 0, 0, 5)) \t Time: 0.0\n",
            "Model: 92 \t Error: None \t \t Configuration: ((5, 1, 3), (1, 0, 1, 5)) \t Time: 0.0\n",
            "Model: 93 \t Error: 3.039 \t \t Configuration: ((5, 1, 4), (0, 0, 0, 5)) \t Time: 3.13\n",
            "Model: 94 \t Error: 3.05 \t \t Configuration: ((5, 1, 4), (0, 0, 1, 5)) \t Time: 5.01\n",
            "Model: 95 \t Error: None \t \t Configuration: ((5, 1, 4), (1, 0, 0, 5)) \t Time: 0.0\n",
            "Model: 96 \t Error: None \t \t Configuration: ((5, 1, 4), (1, 0, 1, 5)) \t Time: 0.0\n",
            "Model: 97 \t Error: 3.048 \t \t Configuration: ((5, 1, 5), (0, 0, 0, 5)) \t Time: 4.15\n",
            "Model: 98 \t Error: None \t \t Configuration: ((5, 1, 5), (0, 0, 1, 5)) \t Time: 0.0\n",
            "Model: 99 \t Error: None \t \t Configuration: ((5, 1, 5), (1, 0, 0, 5)) \t Time: 0.0\n",
            "Model: 100 \t Error: None \t \t Configuration: ((5, 1, 5), (1, 0, 1, 5)) \t Time: 0.0\n",
            "\n",
            " Total of 100 models calculated in 204.61 minutes.\n",
            "\n",
            " TOP 5\n",
            "(2.955, ((1, 1, 1), (0, 0, 1, 5)))\n",
            "(2.956, ((1, 1, 1), (0, 0, 0, 5)))\n",
            "(2.957, ((1, 1, 1), (1, 0, 1, 5)))\n",
            "(2.958, ((1, 1, 1), (1, 0, 0, 5)))\n",
            "(2.959, ((1, 1, 2), (0, 0, 1, 5)))\n"
          ]
        }
      ]
    },
    {
      "cell_type": "markdown",
      "source": [
        "It turns out that frm the entire universe of SARIMA models checked, best results yielded the one with order of (1,1,1) and seasonal order of (0,0,1,5)."
      ],
      "metadata": {
        "id": "tYFrwzfAiRvc"
      }
    },
    {
      "cell_type": "markdown",
      "metadata": {
        "id": "YhNGdmdp3Ch7"
      },
      "source": [
        "## **ETS**\n",
        "\n",
        "The technique od Holt-Winters Exponential Smoothing of Time Series may be implemented with use of Statsmodels library and can be extended to support data with: a) systematic trend b) seasonal component. The optimisation process helps to adapt relevant hyperparameters to a given datset. The examples of parameters that can be automatically tuned are:\n",
        "1.   smoothing_level\n",
        "2.   smoothing_slope\n",
        "3.   smoothing_seasonal\n",
        "4.   damping_slope\n",
        "\n",
        "On the other hand there is some hyperparameters that cannot be tuned and must be specified by a user:\n",
        "1.  trend\n",
        "2.  dumped\n",
        "3.  seasonal\n",
        "4.  seasonal_periods\n",
        "5.  use_boxcox\n",
        "\n",
        "\n",
        "\n",
        "\n",
        "\n",
        "\n",
        "\n"
      ]
    },
    {
      "cell_type": "code",
      "execution_count": null,
      "metadata": {
        "id": "tdJ3-Dc-PKCA"
      },
      "outputs": [],
      "source": [
        "def ets_model_configs(seasonal = [5]):\n",
        "  ets_models = list()\n",
        "  t_options = ['add'] #, 'mul'\n",
        "  d_options = [True, False]\n",
        "  s_options = ['add', 'mul', None]\n",
        "  p_options = seasonal\n",
        "  r_options = [True, False]\n",
        "  for t in t_options:\n",
        "    for d in d_options:\n",
        "      for s in s_options:\n",
        "        for p in p_options:\n",
        "          for r in r_options:\n",
        "            config = [t, d, s, p, r]\n",
        "            ets_models.append(config)\n",
        "  return ets_models\n",
        "\n",
        "def ets_forecast(data, configuration):\n",
        "  t, d, s, p, r = configuration\n",
        "  try:\n",
        "    model = ExponentialSmoothing(data, trend = t, damped = d, seasonal = s, seasonal_periods = p)\n",
        "    fitted_model = model.fit(optimized=True, remove_bias = r) #, use_boxcox = b\n",
        "    y_hat = fitted_model.predict(len(data), len(data))\n",
        "    pred = np.round(y_hat.iloc[-1],3)\n",
        "    return pred\n",
        "  except:\n",
        "      return None\n",
        "\n",
        "def avg_ets_error(train_data, test_data, configuration, iterator): #\n",
        "  start_time = timer()\n",
        "  ets_archive = train_data.copy()\n",
        "  ets_predictions = list()\n",
        "  for i in range(len(test_data)):\n",
        "    y_hat = ets_forecast(ets_archive, configuration)\n",
        "    ets_predictions.append(y_hat)\n",
        "    ets_archive = pd.concat([ets_archive, test_data[i:i+1]])\n",
        "  try:\n",
        "    ets_error = np.round(assess_predictions(np.array(test_data), np.array(ets_predictions)),3)\n",
        "  except:\n",
        "    ets_error = None\n",
        "  end_time = timer() #dt.datetime.now()\n",
        "  print(f\"Model: {iterator+1} \\t Error: {ets_error} \\t \\t Configuration: {configuration} \\t \\t Time: {round((end_time - start_time)/60,2)}\")\n",
        "  return (ets_error, configuration)\n",
        "\n",
        "def ets_grid_search(train_set, test_set, ets_conf_options):\n",
        "  start_point = timer()\n",
        "  ets_results = [avg_ets_error(train_data = train_set, test_data = test_set, configuration = config, iterator=index) for index, config in enumerate(ets_conf_options)]\n",
        "  ets_results = [r for r in ets_results if r[0] != None]\n",
        "  ets_results.sort(key=lambda tup: tup[0])\n",
        "  end_point = timer()\n",
        "  print(f\"\\n Total of {len(ets_conf_options)} models calculated in {round((end_point - start_point)/60,2)} minutes.\")\n",
        "  return ets_results"
      ]
    },
    {
      "cell_type": "code",
      "source": [
        "ets_confs = ets_model_configs()\n",
        "ets_gs = ets_grid_search(train_set = brent_train,\n",
        "                         test_set = brent_test,\n",
        "                         ets_conf_options = ets_confs)\n",
        "print(\"\\n TOP 5\")\n",
        "for result in ets_gs[:5]:\n",
        "  print(result)"
      ],
      "metadata": {
        "colab": {
          "base_uri": "https://localhost:8080/"
        },
        "id": "79thPWy2V9pf",
        "outputId": "25856de3-7e1c-41e0-bb7c-1a8638783c4b"
      },
      "execution_count": null,
      "outputs": [
        {
          "output_type": "stream",
          "name": "stdout",
          "text": [
            "Model: 1 \t Error: 2.968 \t \t Configuration: ['add', True, 'add', 5, True] \t \t Time: 0.84\n",
            "Model: 2 \t Error: 2.965 \t \t Configuration: ['add', True, 'add', 5, False] \t \t Time: 0.84\n",
            "Model: 3 \t Error: 2.975 \t \t Configuration: ['add', True, 'mul', 5, True] \t \t Time: 0.85\n",
            "Model: 4 \t Error: 2.972 \t \t Configuration: ['add', True, 'mul', 5, False] \t \t Time: 0.83\n",
            "Model: 5 \t Error: 2.965 \t \t Configuration: ['add', True, None, 5, True] \t \t Time: 0.18\n",
            "Model: 6 \t Error: 2.962 \t \t Configuration: ['add', True, None, 5, False] \t \t Time: 0.18\n",
            "Model: 7 \t Error: 2.966 \t \t Configuration: ['add', False, 'add', 5, True] \t \t Time: 0.82\n",
            "Model: 8 \t Error: 2.966 \t \t Configuration: ['add', False, 'add', 5, False] \t \t Time: 0.82\n",
            "Model: 9 \t Error: 2.973 \t \t Configuration: ['add', False, 'mul', 5, True] \t \t Time: 0.82\n",
            "Model: 10 \t Error: 2.973 \t \t Configuration: ['add', False, 'mul', 5, False] \t \t Time: 0.82\n",
            "Model: 11 \t Error: 2.964 \t \t Configuration: ['add', False, None, 5, True] \t \t Time: 0.18\n",
            "Model: 12 \t Error: 2.964 \t \t Configuration: ['add', False, None, 5, False] \t \t Time: 0.18\n",
            "\n",
            " Total of 12 models calculated in 7.38 minutes.\n",
            "\n",
            " TOP 5\n",
            "(2.962, ['add', True, None, 5, False])\n",
            "(2.964, ['add', False, None, 5, True])\n",
            "(2.964, ['add', False, None, 5, False])\n",
            "(2.965, ['add', True, 'add', 5, False])\n",
            "(2.965, ['add', True, None, 5, True])\n"
          ]
        }
      ]
    },
    {
      "cell_type": "markdown",
      "source": [
        "It turns out that from the entire universe of ETS models checked, best results yielded the one with the following configuration:\n",
        "\n",
        "['add', True, None, 5, False]."
      ],
      "metadata": {
        "id": "tGGNAg_2itge"
      }
    },
    {
      "cell_type": "markdown",
      "metadata": {
        "id": "b48SJQcLyq_D"
      },
      "source": [
        "## Naive forecast\n",
        "\n",
        "After all the computations, we must now set some benchmark for the assessment of their effectiveness. The obvious choise is usually a naive model which assumes persistence of past data into the future (1 step in our particular setup)."
      ]
    },
    {
      "cell_type": "code",
      "execution_count": null,
      "metadata": {
        "id": "gTA1oBWsPFs-"
      },
      "outputs": [],
      "source": [
        "def naive_model_configs(lags = 3):\n",
        "  n_options = [i for i in range(1, lags +1)]\n",
        "  return n_options\n",
        "  \n",
        "def naive_forecast(data, configuration):\n",
        "  return data[-configuration]\n",
        "\n",
        "def avg_naive_error(train_data, test_data, configuration, iterator):\n",
        "  start_time = timer()\n",
        "  naive_archive = train_data.copy()\n",
        "  naive_predictions = list()\n",
        "  for i in range(len(test_data)):\n",
        "    y_hat = naive_forecast(naive_archive, configuration)\n",
        "    naive_predictions.append(y_hat)\n",
        "    naive_archive = pd.concat([naive_archive, test_data[i:i+1]])\n",
        "  try:\n",
        "    naive_error = np.round(assess_predictions(np.array(test_data), np.array(naive_predictions)),3)\n",
        "  except:\n",
        "    naive_error = None\n",
        "  end_time = timer() #dt.datetime.now()\n",
        "  print(f\"Model: {iterator+1} \\t Error: {naive_error} \\t \\t Configuration: {configuration} \\t \\t Time: {round((end_time - start_time)/60,2)}\")\n",
        "  return (naive_error, configuration)\n",
        "\n",
        "def naive_grid_search(train_set, test_set, naive_conf_options):\n",
        "  start_point = timer()\n",
        "  naive_results = [avg_naive_error(train_data = train_set, test_data = test_set, configuration = config, iterator=index) for index, config in enumerate(naive_conf_options)]\n",
        "  naive_results = [r for r in naive_results if r[0] != None]\n",
        "  naive_results.sort(key=lambda tup: tup[0])\n",
        "  end_point = timer()\n",
        "  print(f\"\\n Total of {len(naive_conf_options)} models calculated in {round((end_point - start_point)/60,2)} minutes.\")\n",
        "  return naive_results"
      ]
    },
    {
      "cell_type": "code",
      "source": [
        "naive_confs = naive_model_configs(5)\n",
        "naive_gs = naive_grid_search(train_set = brent_train,\n",
        "                             test_set = brent_test,\n",
        "                             naive_conf_options = naive_confs)"
      ],
      "metadata": {
        "colab": {
          "base_uri": "https://localhost:8080/"
        },
        "id": "-PNhrvMtYUpQ",
        "outputId": "79026ecf-8ddf-432b-f339-c881ae186c91"
      },
      "execution_count": null,
      "outputs": [
        {
          "output_type": "stream",
          "name": "stdout",
          "text": [
            "Model: 1 \t Error: 2.959 \t \t Configuration: 1 \t \t Time: 0.0\n",
            "Model: 2 \t Error: 4.163 \t \t Configuration: 2 \t \t Time: 0.0\n",
            "Model: 3 \t Error: 5.011 \t \t Configuration: 3 \t \t Time: 0.0\n",
            "Model: 4 \t Error: 5.618 \t \t Configuration: 4 \t \t Time: 0.0\n",
            "Model: 5 \t Error: 6.116 \t \t Configuration: 5 \t \t Time: 0.0\n",
            "\n",
            " Total of 5 models calculated in 0.0 minutes.\n"
          ]
        }
      ]
    },
    {
      "cell_type": "markdown",
      "source": [
        "Without surprises, best results yielded a naive model with a lag of 1."
      ],
      "metadata": {
        "id": "QfVSq1oYjHwd"
      }
    },
    {
      "cell_type": "markdown",
      "metadata": {
        "id": "a7SSMSuMz1Gc"
      },
      "source": [
        "## Average forecast"
      ]
    },
    {
      "cell_type": "code",
      "execution_count": null,
      "metadata": {
        "id": "3bUHmqxOryz_"
      },
      "outputs": [],
      "source": [
        "def average_model_configs(lags = 10):\n",
        "  n_options = [i for i in range(2, lags + 1)]\n",
        "  return n_options\n",
        "\n",
        "def average_forecast(data, configuration):\n",
        "  return np.round(np.mean(data[-configuration:]),3)\n",
        "\n",
        "def avg_average_error(train_data, test_data, configuration, iterator):\n",
        "  start_time = timer()\n",
        "  average_archive = train_data.copy()\n",
        "  average_predictions = list()\n",
        "  for i in range(len(test_data)):\n",
        "    y_hat = average_forecast(average_archive, configuration)\n",
        "    average_predictions.append(y_hat)\n",
        "    average_archive = pd.concat([average_archive, test_data[i:i+1]])\n",
        "  try:\n",
        "    average_error = np.round(assess_predictions(np.array(test_data), np.array(average_predictions)),3)\n",
        "  except:\n",
        "    average_error = None\n",
        "  end_time = timer() #dt.datetime.now()\n",
        "  print(f\"Model: {iterator+1} \\t Error: {average_error} \\t \\t Configuration: {configuration} \\t \\t Time: {round((end_time - start_time)/60,2)}\")\n",
        "  return (average_error, configuration)\n",
        "\n",
        "def average_grid_search(train_set, test_set, average_conf_options):\n",
        "  start_point = timer()\n",
        "  average_results = [avg_average_error(train_data = train_set, test_data = test_set, configuration = config, iterator=index) for index, config in enumerate(average_conf_options)]\n",
        "  average_results = [r for r in average_results if r[0] != None]\n",
        "  average_results.sort(key=lambda tup: tup[0])\n",
        "  end_point = timer()\n",
        "  print(f\"\\n Total of {len(average_conf_options)} models calculated in {round((end_point - start_point)/60,2)} minutes.\")\n",
        "  return average_results\n"
      ]
    },
    {
      "cell_type": "code",
      "source": [
        "average_confs = average_model_configs()\n",
        "average_gs = average_grid_search(train_set = brent_train,\n",
        "                                 test_set = brent_test,\n",
        "                                 average_conf_options = average_confs)"
      ],
      "metadata": {
        "colab": {
          "base_uri": "https://localhost:8080/"
        },
        "id": "NyK5NYjDYifi",
        "outputId": "6be0a799-421a-4e15-b860-5e8f42248a7a"
      },
      "execution_count": null,
      "outputs": [
        {
          "output_type": "stream",
          "name": "stdout",
          "text": [
            "Model: 1 \t Error: 3.294 \t \t Configuration: 2 \t \t Time: 0.0\n",
            "Model: 2 \t Error: 3.619 \t \t Configuration: 3 \t \t Time: 0.0\n",
            "Model: 3 \t Error: 3.894 \t \t Configuration: 4 \t \t Time: 0.0\n",
            "Model: 4 \t Error: 4.136 \t \t Configuration: 5 \t \t Time: 0.0\n",
            "Model: 5 \t Error: 4.313 \t \t Configuration: 6 \t \t Time: 0.0\n",
            "Model: 6 \t Error: 4.465 \t \t Configuration: 7 \t \t Time: 0.0\n",
            "Model: 7 \t Error: 4.588 \t \t Configuration: 8 \t \t Time: 0.0\n",
            "Model: 8 \t Error: 4.667 \t \t Configuration: 9 \t \t Time: 0.0\n",
            "Model: 9 \t Error: 4.729 \t \t Configuration: 10 \t \t Time: 0.0\n",
            "\n",
            " Total of 9 models calculated in 0.01 minutes.\n"
          ]
        }
      ]
    },
    {
      "cell_type": "markdown",
      "source": [
        "Without surprises, best results yielded a model with a shortest period."
      ],
      "metadata": {
        "id": "aeKwVvp4tSts"
      }
    },
    {
      "cell_type": "markdown",
      "source": [
        "# **Executive Summary**\n",
        "\n",
        "Time to collect results of the best 5 models of each class in a summary data frame."
      ],
      "metadata": {
        "id": "-1Uw5n4ULGX_"
      }
    },
    {
      "cell_type": "code",
      "source": [
        "results_df = pd.DataFrame({'naive':[i[0] for i in naive_gs[:5]],\n",
        "                           'average':[i[0] for i in average_gs[:5]],\n",
        "                           'sarima':[i[0] for i in sarima_gs[:5]],\n",
        "                           'ets':[i[0] for i in ets_gs[:5]]},\n",
        "                            index = np.arange(1,6))\n",
        "results_df"
      ],
      "metadata": {
        "colab": {
          "base_uri": "https://localhost:8080/",
          "height": 206
        },
        "id": "8LP3QJ8QYukj",
        "outputId": "6e75e71e-6a0b-43d8-e20d-b7419fb7985e"
      },
      "execution_count": null,
      "outputs": [
        {
          "output_type": "execute_result",
          "data": {
            "text/plain": [
              "   naive  average  sarima    ets\n",
              "1  2.959    3.294   2.955  2.962\n",
              "2  4.163    3.619   2.956  2.964\n",
              "3  5.011    3.894   2.957  2.964\n",
              "4  5.618    4.136   2.958  2.965\n",
              "5  6.116    4.313   2.959  2.965"
            ],
            "text/html": [
              "\n",
              "  <div id=\"df-fdb84580-3758-4cde-8055-23a813a3be7b\">\n",
              "    <div class=\"colab-df-container\">\n",
              "      <div>\n",
              "<style scoped>\n",
              "    .dataframe tbody tr th:only-of-type {\n",
              "        vertical-align: middle;\n",
              "    }\n",
              "\n",
              "    .dataframe tbody tr th {\n",
              "        vertical-align: top;\n",
              "    }\n",
              "\n",
              "    .dataframe thead th {\n",
              "        text-align: right;\n",
              "    }\n",
              "</style>\n",
              "<table border=\"1\" class=\"dataframe\">\n",
              "  <thead>\n",
              "    <tr style=\"text-align: right;\">\n",
              "      <th></th>\n",
              "      <th>naive</th>\n",
              "      <th>average</th>\n",
              "      <th>sarima</th>\n",
              "      <th>ets</th>\n",
              "    </tr>\n",
              "  </thead>\n",
              "  <tbody>\n",
              "    <tr>\n",
              "      <th>1</th>\n",
              "      <td>2.959</td>\n",
              "      <td>3.294</td>\n",
              "      <td>2.955</td>\n",
              "      <td>2.962</td>\n",
              "    </tr>\n",
              "    <tr>\n",
              "      <th>2</th>\n",
              "      <td>4.163</td>\n",
              "      <td>3.619</td>\n",
              "      <td>2.956</td>\n",
              "      <td>2.964</td>\n",
              "    </tr>\n",
              "    <tr>\n",
              "      <th>3</th>\n",
              "      <td>5.011</td>\n",
              "      <td>3.894</td>\n",
              "      <td>2.957</td>\n",
              "      <td>2.964</td>\n",
              "    </tr>\n",
              "    <tr>\n",
              "      <th>4</th>\n",
              "      <td>5.618</td>\n",
              "      <td>4.136</td>\n",
              "      <td>2.958</td>\n",
              "      <td>2.965</td>\n",
              "    </tr>\n",
              "    <tr>\n",
              "      <th>5</th>\n",
              "      <td>6.116</td>\n",
              "      <td>4.313</td>\n",
              "      <td>2.959</td>\n",
              "      <td>2.965</td>\n",
              "    </tr>\n",
              "  </tbody>\n",
              "</table>\n",
              "</div>\n",
              "      <button class=\"colab-df-convert\" onclick=\"convertToInteractive('df-fdb84580-3758-4cde-8055-23a813a3be7b')\"\n",
              "              title=\"Convert this dataframe to an interactive table.\"\n",
              "              style=\"display:none;\">\n",
              "        \n",
              "  <svg xmlns=\"http://www.w3.org/2000/svg\" height=\"24px\"viewBox=\"0 0 24 24\"\n",
              "       width=\"24px\">\n",
              "    <path d=\"M0 0h24v24H0V0z\" fill=\"none\"/>\n",
              "    <path d=\"M18.56 5.44l.94 2.06.94-2.06 2.06-.94-2.06-.94-.94-2.06-.94 2.06-2.06.94zm-11 1L8.5 8.5l.94-2.06 2.06-.94-2.06-.94L8.5 2.5l-.94 2.06-2.06.94zm10 10l.94 2.06.94-2.06 2.06-.94-2.06-.94-.94-2.06-.94 2.06-2.06.94z\"/><path d=\"M17.41 7.96l-1.37-1.37c-.4-.4-.92-.59-1.43-.59-.52 0-1.04.2-1.43.59L10.3 9.45l-7.72 7.72c-.78.78-.78 2.05 0 2.83L4 21.41c.39.39.9.59 1.41.59.51 0 1.02-.2 1.41-.59l7.78-7.78 2.81-2.81c.8-.78.8-2.07 0-2.86zM5.41 20L4 18.59l7.72-7.72 1.47 1.35L5.41 20z\"/>\n",
              "  </svg>\n",
              "      </button>\n",
              "      \n",
              "  <style>\n",
              "    .colab-df-container {\n",
              "      display:flex;\n",
              "      flex-wrap:wrap;\n",
              "      gap: 12px;\n",
              "    }\n",
              "\n",
              "    .colab-df-convert {\n",
              "      background-color: #E8F0FE;\n",
              "      border: none;\n",
              "      border-radius: 50%;\n",
              "      cursor: pointer;\n",
              "      display: none;\n",
              "      fill: #1967D2;\n",
              "      height: 32px;\n",
              "      padding: 0 0 0 0;\n",
              "      width: 32px;\n",
              "    }\n",
              "\n",
              "    .colab-df-convert:hover {\n",
              "      background-color: #E2EBFA;\n",
              "      box-shadow: 0px 1px 2px rgba(60, 64, 67, 0.3), 0px 1px 3px 1px rgba(60, 64, 67, 0.15);\n",
              "      fill: #174EA6;\n",
              "    }\n",
              "\n",
              "    [theme=dark] .colab-df-convert {\n",
              "      background-color: #3B4455;\n",
              "      fill: #D2E3FC;\n",
              "    }\n",
              "\n",
              "    [theme=dark] .colab-df-convert:hover {\n",
              "      background-color: #434B5C;\n",
              "      box-shadow: 0px 1px 3px 1px rgba(0, 0, 0, 0.15);\n",
              "      filter: drop-shadow(0px 1px 2px rgba(0, 0, 0, 0.3));\n",
              "      fill: #FFFFFF;\n",
              "    }\n",
              "  </style>\n",
              "\n",
              "      <script>\n",
              "        const buttonEl =\n",
              "          document.querySelector('#df-fdb84580-3758-4cde-8055-23a813a3be7b button.colab-df-convert');\n",
              "        buttonEl.style.display =\n",
              "          google.colab.kernel.accessAllowed ? 'block' : 'none';\n",
              "\n",
              "        async function convertToInteractive(key) {\n",
              "          const element = document.querySelector('#df-fdb84580-3758-4cde-8055-23a813a3be7b');\n",
              "          const dataTable =\n",
              "            await google.colab.kernel.invokeFunction('convertToInteractive',\n",
              "                                                     [key], {});\n",
              "          if (!dataTable) return;\n",
              "\n",
              "          const docLinkHtml = 'Like what you see? Visit the ' +\n",
              "            '<a target=\"_blank\" href=https://colab.research.google.com/notebooks/data_table.ipynb>data table notebook</a>'\n",
              "            + ' to learn more about interactive tables.';\n",
              "          element.innerHTML = '';\n",
              "          dataTable['output_type'] = 'display_data';\n",
              "          await google.colab.output.renderOutput(dataTable, element);\n",
              "          const docLink = document.createElement('div');\n",
              "          docLink.innerHTML = docLinkHtml;\n",
              "          element.appendChild(docLink);\n",
              "        }\n",
              "      </script>\n",
              "    </div>\n",
              "  </div>\n",
              "  "
            ]
          },
          "metadata": {},
          "execution_count": 16
        }
      ]
    },
    {
      "cell_type": "markdown",
      "source": [
        "It would not be a bad idea to visualize the results."
      ],
      "metadata": {
        "id": "MnTgyYOQuHMX"
      }
    },
    {
      "cell_type": "code",
      "source": [
        "results_df.plot.bar(color=['#929591', '#808080', '#E50000', '#C0C0C0'])\n",
        "plt.title(\"Summary of results\")\n",
        "plt.xlabel(\"Rank of a given model\")\n",
        "plt.xticks(rotation=0, horizontalalignment=\"center\")\n",
        "plt.ylabel(\"Square Root of Error\");"
      ],
      "metadata": {
        "colab": {
          "base_uri": "https://localhost:8080/",
          "height": 301
        },
        "id": "GJ6W0ZCUdqmB",
        "outputId": "f404d25f-51d6-4d37-bc92-483b8c246ac4"
      },
      "execution_count": null,
      "outputs": [
        {
          "output_type": "display_data",
          "data": {
            "text/plain": [
              "<Figure size 432x288 with 1 Axes>"
            ],
            "image/png": "[encoded data removed]"
          },
          "metadata": {}
        }
      ]
    },
    {
      "cell_type": "code",
      "source": [
        "plt.figure(figsize = (15,10))\n",
        "\n",
        "plt.subplot(2, 1, 1)\n",
        "brent.Close.plot(label = \"Front month prices\")\n",
        "plt.title(\"ICE Brent - historical oil prices\")\n",
        "plt.ylabel(\"USD / bbl\")\n",
        "plt.xlabel(\"Dates\")\n",
        "plt.xticks(rotation = 0)\n",
        "plt.legend()\n",
        "    \n",
        "plt.subplot(2, 3, 4)\n",
        "plt.hist(brent.Close, bins=100)\n",
        "plt.title(\"Histogram - absolute prices\")\n",
        "plt.ylabel(\"Count\")\n",
        "plt.xlabel(\"Price in USD/bbl\")\n",
        "\n",
        "plt.subplot(2, 3, 5)\n",
        "scipy.stats.probplot(brent.Close, plot = plt.subplot(2, 3, 5))\n",
        "plt.gca().get_lines()[0].set_marker('p')\n",
        "plt.gca().get_lines()[0].set_markerfacecolor('r')\n",
        "plt.gca().get_lines()[0].set_markersize(6.0)\n",
        "plt.gca().get_lines()[0].set_markeredgecolor(\"r\")\n",
        "plt.gca().get_lines()[1].set_linewidth(6.0)\n",
        "plt.gca().get_lines()[1].set_color(\"grey\")\n",
        "plt.gca().set_title(\"QQ / Probability Plot\")\n",
        "\n",
        "plt.subplot(2, 3, 6)\n",
        "plt.bar(results_df.index, results_df['naive'], color='#929591', label = 'naive', width=0.2)\n",
        "plt.bar(results_df.index+0.2, results_df['average'], color='#808080', label = 'average', width=0.2)\n",
        "plt.bar(results_df.index+0.4, results_df['sarima'], color='#E50000', label = 'sarima', width=0.2)\n",
        "plt.bar(results_df.index+0.6, results_df['ets'], color='#C0C0C0', label = 'ets', width=0.2)\n",
        "plt.legend()\n",
        "plt.title(\"Summary of results\")\n",
        "plt.xlabel(\"Rank of a given model\")\n",
        "plt.xticks(rotation=0, horizontalalignment=\"center\")\n",
        "plt.ylabel(\"Square Root of Error\")\n",
        "\n",
        "plt.tight_layout();"
      ],
      "metadata": {
        "colab": {
          "base_uri": "https://localhost:8080/",
          "height": 729
        },
        "id": "El70X0h9uce-",
        "outputId": "64d732b0-e514-4537-cb3f-e01270e73a1c"
      },
      "execution_count": 87,
      "outputs": [
        {
          "output_type": "display_data",
          "data": {
            "text/plain": [
              "<Figure size 1080x720 with 4 Axes>"
            ],
            "image/png": "[encoded data removed]"
          },
          "metadata": {}
        }
      ]
    },
    {
      "cell_type": "markdown",
      "source": [
        "**Key takeaways:**\n",
        "\n",
        "\n",
        "\n",
        "> * Brent crude oil prices on ICE resemble a random walk process\n",
        "> * Crude oil prices do not represent a stationary process but may be transformed into stationary form by first differencing\n",
        "> * Absolute prices tend to cluster either around 65 USD/bbl in low price environment or 110 USD/bbl in high price environment\n",
        "> * QQ plot clearly demonstrates that Brent prices do not follow normal distribution which prevents us from using its elegant statistics\n",
        "> * From the models tested SARIMA((1, 1, 1), (0, 0, 1, 5)) has beaten the baseline model but margin of improvement was not wide enough to argue that it shows skills\n",
        "\n",
        "In the next part we will attempt to verify whether deep learning holds any promise in modelling Brent prices...\n",
        "\n"
      ],
      "metadata": {
        "id": "i5Ie4APzARVf"
      }
    }
  ]
}